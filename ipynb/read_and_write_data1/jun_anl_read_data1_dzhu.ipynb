{
 "cells": [
  {
   "cell_type": "markdown",
   "metadata": {},
   "source": [
    "# **16 Чтение и запись данных. Часть 1 (лекции А. Джумурата)**"
   ]
  },
  {
   "cell_type": "markdown",
   "metadata": {},
   "source": [
    "Курс ведёт **Александр Джумурат** Data Scientist в ivi"
   ]
  },
  {
   "cell_type": "markdown",
   "metadata": {},
   "source": [
    "## **16.1** *Чтение текстовых и CSV файлов*\n",
    "\n",
    "### python text\n",
    "\n",
    "\n",
    "Если речь идёт о продакшн-системах машинного обучения, то данные могут приходить в форматах, мало пригодных для использования. Аналитику данных часто приходится иметь дело со слабо-структурированным текстом - например, текстовыми логами. Для открытия простых тестовых файлов (например, это может быть access-лог веб-сервера nginx) в python используются [файловые дескрипторы](https://docs.python.org/3/tutorial/inputoutput.html#reading-and-writing-files), которые рекомендуется использовать совместно с [менеджером контекста with](https://docs.python.org/3/reference/datamodel.html#context-managers). Файл, открытый на чтение предоставляет интерфейс итератора - а значит, может использоваться внутри цикла for:"
   ]
  },
  {
   "cell_type": "code",
   "execution_count": 1,
   "metadata": {},
   "outputs": [
    {
     "name": "stdout",
     "output_type": "stream",
     "text": [
      "192.168.101.4 - - [05/Feb/2019:21:36:07 +0300] \"GET /movie/is_personalizable/?history_type=watch&uid=5734473158358418&master_uid=5734473158358418 HTTP/1.1\" 200 75 \"-\" \"python-requests/2.0.0 CPython/2.7.3 Linux/4.4.0-47-generic\"\n",
      "\n",
      "192.168.102.3 - - [05/Feb/2019:21:36:07 +0300] \"POST /logger/content/time/ HTTP/1.1\" 404 305 \"-\" \"Mozilla/5.0 (Windows; U; en-US; rv:1.8.1.11; Gecko/20071129; Firefox/2.5.0) Maple 6.0.00067 Navi\"\n",
      "\n",
      "192.168.102.3 - - [05/Feb/2019:21:36:07 +0300] \"GET /movie/collection/items/recommendations/?uid=1623029046&master_uid=1623029046&collection_id=1525&subsite=141&app_version=10924&user_ab_bucket=10679 HTTP/1.1\" 200 535 \"-\" \"python-requests/2.0.0 CPython/2.7.3 Linux/3.13.0-24-generic\"\n",
      "\n",
      "192.168.7.46 - - [05/Feb/2019:21:36:07 +0300] \"GET /movie/recommendations/?uid=803285924&master_uid=803285924&iid=102751&user_ab_bucket=12493&top=30&scenario_id=ITEM_PAGE&app_version=15100&subsite=3021 HTTP/1.1\" 200 1392 \"-\" \"python-requests/2.0.0 CPython/2.7.3 Linux/3.13.0-24-generic\"\n",
      "\n",
      "\n",
      "\n"
     ]
    }
   ],
   "source": [
    "file_path = './data/uwsgi.log'\n",
    "\n",
    "with open(file_path, 'r') as f:\n",
    "    for row in f:\n",
    "        print(row)"
   ]
  },
  {
   "cell_type": "markdown",
   "metadata": {},
   "source": [
    "Этот минималисчтичный код открывает большие возможности для процессинга строк - например, с применением [регулярных выражений](https://docs.python.org/3/library/re.html). В процесс чтения файла часто встраивают код для обработки строк. Например, распечатаем IP-адреса, с которых производился доступ"
   ]
  },
  {
   "cell_type": "code",
   "execution_count": 2,
   "metadata": {},
   "outputs": [
    {
     "name": "stdout",
     "output_type": "stream",
     "text": [
      "IP adress: 192.168.101.4\n",
      "IP adress: 192.168.102.3\n",
      "IP adress: 192.168.102.3\n",
      "IP adress: 192.168.7.46\n"
     ]
    }
   ],
   "source": [
    "with open(file_path, 'r') as f:\n",
    "    for row in f:\n",
    "        # оператор split разделяет строку по пробелам\n",
    "        parted_row = row.split(' ')\n",
    "        if len(parted_row)>1:\n",
    "            print(\"IP adress: \" + parted_row[0])"
   ]
  },
  {
   "cell_type": "markdown",
   "metadata": {},
   "source": [
    "## **16.2-16.3** *CSV-файлы*\n",
    "\n",
    "Для чтения csv в Python существует два основных способа - [модуль csv](https://docs.python.org/3/library/csv.html), который доступен в стандартной библиотеке и библиотека для обработки табличных данных [pandas](https://pandas.pydata.org/).\n",
    "\n",
    "### python csv\n",
    "\n",
    "Базовый примитив в модуле csv - это [reader](https://docs.python.org/3/library/csv.html#csv.reader), который представляет собой итератор по строкам csv-файла. Более интересным объектом является [DictReader](https://docs.python.org/3/library/csv.html#csv.DictReader), который читает каждую строку как словарь, в котором ключом является имя столбца, а значением - элемент строки, находящийся в этом поле.\n",
    "\n",
    "Проведём разбор csv-файла с помощью xml.DictReader:"
   ]
  },
  {
   "cell_type": "code",
   "execution_count": 3,
   "metadata": {},
   "outputs": [
    {
     "name": "stdout",
     "output_type": "stream",
     "text": [
      "['Код', 'Тема', 'Компонент', 'Затрачено в часах']\n",
      "['HYDRA-535', 'Пробрасывать пользовательское распределение paid_types в ехидну', 'echidna', '1']\n",
      "['HYDRA-534', 'Гибридный рекомендатель с multi-channel feedback', 'hydra', '3']\n",
      "['HYDRA-532', 'Джоба в дженкинсе для расчёта динамики РВП', 'hydramatrices', '2']\n",
      "['HYDRA-531', 'Интеграция Hydra с Gamora', 'hydramagrices', '4']\n",
      "['HYDRA-530', 'Тестируем интеграцию с Jira', 'hydra', '2']\n",
      "['HYDRA-527', 'Поправить функцию _get_ui_rec_matrix', 'hydra', '10']\n",
      "['HYDRA-524', 'Оптимизировать матрицу ItemFactors', 'hydra', '2']\n",
      "['HYDRA-523', 'Сортировка ЦПБ', 'hydra', '5']\n",
      "['HYDRA-520', 'Закостылить параметр top', 'hydra', '2']\n",
      "['HYDRA-519', \"Сделать 'stable' конфигом по умолчанию в Гидре\", 'hydra', '2']\n",
      "['HYDRA-518', 'Неудобно тестировать запись в redis', 'hydramatrices', '1']\n",
      "['HYDRA-517', 'Улучшить рекомендации (первая итерация)', 'hydra', '7']\n",
      "['HYDRA-514', 'Добавить логирование в скрипты hydra/bin', 'hydramagrices', '5']\n",
      "['HYDRA-513', 'Поправить storage_backend', 'hydramatrices', '2']\n",
      "['HYDRA-511', 'Перемешивание рекомендаций для старых пользователей', 'hydra', '5']\n",
      "['HYDRA-510', 'Поправить скрипты bpr и и оценщика', 'hydra_utils', '16']\n",
      "['HYDRA-509', 'Динамические персональные рекомендации', 'hydra', '10']\n",
      "['HYDRA-507', 'Навести порядок в prepare_data_for_hydra', 'hydramagrices', '3']\n",
      "['HYDRA-506', 'Техдолг по логике /collection/recommendations/', 'hydra', '24']\n"
     ]
    }
   ],
   "source": [
    "import csv\n",
    "\n",
    "file_path = './data/task.csv'\n",
    "\n",
    "sample_row = None\n",
    "with open(file_path, newline='', encoding='utf8') as csvfile:\n",
    "    reader = csv.DictReader(csvfile)\n",
    "    print(reader.fieldnames)\n",
    "    for row in reader:\n",
    "        print([row[field_name] for field_name in reader.fieldnames])\n",
    "        sample_row = row"
   ]
  },
  {
   "cell_type": "code",
   "execution_count": 13,
   "metadata": {},
   "outputs": [
    {
     "data": {
      "text/plain": [
       "OrderedDict([('Код', 'HYDRA-506'),\n",
       "             ('Тема', 'Техдолг по логике /collection/recommendations/'),\n",
       "             ('Компонент', 'hydra'),\n",
       "             ('Затрачено в часах', '24')])"
      ]
     },
     "execution_count": 13,
     "metadata": {},
     "output_type": "execute_result"
    }
   ],
   "source": [
    "sample_row # каждая строка - как словарь OrderedDict"
   ]
  },
  {
   "cell_type": "markdown",
   "metadata": {},
   "source": [
    "Каждая строка представляет собой объект формата [OrderedDict](https://docs.python.org/3/library/collections.html#collections.OrderedDict)"
   ]
  },
  {
   "cell_type": "code",
   "execution_count": 15,
   "metadata": {},
   "outputs": [
    {
     "name": "stdout",
     "output_type": "stream",
     "text": [
      "<class 'collections.OrderedDict'>\n"
     ]
    }
   ],
   "source": [
    "print(type(row))"
   ]
  },
  {
   "cell_type": "markdown",
   "metadata": {},
   "source": [
    "### pandas csv\n",
    "\n",
    "Основная библиотека python для работы с табличными данными - это pandas. Она поддерживает большое количество трансформаций данных, включая такую экзотику как оконные функции. Ещё в этом модуле \"из коробки\" доступны функции для расчёта агрегированных статистик и богатые возможности графики.\n",
    "\n",
    "Единственный способ для чтения файлов - метод [read_csv](https://pandas.pydata.org/pandas-docs/stable/reference/api/pandas.read_csv.html), который содержит огромное количество параметров и позволяет гибко конфигурировать процесс чтения:"
   ]
  },
  {
   "cell_type": "code",
   "execution_count": 6,
   "metadata": {},
   "outputs": [
    {
     "name": "stdout",
     "output_type": "stream",
     "text": [
      "<class 'pandas.core.frame.DataFrame'>\n"
     ]
    },
    {
     "data": {
      "text/html": [
       "<div>\n",
       "<style scoped>\n",
       "    .dataframe tbody tr th:only-of-type {\n",
       "        vertical-align: middle;\n",
       "    }\n",
       "\n",
       "    .dataframe tbody tr th {\n",
       "        vertical-align: top;\n",
       "    }\n",
       "\n",
       "    .dataframe thead th {\n",
       "        text-align: right;\n",
       "    }\n",
       "</style>\n",
       "<table border=\"1\" class=\"dataframe\">\n",
       "  <thead>\n",
       "    <tr style=\"text-align: right;\">\n",
       "      <th></th>\n",
       "      <th>Код</th>\n",
       "      <th>Тема</th>\n",
       "      <th>Компонент</th>\n",
       "      <th>Затрачено в часах</th>\n",
       "    </tr>\n",
       "  </thead>\n",
       "  <tbody>\n",
       "    <tr>\n",
       "      <th>0</th>\n",
       "      <td>HYDRA-535</td>\n",
       "      <td>Пробрасывать пользовательское распределение pa...</td>\n",
       "      <td>echidna</td>\n",
       "      <td>1</td>\n",
       "    </tr>\n",
       "    <tr>\n",
       "      <th>1</th>\n",
       "      <td>HYDRA-534</td>\n",
       "      <td>Гибридный рекомендатель с multi-channel feedback</td>\n",
       "      <td>hydra</td>\n",
       "      <td>3</td>\n",
       "    </tr>\n",
       "    <tr>\n",
       "      <th>2</th>\n",
       "      <td>HYDRA-532</td>\n",
       "      <td>Джоба в дженкинсе для расчёта динамики РВП</td>\n",
       "      <td>hydramatrices</td>\n",
       "      <td>2</td>\n",
       "    </tr>\n",
       "    <tr>\n",
       "      <th>3</th>\n",
       "      <td>HYDRA-531</td>\n",
       "      <td>Интеграция Hydra с Gamora</td>\n",
       "      <td>hydramagrices</td>\n",
       "      <td>4</td>\n",
       "    </tr>\n",
       "    <tr>\n",
       "      <th>4</th>\n",
       "      <td>HYDRA-530</td>\n",
       "      <td>Тестируем интеграцию с Jira</td>\n",
       "      <td>hydra</td>\n",
       "      <td>2</td>\n",
       "    </tr>\n",
       "    <tr>\n",
       "      <th>5</th>\n",
       "      <td>HYDRA-527</td>\n",
       "      <td>Поправить функцию _get_ui_rec_matrix</td>\n",
       "      <td>hydra</td>\n",
       "      <td>10</td>\n",
       "    </tr>\n",
       "    <tr>\n",
       "      <th>6</th>\n",
       "      <td>HYDRA-524</td>\n",
       "      <td>Оптимизировать матрицу ItemFactors</td>\n",
       "      <td>hydra</td>\n",
       "      <td>2</td>\n",
       "    </tr>\n",
       "    <tr>\n",
       "      <th>7</th>\n",
       "      <td>HYDRA-523</td>\n",
       "      <td>Сортировка ЦПБ</td>\n",
       "      <td>hydra</td>\n",
       "      <td>5</td>\n",
       "    </tr>\n",
       "    <tr>\n",
       "      <th>8</th>\n",
       "      <td>HYDRA-520</td>\n",
       "      <td>Закостылить параметр top</td>\n",
       "      <td>hydra</td>\n",
       "      <td>2</td>\n",
       "    </tr>\n",
       "    <tr>\n",
       "      <th>9</th>\n",
       "      <td>HYDRA-519</td>\n",
       "      <td>Сделать 'stable' конфигом по умолчанию в Гидре</td>\n",
       "      <td>hydra</td>\n",
       "      <td>2</td>\n",
       "    </tr>\n",
       "  </tbody>\n",
       "</table>\n",
       "</div>"
      ],
      "text/plain": [
       "         Код                                               Тема  \\\n",
       "0  HYDRA-535  Пробрасывать пользовательское распределение pa...   \n",
       "1  HYDRA-534   Гибридный рекомендатель с multi-channel feedback   \n",
       "2  HYDRA-532         Джоба в дженкинсе для расчёта динамики РВП   \n",
       "3  HYDRA-531                          Интеграция Hydra с Gamora   \n",
       "4  HYDRA-530                        Тестируем интеграцию с Jira   \n",
       "5  HYDRA-527               Поправить функцию _get_ui_rec_matrix   \n",
       "6  HYDRA-524                 Оптимизировать матрицу ItemFactors   \n",
       "7  HYDRA-523                                     Сортировка ЦПБ   \n",
       "8  HYDRA-520                           Закостылить параметр top   \n",
       "9  HYDRA-519     Сделать 'stable' конфигом по умолчанию в Гидре   \n",
       "\n",
       "       Компонент  Затрачено в часах  \n",
       "0        echidna                  1  \n",
       "1          hydra                  3  \n",
       "2  hydramatrices                  2  \n",
       "3  hydramagrices                  4  \n",
       "4          hydra                  2  \n",
       "5          hydra                 10  \n",
       "6          hydra                  2  \n",
       "7          hydra                  5  \n",
       "8          hydra                  2  \n",
       "9          hydra                  2  "
      ]
     },
     "execution_count": 6,
     "metadata": {},
     "output_type": "execute_result"
    }
   ],
   "source": [
    "import pandas as pd\n",
    "\n",
    "file_path = './data/task.csv'\n",
    "\n",
    "df = pd.read_csv(file_path)\n",
    "print(type(df))\n",
    "df.head(10)"
   ]
  },
  {
   "cell_type": "markdown",
   "metadata": {},
   "source": [
    "Pandas позволяет проводить действия над csv более быстро. Объект DataFrame предоставляет широкие возможности по агрегации данных. например, вычислим среднее время затраценное на задачу внутри каждого компонента"
   ]
  },
  {
   "cell_type": "code",
   "execution_count": 7,
   "metadata": {},
   "outputs": [
    {
     "data": {
      "text/html": [
       "<div>\n",
       "<style scoped>\n",
       "    .dataframe tbody tr th:only-of-type {\n",
       "        vertical-align: middle;\n",
       "    }\n",
       "\n",
       "    .dataframe tbody tr th {\n",
       "        vertical-align: top;\n",
       "    }\n",
       "\n",
       "    .dataframe thead th {\n",
       "        text-align: right;\n",
       "    }\n",
       "</style>\n",
       "<table border=\"1\" class=\"dataframe\">\n",
       "  <thead>\n",
       "    <tr style=\"text-align: right;\">\n",
       "      <th></th>\n",
       "      <th>Затрачено в часах</th>\n",
       "    </tr>\n",
       "    <tr>\n",
       "      <th>Компонент</th>\n",
       "      <th></th>\n",
       "    </tr>\n",
       "  </thead>\n",
       "  <tbody>\n",
       "    <tr>\n",
       "      <th>echidna</th>\n",
       "      <td>1.000000</td>\n",
       "    </tr>\n",
       "    <tr>\n",
       "      <th>hydra</th>\n",
       "      <td>6.545455</td>\n",
       "    </tr>\n",
       "    <tr>\n",
       "      <th>hydra_utils</th>\n",
       "      <td>16.000000</td>\n",
       "    </tr>\n",
       "    <tr>\n",
       "      <th>hydramagrices</th>\n",
       "      <td>4.000000</td>\n",
       "    </tr>\n",
       "    <tr>\n",
       "      <th>hydramatrices</th>\n",
       "      <td>1.666667</td>\n",
       "    </tr>\n",
       "  </tbody>\n",
       "</table>\n",
       "</div>"
      ],
      "text/plain": [
       "               Затрачено в часах\n",
       "Компонент                       \n",
       "echidna                 1.000000\n",
       "hydra                   6.545455\n",
       "hydra_utils            16.000000\n",
       "hydramagrices           4.000000\n",
       "hydramatrices           1.666667"
      ]
     },
     "execution_count": 7,
     "metadata": {},
     "output_type": "execute_result"
    }
   ],
   "source": [
    "df.groupby(by=['Компонент'])['Затрачено в часах'].mean().to_frame().head()"
   ]
  },
  {
   "cell_type": "markdown",
   "metadata": {},
   "source": [
    "В более общем виде можно вызвать метод agg, куда передать агрегирующие функции (например, из numpy)"
   ]
  },
  {
   "cell_type": "code",
   "execution_count": 37,
   "metadata": {},
   "outputs": [
    {
     "data": {
      "text/html": [
       "<div>\n",
       "<style scoped>\n",
       "    .dataframe tbody tr th:only-of-type {\n",
       "        vertical-align: middle;\n",
       "    }\n",
       "\n",
       "    .dataframe tbody tr th {\n",
       "        vertical-align: top;\n",
       "    }\n",
       "\n",
       "    .dataframe thead th {\n",
       "        text-align: right;\n",
       "    }\n",
       "</style>\n",
       "<table border=\"1\" class=\"dataframe\">\n",
       "  <thead>\n",
       "    <tr style=\"text-align: right;\">\n",
       "      <th></th>\n",
       "      <th>mean_val</th>\n",
       "      <th>max_val</th>\n",
       "    </tr>\n",
       "    <tr>\n",
       "      <th>Компонент</th>\n",
       "      <th></th>\n",
       "      <th></th>\n",
       "    </tr>\n",
       "  </thead>\n",
       "  <tbody>\n",
       "    <tr>\n",
       "      <th>echidna</th>\n",
       "      <td>1.000000</td>\n",
       "      <td>1</td>\n",
       "    </tr>\n",
       "    <tr>\n",
       "      <th>hydra</th>\n",
       "      <td>6.545455</td>\n",
       "      <td>24</td>\n",
       "    </tr>\n",
       "    <tr>\n",
       "      <th>hydra_utils</th>\n",
       "      <td>16.000000</td>\n",
       "      <td>16</td>\n",
       "    </tr>\n",
       "    <tr>\n",
       "      <th>hydramagrices</th>\n",
       "      <td>4.000000</td>\n",
       "      <td>5</td>\n",
       "    </tr>\n",
       "    <tr>\n",
       "      <th>hydramatrices</th>\n",
       "      <td>1.666667</td>\n",
       "      <td>2</td>\n",
       "    </tr>\n",
       "  </tbody>\n",
       "</table>\n",
       "</div>"
      ],
      "text/plain": [
       "                mean_val  max_val\n",
       "Компонент                        \n",
       "echidna         1.000000        1\n",
       "hydra           6.545455       24\n",
       "hydra_utils    16.000000       16\n",
       "hydramagrices   4.000000        5\n",
       "hydramatrices   1.666667        2"
      ]
     },
     "execution_count": 37,
     "metadata": {},
     "output_type": "execute_result"
    }
   ],
   "source": [
    "import numpy as np\n",
    "\n",
    "# параметры аггрегации в виде dict\n",
    "agg_config = {\n",
    "    'Затрачено в часах': {\n",
    "        'mean_val': np.mean, 'max_val': np.max}\n",
    "}\n",
    "# применяем параметры к выборке\n",
    "df.groupby(\n",
    "    by=['Компонент']\n",
    ")[\n",
    "    ['Затрачено в часах']\n",
    "].aggregate(\n",
    "    agg_config\n",
    ")"
   ]
  },
  {
   "cell_type": "markdown",
   "metadata": {},
   "source": [
    "## **16.4** *Работа с данными формата HTML и XML*\n",
    "\n",
    "Для работы с XML и HTML можно использовать сторонний модуль [lxml](https://lxml.de/), который является обёрткой над С-библиотеками  **libxml2** и **libxslt**.\n",
    "\n",
    "Пример кода, который проводит разбор большого XML, можно посмотреть в проекте по парсингу [отчётов системы аналитики Tableau ](https://github.com/Dju999/TableauParser)\n",
    "\n",
    "### Работа с HTML\n",
    "\n",
    "Библиотека [lxml.html](https://lxml.de/lxmlhtml.html) позволяет обращаться к данным html с помощью XPath.\n",
    "\n",
    "Xpath - это декларативный язык для обращения к html данным. Он позволяет выбирать содержимое веб-страницы, выполняя навигацию по тегам, блокам div и т.д.\n",
    "\n",
    "Перед тем, как использовать XPath, придётся посмотреть [на html-код страницы](view-source:https://skillbox.ru/code) и найти интересующие нас тэги.\n",
    "\n",
    "Видно, что нам интересен тэг `menu__name` - названия крупных разделов в каталоге курса"
   ]
  },
  {
   "cell_type": "code",
   "execution_count": 71,
   "metadata": {},
   "outputs": [
    {
     "name": "stdout",
     "output_type": "stream",
     "text": [
      "Результат применения XPath:  [<Element a at 0x1aba20b3ef0>, <Element a at 0x1ab9f8d31d0>, <Element a at 0x1ab9f8d3130>, <Element a at 0x1aba27c8770>, <Element a at 0x1aba27c8cc0>]\n",
      "\n",
      "Список разделов:\n",
      "\n",
      "\n",
      "        Программирование\n",
      "      \n",
      "\n",
      "        Дизайн\n",
      "      \n",
      "\n",
      "        Маркетинг\n",
      "      \n",
      "\n",
      "        Управление\n",
      "      \n",
      "\n",
      "        Игры\n",
      "      \n"
     ]
    }
   ],
   "source": [
    "import requests\n",
    "from lxml import html\n",
    "\n",
    "page = requests.get('https://skillbox.ru').content.decode('UTF-8')\n",
    "\n",
    "html_tree = html.fromstring(page)\n",
    "\n",
    "items = html_tree.xpath(\"//a[contains(@class, '{}')]\".format('ui-tab ui-tab--link ui-tab--main'))\n",
    "\n",
    "\n",
    "print(\"Результат применения XPath: \", items)\n",
    "\n",
    "print(\"\\nСписок разделов:\\n\")\n",
    "for item in items:\n",
    "    print(item.text)"
   ]
  },
  {
   "cell_type": "markdown",
   "metadata": {},
   "source": [
    "Видим, что второй блок называется \"Программирование\" - то, что нужно. Достанем список курсов по программированию. Находим группу курсов, которая соответствуем каталогу \"Программирование\" со страницы [skillbox.ru/code](https://skillbox.ru/code)"
   ]
  },
  {
   "cell_type": "code",
   "execution_count": 19,
   "metadata": {},
   "outputs": [
    {
     "name": "stdout",
     "output_type": "stream",
     "text": [
      "Data Scientist\n",
      "Python-разработчик\n",
      "Java-разработчик\n",
      "Я — Веб-разработчик PRO\n",
      "Тестировщик\n",
      "Frontend-разработчик\n",
      "IOS-разработчик\n",
      "Тестирование мобильных приложений\n",
      "Android-разработчик\n",
      "Специалист по кибербезопасности\n",
      "1C-разработчик\n",
      "Разработчик на C++ с нуля\n",
      "Data Scientist: анализ данных\n",
      "Java-разработчик PRO\n",
      "DevOps-инженер PRO\n",
      "С#-разработчик\n",
      "Frontend-разработчик PRO\n",
      "PHP-разработчик\n",
      "Data Scientist: машинное обучение\n",
      "Go-разработчик\n",
      "IT-рекрутёр\n",
      "DevOps-инженер\n",
      "Разработчик мобильных приложений\n",
      "Fullstack-разработчик на Python\n",
      "Fullstack-разработчик на JavaScript\n",
      "Fullstack-разработчик на PHP\n",
      "Frontend-разработчик\n",
      "Старт в DevOps:\n",
      "системное администрирование\n",
      "для начинающих\n",
      "Веб-разработчик с нуля до PRO\n"
     ]
    }
   ],
   "source": [
    "import time\n",
    "from selenium import webdriver\n",
    "from selenium.webdriver.common.by import By\n",
    "from selenium.webdriver.support.ui import WebDriverWait\n",
    "\n",
    "options = webdriver.ChromeOptions()\n",
    "options.add_argument('headless') # опция для работы в безголовом режиме\n",
    "driver = webdriver.Chrome(options=options) # загрузка драйврера\n",
    "wait = WebDriverWait(driver, 15)  # задаем ожидание (н-р до появления элемента)\n",
    "driver.get('https://skillbox.ru/code')  # переходим на страницу\n",
    "button = driver.find_element(By.XPATH, '//div[2]/section[1]/button') # поиск кнопки\n",
    "driver.execute_script(\"window.scrollTo(0, 2000)\") # прокрутка страницы вниз\n",
    "button.click()\n",
    "button.click() # два клика по кнопке для развёртывания списка курсов\n",
    "time.sleep(3) # ожидание перед парсингом 3 сек. чтобы страница загрузилась\n",
    "page = driver.page_source # загрузка страницы из вебдрайвера\n",
    "driver.close() # закрываем драйвер\n",
    "\n",
    "# page = requests.get('https://skillbox.ru/code').content.decode('UTF-8')\n",
    "html_tree = html.fromstring(page)\n",
    "\n",
    "items_list = html_tree.xpath(\"//a[contains(@class, '--profession')]/div/h3[@class='{}']\"\n",
    "                             .format('card__title h h--4'))\n",
    "\n",
    "# button = html_tree.xpath('//div[2]/section[1]/button/text()')[0]\n",
    "\n",
    "for item in items_list:\n",
    "    print(item.text.replace('\\u200c', '').strip(' '))"
   ]
  },
  {
   "cell_type": "markdown",
   "metadata": {},
   "source": [
    "Чтобы получить путь `XPath` до любого элемента, надо:\n",
    "    \n",
    "* Открыть в браузере Google Chrome страничку с курсами `https://skillbox.ru/courses/code/`\n",
    "* Открыть в настройках пункт **Инструменты разработчика**, должна получиться вот такая картинка"
   ]
  },
  {
   "cell_type": "markdown",
   "metadata": {},
   "source": [
    "Скриншот из инспектора в браузере:\n",
    "![](https://sun9-13.userapi.com/c858420/v858420287/1ca12d/nPo2S99Fay4.jpg)"
   ]
  },
  {
   "cell_type": "markdown",
   "metadata": {},
   "source": [
    "* найти в открывшемся списке элемент, до которого вы хотите посмотреть путь **XPath** (он будет подсвечивать на html странице)\n",
    "* нажать на значок из трёх точек `...` рядом с этим элементом\n",
    "* из выпавшего списка выбрать пункт **Скопировать XPath**"
   ]
  },
  {
   "cell_type": "markdown",
   "metadata": {},
   "source": [
    "![xpath](img/xpath.png)"
   ]
  },
  {
   "cell_type": "markdown",
   "metadata": {},
   "source": [
    "## **16.5** *Работа с данными формата XML*\n",
    "\n",
    "### Описание формата XML\n",
    "\n",
    "XML (eXtensible Markup Language) — [расширяемый язык разметки](https://ru.wikipedia.org/wiki/XML) текстовых документов. Организация Консорциум Всемирной паутины (W3C) занимается разработкой [стандарта XML](https://www.w3.org/XML/)\n",
    "\n",
    "Пример документа в формате XML:\n",
    "<pre> \n",
    "<code>\n",
    "&lt; ?xml version=\"1.0\" ?&gt;\n",
    "&lt; contentTitles reminder=\"15\"&gt;\n",
    "    &lt; content &gt;\n",
    "        &lt; releaseDate &gt; 1181251680 &lt; /releaseDate &gt;\n",
    "        &lt; id &gt; 040000008200E000 &lt; /id &gt;\n",
    "    &lt; /content &gt;\n",
    "&lt; /contentTitles &gt;\n",
    "</code>\n",
    "</pre>\n",
    "\n",
    "Видно, что файл содержит версионирование ```xml_version=\"1.0\"```, а так же имеет иерархическую структуру. Минимальный логический элемент XML называется **сущностью** (англ. entity). У *сущности* есть имя (тест, заключённый в угловые скобки) и значение (англ. **value**) - всё, что содержится внутри сущности. Одним из подмножеств XML является язык разметки web-страниц *HTML*. Сущности HTML зафиксированы в стандарте html, а сущности XML нигде не зафиксированы - их определяет для себя разработчик в кажом конкретном случае (пример выше - xml-документ, который описывает некоторые свойства контента а базе данных онлайн-кинотеатра, например дату выпуска *releaseDate* и внутренний идентификатор *id*)\n",
    "\n",
    "Для разбора XML тоже можно использовать XPath"
   ]
  },
  {
   "cell_type": "code",
   "execution_count": 7,
   "metadata": {},
   "outputs": [
    {
     "name": "stdout",
     "output_type": "stream",
     "text": [
      "The Shawshank Redemption\n",
      "The Dark Knight\n"
     ]
    }
   ],
   "source": [
    "from xml.etree import ElementTree\n",
    "\n",
    "file_path = './data/xml_content_description.xml'\n",
    "\n",
    "with open(file_path) as f:\n",
    "    \n",
    "    doc = ElementTree.parse(f)\n",
    "    content_titles = doc.getroot()\n",
    "    for movie in content_titles.findall(\"./Content/content_title/[genre='drama']\"):\n",
    "        print(movie.find(\"./title\").text)"
   ]
  },
  {
   "cell_type": "markdown",
   "metadata": {},
   "source": [
    "## **16.6** *Работа с данными формата XLSX*\n",
    "\n",
    "Неплохой библиотекой для работы с форматом xlsx является [открытый проект openpyxl](https://openpyxl.readthedocs.io/en/stable/).\n",
    "\n",
    "Для установки пакета в Anaconda выполните:\n",
    "<pre>\n",
    "conda install -c anaconda openpyxl\n",
    "</pre>\n",
    "\n",
    "\n",
    "Для примера загрузим программу этого курса. Библиотека оперирует стандартными для экселя примитивами: workbook, worksheet, row, column и позволяет итеративно выполнять обход ячеек."
   ]
  },
  {
   "cell_type": "code",
   "execution_count": 12,
   "metadata": {},
   "outputs": [
    {
     "name": "stdout",
     "output_type": "stream",
     "text": [
      "wb = <class 'openpyxl.workbook.workbook.Workbook'>\n",
      "\n",
      "\n",
      "Читаем excel построчно:\n",
      "\n",
      "['Модуль', 'Урок']\n",
      "['Введение в анализ данных', 'Что такое Data Science?']\n",
      "[None, 'Процесс анализа данных']\n",
      "['Введение в Python', 'Почему Python?']\n",
      "[None, 'Установка окружения']\n",
      "[None, 'Домашняя работа']\n",
      "['Библиотека NumPy (ч.1)', 'Основные идеи NumPy']\n",
      "[None, 'Ndarray - базовая концепция и операции']\n",
      "[None, 'Базовые операции']\n",
      "[None, 'Работа с массивами']\n",
      "[None, 'Условия и булевы массивы']\n",
      "[None, 'Домашняя работа']\n"
     ]
    }
   ],
   "source": [
    "from openpyxl import load_workbook\n",
    "\n",
    "file_path = './data/Analytics_Junior.xlsx'\n",
    "\n",
    "wb = load_workbook(file_path)\n",
    "\n",
    "print(\"wb = %s\" % type(wb))\n",
    "\n",
    "first_worksheet = wb.worksheets[0]\n",
    "first_row = first_worksheet[1]\n",
    "header = [i.value for i in first_row if i.value]\n",
    "\n",
    "print(\"\\n\\nЧитаем excel построчно:\\n\")\n",
    "print(header)\n",
    "for row in first_worksheet.iter_rows(min_row=2, max_row=12):\n",
    "    if row[len(header)-1].value:\n",
    "        print([cell.value for cell in row[:len(header)]])"
   ]
  },
  {
   "cell_type": "markdown",
   "metadata": {},
   "source": [
    "___\n",
    "\n",
    "# Дополнительное чтение\n",
    "\n",
    "Кроме мощной бибилиотеку lxml средства для обработки структурированных текстовых файлов есть и в самом Python.\n",
    "\n",
    "Этот раздел просто для ознакомления, Домашки по нему не будет\n",
    "\n",
    "## *Альтернативы XPath*\n",
    "\n",
    "Форматы документов XML и HTML представляют собой древовидные структуры. Кроме XPath для их обработки можно применять подход, свойственный для древовидых структур данных - рекурсивно спуститься вниз от корня к листям и проделать какие-то действия: например, найти нужный тэг и применить внутри него XPath\n",
    "\n",
    "### python lxml.html\n",
    "\n",
    "Тут парсинг производится с помощью метода **fromstring**:"
   ]
  },
  {
   "cell_type": "code",
   "execution_count": 28,
   "metadata": {},
   "outputs": [],
   "source": [
    "import requests\n",
    "from lxml import html, etree\n",
    "\n",
    "# hparser = etree.HTMLParser(encoding='utf-8')\n",
    "\n",
    "page = requests.get('https://skillbox.ru/courses/code').content.decode('utf-8')\n",
    "\n",
    "tree = html.fromstring(page)"
   ]
  },
  {
   "cell_type": "code",
   "execution_count": 29,
   "metadata": {},
   "outputs": [
    {
     "name": "stdout",
     "output_type": "stream",
     "text": [
      "title\n",
      "Skillbox – онлайн-университет, один из лидеров российского рынка онлайн-образования.\n",
      "meta\n",
      "\n",
      "meta\n",
      "\n",
      "meta\n",
      "\n",
      "meta\n",
      "\n",
      "meta\n",
      "\n",
      "meta\n",
      "\n",
      "meta\n",
      "\n",
      "meta\n",
      "\n",
      "meta\n",
      "\n"
     ]
    }
   ],
   "source": [
    "root = tree.getchildren()\n",
    "\n",
    "cnt = 0\n",
    "for tag in root:\n",
    "    for subtag in tag.getchildren():\n",
    "        if cnt < 10:\n",
    "            print(subtag.tag)\n",
    "            print(subtag.text_content())\n",
    "            cnt += 1\n",
    "        else:\n",
    "            pass"
   ]
  },
  {
   "cell_type": "markdown",
   "metadata": {},
   "source": [
    "## *XML в стандартной библиотеке python*\n",
    "\n",
    "### xml\n",
    "\n",
    "В стандартную библиотеку python входит [модуль xml](https://docs.python.org/3.7/library/xml.html), который реализует несколько API для чтения XML - среди них наиболее популярными являются [minidom](https://docs.python.org/3.5/library/xml.dom.minidom.html#module-xml.dom.minidom)(которая является урезанной реализацией [стандарта DOM](https://www.w3.org/DOM/) ) и [ElementTree](https://docs.python.org/3.5/library/xml.etree.elementtree.html#module-xml.etree.ElementTree), которая реализует другой алгоритм чтения и создания xml. В ранних версиях python эти API сильно различались по [спискам существующих в них уязвимостей](https://docs.python.org/3.7/library/xml.html#xml-vulnerabilities), но начиная с версии python3.7 сильной разницы между ними нет (кроме, собственно, методов API).\n",
    "\n",
    "Для примера произведём разбор одного и того же файла помощью этих двух модулей. Решим простую задачу: обойдём xml и составим документ в формате json соответсвия id контента и даты его длительности."
   ]
  },
  {
   "cell_type": "code",
   "execution_count": 14,
   "metadata": {},
   "outputs": [
    {
     "name": "stdout",
     "output_type": "stream",
     "text": [
      "[{'title': 'The Shawshank Redemption', 'duration': '8520'}, {'title': 'The Dark Knight', 'duration': '9120'}]\n"
     ]
    }
   ],
   "source": [
    "import xml.dom.minidom\n",
    "from xml.etree import ElementTree\n",
    "\n",
    "file_path = './data/xml_content_description.xml'\n",
    "\n",
    "content_descriptions_minidom = []\n",
    "\n",
    "with open(file_path) as f:\n",
    "    \n",
    "    doc = xml.dom.minidom.parse(f)\n",
    "    for content_title in doc.getElementsByTagName('content_title'):\n",
    "        try:\n",
    "            content_descriptions_minidom += [\n",
    "                {\"title\": content_title.getElementsByTagName('title')[0].firstChild.data,\n",
    "                \"duration\": content_title.getElementsByTagName('duration')[0].firstChild.data}\n",
    "            ]\n",
    "        except IndexError:\n",
    "            pass\n",
    "\n",
    "print(content_descriptions_minidom)"
   ]
  }
 ],
 "metadata": {
  "kernelspec": {
   "display_name": "Python 3",
   "language": "python",
   "name": "python3"
  },
  "language_info": {
   "codemirror_mode": {
    "name": "ipython",
    "version": 3
   },
   "file_extension": ".py",
   "mimetype": "text/x-python",
   "name": "python",
   "nbconvert_exporter": "python",
   "pygments_lexer": "ipython3",
   "version": "3.8.3"
  }
 },
 "nbformat": 4,
 "nbformat_minor": 4
}
