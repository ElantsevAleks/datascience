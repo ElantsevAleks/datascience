{
 "cells": [
  {
   "cell_type": "markdown",
   "metadata": {},
   "source": [
    "# **5 Циклы и условия**"
   ]
  },
  {
   "cell_type": "markdown",
   "metadata": {},
   "source": [
    "## **5.1** *Поток выполнения программы*"
   ]
  },
  {
   "cell_type": "code",
   "execution_count": 23,
   "metadata": {},
   "outputs": [
    {
     "name": "stdout",
     "output_type": "stream",
     "text": [
      "дратути!\n",
      "1462\n",
      "дотвидания!\n"
     ]
    }
   ],
   "source": [
    "print('дратути!')\n",
    "x = 34\n",
    "y = 43\n",
    "print(x * y)\n",
    "print('дотвидания!')"
   ]
  },
  {
   "cell_type": "markdown",
   "metadata": {},
   "source": [
    "## **5.2** *Как интерпретатор показывает переменные*"
   ]
  },
  {
   "cell_type": "code",
   "execution_count": 25,
   "metadata": {},
   "outputs": [
    {
     "name": "stdout",
     "output_type": "stream",
     "text": [
      "дратути\n",
      "Общий раст моей семьи 554\n",
      "дотвидания!\n"
     ]
    }
   ],
   "source": [
    "print('дратути')\n",
    "my_family_height = [\n",
    "    ['мама', 168],\n",
    "    ['папа', 186],\n",
    "    ['я', 200],\n",
    "]\n",
    "total_height = my_family_height[0][1]\n",
    "total_height += my_family_height[1][1]\n",
    "total_height += my_family_height[2][1]\n",
    "print('Общий рост моей семьи', total_height)\n",
    "print('дотвидания!')"
   ]
  },
  {
   "cell_type": "markdown",
   "metadata": {},
   "source": [
    "## **5.3** *Условный оператор*"
   ]
  },
  {
   "cell_type": "markdown",
   "metadata": {},
   "source": [
    "### *Оператор если (if)*"
   ]
  },
  {
   "cell_type": "code",
   "execution_count": 2,
   "metadata": {},
   "outputs": [
    {
     "name": "stdout",
     "output_type": "stream",
     "text": [
      "дратути\n",
      "дотвидания\n"
     ]
    }
   ],
   "source": [
    "x = 1\n",
    "print('дратути')\n",
    "if x < 0:\n",
    "    print('Меньше нуля')\n",
    "print('дотвидания')"
   ]
  },
  {
   "cell_type": "code",
   "execution_count": 36,
   "metadata": {},
   "outputs": [],
   "source": [
    "# операторы сравнения:\n",
    "# > - больше\n",
    "# < - меньше\n",
    "# >= - больше или равно\n",
    "# <= - меньше или равно\n",
    "# == - тождественно равно (как истина или ложь)\n",
    "# != - не равно\n",
    "\n",
    "# группировка условий:\n",
    "# xor - или\n",
    "# and - и \n",
    "# not - не ## но не злоупотреблять этими группировками! Не больше одной группировки. Лучше разбить if-ами"
   ]
  },
  {
   "cell_type": "code",
   "execution_count": 42,
   "metadata": {},
   "outputs": [
    {
     "name": "stdout",
     "output_type": "stream",
     "text": [
      "a > b\n",
      "успех\n",
      "успех\n",
      "успех\n",
      "успех\n"
     ]
    }
   ],
   "source": [
    "# примеры:\n",
    "a, b = 10, 5\n",
    "if a > b:\n",
    "    print('a > b')\n",
    "if a > b and a > 0:\n",
    "    print('успех')\n",
    "if (a > b) and (a > 0 or b < 1000):\n",
    "    print('успех')\n",
    "if 5 < b and b < 10:\n",
    "    print('успех')\n",
    "## или лучше так:\n",
    "if 5 < b < 10:\n",
    "    print('успех')"
   ]
  },
  {
   "cell_type": "code",
   "execution_count": 11,
   "metadata": {},
   "outputs": [
    {
     "name": "stdout",
     "output_type": "stream",
     "text": [
      "успех\n",
      "успех\n",
      "успех\n"
     ]
    }
   ],
   "source": [
    "# можно сравнивать - числа, строки, списки, вообще переменные:\n",
    "if '34' > '123':\n",
    "    print('успех')\n",
    "if '121' > '12':\n",
    "    print('успех')\n",
    "if [1,2] > [1,1]:\n",
    "    print('успех')"
   ]
  },
  {
   "cell_type": "code",
   "execution_count": 50,
   "metadata": {
    "collapsed": true,
    "jupyter": {
     "outputs_hidden": true
    }
   },
   "outputs": [
    {
     "ename": "TypeError",
     "evalue": "'>' not supported between instances of 'str' and 'int'",
     "output_type": "error",
     "traceback": [
      "\u001b[1;31m---------------------------------------------------------------------------\u001b[0m",
      "\u001b[1;31mTypeError\u001b[0m                                 Traceback (most recent call last)",
      "\u001b[1;32m<ipython-input-50-96433529b583>\u001b[0m in \u001b[0;36m<module>\u001b[1;34m\u001b[0m\n\u001b[0;32m      1\u001b[0m \u001b[1;31m# нельзя сравнивать - разные типы:\u001b[0m\u001b[1;33m\u001b[0m\u001b[1;33m\u001b[0m\u001b[1;33m\u001b[0m\u001b[0m\n\u001b[1;32m----> 2\u001b[1;33m \u001b[1;32mif\u001b[0m \u001b[1;34m'6'\u001b[0m \u001b[1;33m>\u001b[0m \u001b[1;36m5\u001b[0m\u001b[1;33m:\u001b[0m\u001b[1;33m\u001b[0m\u001b[1;33m\u001b[0m\u001b[0m\n\u001b[0m\u001b[0;32m      3\u001b[0m     \u001b[0mprint\u001b[0m\u001b[1;33m(\u001b[0m\u001b[1;34m'успех'\u001b[0m\u001b[1;33m)\u001b[0m\u001b[1;33m\u001b[0m\u001b[1;33m\u001b[0m\u001b[0m\n\u001b[0;32m      4\u001b[0m \u001b[1;32mif\u001b[0m \u001b[1;33m[\u001b[0m\u001b[1;36m5\u001b[0m\u001b[1;33m,\u001b[0m\u001b[1;36m6\u001b[0m\u001b[1;33m]\u001b[0m \u001b[1;33m>\u001b[0m \u001b[1;36m5\u001b[0m\u001b[1;33m:\u001b[0m\u001b[1;33m\u001b[0m\u001b[1;33m\u001b[0m\u001b[0m\n\u001b[0;32m      5\u001b[0m     \u001b[0mprint\u001b[0m\u001b[1;33m(\u001b[0m\u001b[1;34m'успех'\u001b[0m\u001b[1;33m)\u001b[0m\u001b[1;33m\u001b[0m\u001b[1;33m\u001b[0m\u001b[0m\n",
      "\u001b[1;31mTypeError\u001b[0m: '>' not supported between instances of 'str' and 'int'"
     ]
    }
   ],
   "source": [
    "# нельзя сравнивать - разные типы:\n",
    "if '6' > 5:\n",
    "    print('успех')\n",
    "if [5,6] > 5:\n",
    "    print('успех')"
   ]
  },
  {
   "cell_type": "code",
   "execution_count": 51,
   "metadata": {},
   "outputs": [
    {
     "name": "stdout",
     "output_type": "stream",
     "text": [
      "успех\n"
     ]
    }
   ],
   "source": [
    "# НО!\n",
    "if '6' != 5: # неравенство между двумя разными типами по умолчанию верно\n",
    "    print('успех')"
   ]
  },
  {
   "cell_type": "code",
   "execution_count": 54,
   "metadata": {},
   "outputs": [
    {
     "name": "stdout",
     "output_type": "stream",
     "text": [
      "успех\n"
     ]
    }
   ],
   "source": [
    "a = -1\n",
    "if a:\n",
    "    print('успех')"
   ]
  },
  {
   "cell_type": "code",
   "execution_count": 13,
   "metadata": {},
   "outputs": [
    {
     "name": "stdout",
     "output_type": "stream",
     "text": [
      "успех\n"
     ]
    }
   ],
   "source": [
    "# со словарями также\n",
    "my_list = [1,2,3]\n",
    "if my_list:\n",
    "    print('успех')"
   ]
  },
  {
   "cell_type": "markdown",
   "metadata": {},
   "source": [
    "### *Блок иначе (if / else)*"
   ]
  },
  {
   "cell_type": "code",
   "execution_count": 58,
   "metadata": {},
   "outputs": [],
   "source": [
    "# Блок иначе:\n",
    "# if <условие>:\n",
    "#    <блок кода 1>\n",
    "# else:\n",
    "#    <блок кода 2>"
   ]
  },
  {
   "cell_type": "code",
   "execution_count": 13,
   "metadata": {},
   "outputs": [
    {
     "name": "stdout",
     "output_type": "stream",
     "text": [
      "драути!\n",
      "больше нуля\n",
      "дотвидания!\n"
     ]
    }
   ],
   "source": [
    "print('драути!')\n",
    "x = 38\n",
    "if x < 0:\n",
    "    print('меньше нуля')\n",
    "else:\n",
    "    print('больше нуля')\n",
    "print('дотвидания!')"
   ]
  },
  {
   "cell_type": "markdown",
   "metadata": {},
   "source": [
    "### *Множественный выбор (аналог CASE) (if / elif / else)*"
   ]
  },
  {
   "cell_type": "code",
   "execution_count": 63,
   "metadata": {},
   "outputs": [],
   "source": [
    "# if <условие>:\n",
    "#    <блок кода 1>\n",
    "# elif <условие>:\n",
    "#    <блок кода 2>\n",
    "# elif <условие>:\n",
    "#    <блок кода 3>\n",
    "# else:\n",
    "#    <блок кода 4>"
   ]
  },
  {
   "cell_type": "code",
   "execution_count": 65,
   "metadata": {},
   "outputs": [
    {
     "name": "stdout",
     "output_type": "stream",
     "text": [
      "дратути!\n",
      "Больше нуля, но не равно единице\n",
      "дотвидания!\n"
     ]
    }
   ],
   "source": [
    "# Пример:\n",
    "print('дратути!')\n",
    "if x < 0:\n",
    "    print('Меньше нуля')\n",
    "elif x == 0:\n",
    "    print('Равно нулю')\n",
    "elif x == 1:\n",
    "    print('Равно единице')\n",
    "else:\n",
    "    print('Больше нуля, но не равно единице')\n",
    "print('дотвидания!')"
   ]
  },
  {
   "cell_type": "code",
   "execution_count": 14,
   "metadata": {},
   "outputs": [
    {
     "name": "stdout",
     "output_type": "stream",
     "text": [
      "дратути!\n",
      "Больше нуля, но не равно единице\n",
      "дотвидания!\n"
     ]
    }
   ],
   "source": [
    "# блок кода - может быть много операторов и даже вложенные\n",
    "print('дратути!')\n",
    "if x < 0:\n",
    "    print('Меньше нуля')\n",
    "    result = -1\n",
    "elif x == 0:\n",
    "    print('Равно нулю')\n",
    "    result = 0\n",
    "elif x == 1:\n",
    "    print('Равно единице')\n",
    "    result = 1\n",
    "else:\n",
    "    print('Больше нуля, но не равно единице')\n",
    "    if x == 42:\n",
    "        print('Вау!')\n",
    "    result = 42\n",
    "print('дотвидания!')"
   ]
  },
  {
   "cell_type": "markdown",
   "metadata": {},
   "source": [
    "### *Трёхместное выражение if / else*"
   ]
  },
  {
   "cell_type": "code",
   "execution_count": 61,
   "metadata": {},
   "outputs": [
    {
     "data": {
      "text/plain": [
       "'Больше нуля'"
      ]
     },
     "execution_count": 61,
     "metadata": {},
     "output_type": "execute_result"
    }
   ],
   "source": [
    "# Трехместное выражение - короткая запись для простого случая\n",
    "\n",
    "# if x < 0:\n",
    "#     result = 'Меньше нуля'\n",
    "# else:\n",
    "#     result = 'Больше нуля'\n",
    "result = 'Меньше нуля' if x < 0 else 'Больше нуля'\n",
    "result"
   ]
  },
  {
   "cell_type": "markdown",
   "metadata": {},
   "source": [
    "## **5.4** *Как работает оператор if*"
   ]
  },
  {
   "cell_type": "markdown",
   "metadata": {},
   "source": [
    "### *Мультик про Миньона*"
   ]
  },
  {
   "cell_type": "markdown",
   "metadata": {},
   "source": [
    "## **5.5** *Стиль кода. Часть 1*"
   ]
  },
  {
   "cell_type": "code",
   "execution_count": 75,
   "metadata": {},
   "outputs": [
    {
     "name": "stdout",
     "output_type": "stream",
     "text": [
      "Х больше нуля\n",
      "Результат -19\n"
     ]
    }
   ],
   "source": [
    "# блоки кода\n",
    "\n",
    "x, y = 10, 29\n",
    "\n",
    "if x < 0:\n",
    "    print('Х меньше нуля')\n",
    "    z = x**2 + y\n",
    "else:\n",
    "    print('Х больше нуля') ## отступ 4 пробела, все строки внутри блока выровнены\n",
    "    z = x - y\n",
    "print('Результат', z)"
   ]
  },
  {
   "cell_type": "code",
   "execution_count": 76,
   "metadata": {},
   "outputs": [],
   "source": [
    "# ср. с С++\n",
    "\n",
    "# if (x < 0) { printf('Меньше нуля\\n'); z = x**2 + y; } else { printf('Больше нуля\\n'); z = x - y; } printf('Получается\\n', z)"
   ]
  },
  {
   "cell_type": "code",
   "execution_count": 77,
   "metadata": {},
   "outputs": [
    {
     "name": "stdout",
     "output_type": "stream",
     "text": [
      "Enter your name >>>Mia\n",
      "Hi, anonymous!\n"
     ]
    }
   ],
   "source": [
    "# вложенные блоки кода\n",
    "\n",
    "name = input('Enter your name >>>')\n",
    "if name == 'Ola':\n",
    "    opponent = 'Ola'\n",
    "    print('Hi, Ola!')\n",
    "else:\n",
    "    if name == 'Sofi':\n",
    "        opponent = 'Sofi'\n",
    "        print('Hi, Sofi!')\n",
    "    else:\n",
    "        if name == 'Katy':\n",
    "            opponent = 'Katy'\n",
    "            print('Hi, Katy!')\n",
    "        else:\n",
    "            opponent = 'anonymous'\n",
    "            print('Hi, anonymous!')"
   ]
  },
  {
   "cell_type": "code",
   "execution_count": 78,
   "metadata": {},
   "outputs": [],
   "source": [
    "# оператор pass (пропуск условия)\n",
    "\n",
    "if x < 0:\n",
    "    if y > 0:\n",
    "        #z = -x + y\n",
    "        pass\n",
    "    else:\n",
    "        z = -x - y\n",
    "else:\n",
    "    z = x + y"
   ]
  },
  {
   "cell_type": "code",
   "execution_count": null,
   "metadata": {},
   "outputs": [],
   "source": [
    "# соглашения о стиле кода\n",
    "# PEP8 (Python Enhancement Proposal 8) - описан \"правильный\" стиль программирования в пайтон\n",
    "# https://www.python.org/dev/peps/pep-0008/\n",
    "\n",
    "# 4 пробела на каждый уровень отступа\n",
    "\n",
    "# Максимальная длина строки - 120 символов! Иначе получим коричневый говнокод!)))"
   ]
  },
  {
   "cell_type": "code",
   "execution_count": null,
   "metadata": {},
   "outputs": [],
   "source": [
    "# пробелы в операторах\n",
    "\n",
    "x =2\n",
    "y= x* x+ 1\n",
    "is_big=x   >=3000\n",
    "\n",
    "x = my_poem   [-1]\n",
    "print    (x)\n",
    "my_list= [2,3 ,4,   5,6,]\n",
    "\n",
    "# убираем при помощи опции: Menu->Code->Reformat Code (Ctrl+Alt+L)"
   ]
  },
  {
   "cell_type": "code",
   "execution_count": null,
   "metadata": {},
   "outputs": [],
   "source": [
    "# reformat кода\n",
    "\n",
    "x,y = 3,8\n",
    "\n",
    "if x==3    :\n",
    "    print   (42)\n",
    "\n",
    "if x<0 :\n",
    "    if   y > 0:\n",
    "        print( 'налево!')\n",
    "    else:\n",
    "        print(                    'направо!')\n",
    "else       :\n",
    "    print(\n",
    "      'стой!')"
   ]
  },
  {
   "cell_type": "markdown",
   "metadata": {},
   "source": [
    "## **5.6** *Стиль кода. Часть 2*"
   ]
  },
  {
   "cell_type": "code",
   "execution_count": null,
   "metadata": {},
   "outputs": [],
   "source": [
    "# названия переменных\n",
    "\n",
    "count_of_my_pets = 34\n",
    "if count_of_my_pets > 10:\n",
    "    print('I need more space for my pets!')\n",
    "\n",
    "my_favorite_pets_and_bird = ['cat', 'wolf', 'ostrich']\n",
    "if 'lion' in my_favorite_pets_and_bird:\n",
    "    print('Wow!')\n",
    "\n",
    "MyFavoritePetsAndBirds = ['cat', 'wolf', 'ostrich']\n",
    "# но такой стиль используется для названий классов"
   ]
  },
  {
   "cell_type": "code",
   "execution_count": null,
   "metadata": {},
   "outputs": [],
   "source": [
    "# рекомендации PEP8\n",
    "\n",
    "# b (одиночная маленькая буква)\n",
    "# B (одиночная заглавная буква)\n",
    "# но лучше использовать только такие однобуквенные имена\n",
    "#   i j k - для циклов\n",
    "#   x y z - для координат\n",
    "\n",
    "# никогда не используйте в названиях переменных одиночные l, I, O  !\n",
    "l = 34\n",
    "I = 43\n",
    "if l > I:\n",
    "    print()\n",
    "O = 9\n",
    "if O > 0:\n",
    "    print()"
   ]
  },
  {
   "cell_type": "code",
   "execution_count": null,
   "metadata": {},
   "outputs": [],
   "source": [
    "# lowercase (слово в нижнем регистре)\n",
    "# lower_case_with_underscores (слова из маленьких букв с подчеркиваниями)\n",
    "# UPPERCASE (заглавные буквы)\n",
    "# UPPERCASE_WITH_UNDERSCORES (слова из заглавных букв с подчеркиваниями)\n",
    "\n",
    "# CapitalizedWords (слова с заглавными буквами, или CapWords, или CamelCase).\n",
    "#   Замечание: когда вы используете аббревиатуры в таком стиле, пишите все буквы аббревиатуры заглавными —\n",
    "#   HTTPServerError лучше, чем HttpServerError.\n",
    "\n",
    "# mixedCase (отличается от CapitalizedWords тем, что первое слово начинается с маленькой буквы)\n",
    "# Capitalized_Words_With_Underscores (слова с заглавными буквами и подчеркиваниями — уродливо!)\n",
    "\n",
    "\n",
    "# автоматическое переименование в PyCharm и подсказки - вам не нужно набирать длинные названия переменных"
   ]
  },
  {
   "cell_type": "code",
   "execution_count": null,
   "metadata": {},
   "outputs": [],
   "source": [
    "ss = ['cat', 'wolf', 'ostrich']\n",
    "if 'lion' in ss:\n",
    "    print('Wow!')\n",
    "\n",
    "# refactor -> rename: ss = animals:\n",
    "\n",
    "animals = ['cat', 'wolf', 'ostrich']\n",
    "if 'lion' in animals:\n",
    "    print('Wow!')"
   ]
  },
  {
   "cell_type": "code",
   "execution_count": 79,
   "metadata": {},
   "outputs": [],
   "source": [
    "# В каждой уважающей себя компании есть style guide (стайл-гайд) - руководство по стилю написания кода.\n",
    "# Практически все они основываются на PEP8, с небольшими исключениями, принятыми в этой команде.\n",
    "# Как пример стайл-гайда небольшой компании рекомендую почитать\n",
    "# https://github.com/best-doctor/guides/blob/master/guides/python_styleguide.md"
   ]
  },
  {
   "cell_type": "markdown",
   "metadata": {},
   "source": [
    "## **5.7** *Цикл while*"
   ]
  },
  {
   "cell_type": "markdown",
   "metadata": {},
   "source": [
    "***Цикл*** в программе - это структура, которая повторяется несколько раз"
   ]
  },
  {
   "cell_type": "markdown",
   "metadata": {},
   "source": [
    "Цикл ***`while`*** - это *цикл*, который будет выполняться до тех пор, пока верно условие (повторение части кода)"
   ]
  },
  {
   "cell_type": "markdown",
   "metadata": {},
   "source": [
    "Цикл **`while`** (повторение части кода):<br>\n",
    "***while*** *- до тех пор, пока ...*\n",
    "\n",
    "`while <условие>:\n",
    "     <блок кода>`"
   ]
  },
  {
   "cell_type": "code",
   "execution_count": 1,
   "metadata": {},
   "outputs": [
    {
     "name": "stdout",
     "output_type": "stream",
     "text": [
      "дратути!\n",
      "2\n",
      "4\n",
      "8\n",
      "16\n",
      "дотвидания!\n"
     ]
    }
   ],
   "source": [
    "# Пример:\n",
    "\n",
    "print('дратути!')\n",
    "i = 1\n",
    "while i < 10:\n",
    "    i = i * 2\n",
    "    print(i)\n",
    "print('дотвидания!')"
   ]
  },
  {
   "cell_type": "code",
   "execution_count": 5,
   "metadata": {},
   "outputs": [],
   "source": [
    "# Можно запустить бесконечный цикл, если запустить i > 0 в условии. Но бесконечных циклов нужно избегать!!!\n",
    "# Поэтому условие делаем таким, чтобы он когда-нибудь закончился!"
   ]
  },
  {
   "cell_type": "code",
   "execution_count": 6,
   "metadata": {
    "collapsed": true,
    "jupyter": {
     "outputs_hidden": true
    }
   },
   "outputs": [
    {
     "name": "stdout",
     "output_type": "stream",
     "text": [
      "1\n",
      "2\n",
      "3\n",
      "5\n",
      "8\n",
      "13\n",
      "21\n",
      "34\n",
      "55\n",
      "89\n",
      "144\n",
      "233\n",
      "377\n",
      "610\n",
      "987\n"
     ]
    }
   ],
   "source": [
    "# последовательность Фибоначи 1, 1, 2, 3, 5, 8, 13, 21, ...\n",
    "f1, f2 = 1, 1\n",
    "while f2 < 1000:\n",
    "    print(f2)\n",
    "    next_f2 = f1 + f2\n",
    "    next_f1 = f2\n",
    "    f1, f2 = next_f1, next_f2"
   ]
  },
  {
   "cell_type": "code",
   "execution_count": 7,
   "metadata": {},
   "outputs": [
    {
     "name": "stdout",
     "output_type": "stream",
     "text": [
      "2\n",
      "4\n",
      "8\n",
      "16\n",
      "i >= 10\n",
      "дотвиданя!\n"
     ]
    }
   ],
   "source": [
    "# else\n",
    "i = 1\n",
    "while i < 10:\n",
    "    i *= 2\n",
    "    print(i)\n",
    "else:\n",
    "    print('i >= 10')\n",
    "print('дотвиданя!')\n",
    "\n",
    "# Как и с if: до тех пор, пока выполняется условиие - выполняется цикл, как только условие перестало выполняться,\n",
    "# - выходит из цикла и выполняется код else."
   ]
  },
  {
   "cell_type": "code",
   "execution_count": 8,
   "metadata": {},
   "outputs": [
    {
     "name": "stdout",
     "output_type": "stream",
     "text": [
      "Проверяем  dog\n",
      "Проверяем  hamster\n",
      "Проверяем  cat\n",
      "Ура, кот найден!\n",
      "дотвиданя!\n"
     ]
    }
   ],
   "source": [
    "# break\n",
    "my_pets = ['dog', 'hamster']\n",
    "i = 0\n",
    "while i < len(my_pets):\n",
    "    pet = my_pets[i]\n",
    "    print('Проверяем ', pet)\n",
    "    if pet == 'cat':\n",
    "        print('Ура, кот найден!')\n",
    "        break\n",
    "    i += 1\n",
    "else:\n",
    "    print('Не нашли.....')\n",
    "print('дотвиданя!')"
   ]
  },
  {
   "cell_type": "code",
   "execution_count": 9,
   "metadata": {},
   "outputs": [
    {
     "name": "stdout",
     "output_type": "stream",
     "text": [
      "Проверяем  lion\n",
      "Проверяем  dog\n",
      "Проверяем  hamster\n",
      "Проверяем  cat\n",
      "Ура, кот найден!\n",
      "дотвиданя!\n"
     ]
    }
   ],
   "source": [
    "# continue\n",
    "my_pets = ['lion', 'dog', 'skunk', 'hamster', 'cat', 'monkey']\n",
    "i = -1\n",
    "while i < len(my_pets):\n",
    "    i += 1\n",
    "    if i == 2:\n",
    "        continue    # когда i = 2, пропускаем остаток выполнения цикла и идём на начало цикла\n",
    "    pet = my_pets[i]\n",
    "    print('Проверяем ', pet)\n",
    "    if pet == 'cat':\n",
    "        print('Ура, кот найден!')\n",
    "        break    # выполнили поиск cat - и завершили цикл\n",
    "print('дотвиданя!')"
   ]
  },
  {
   "cell_type": "code",
   "execution_count": 12,
   "metadata": {
    "collapsed": true,
    "jupyter": {
     "outputs_hidden": true
    }
   },
   "outputs": [
    {
     "name": "stdout",
     "output_type": "stream",
     "text": [
      "1597\n",
      "2584\n",
      "4181\n",
      "6765\n",
      "10946\n",
      "17711\n",
      "28657\n",
      "46368\n",
      "75025\n",
      "121393\n",
      "196418\n",
      "317811\n",
      "Итераций больше чем 27. Прерываюсь.\n"
     ]
    }
   ],
   "source": [
    "# else, break and continue - все вместе\n",
    "f1, f2, count = 0, 1, 0\n",
    "while f2 < 10000:\n",
    "    count += 1\n",
    "    if count > 27:\n",
    "        print('Итераций больше чем 27. Прерываюсь.')\n",
    "        break\n",
    "    f1, f2 = f2, f1 + f2\n",
    "    if f2 < 1000:\n",
    "        continue\n",
    "    print(f2)\n",
    "else:\n",
    "    print('Было', count, 'итераций')"
   ]
  },
  {
   "cell_type": "code",
   "execution_count": 14,
   "metadata": {
    "collapsed": true,
    "jupyter": {
     "outputs_hidden": true
    }
   },
   "outputs": [
    {
     "name": "stdout",
     "output_type": "stream",
     "text": [
      "Введите 42 >> 42\n",
      "Спасибо за сотрудничество!\n"
     ]
    }
   ],
   "source": [
    "# корректный ввод пользователя\n",
    "while True:\n",
    "    user_input = input('Введите 42 >> ')\n",
    "    result = int(user_input)\n",
    "    if result == 42:\n",
    "        print('Спасибо за сотрудничество!')\n",
    "        break\n",
    "    else:\n",
    "        print('Я просил 42, а Вы ввели', result, 'Попробуйте еще раз...')"
   ]
  },
  {
   "cell_type": "markdown",
   "metadata": {},
   "source": [
    "## **5.8** *Цикл for*"
   ]
  },
  {
   "cell_type": "markdown",
   "metadata": {},
   "source": [
    "Цикл ***`for`*** - это *цикл*, который перебирает значения из списка (итерируемого объекта)"
   ]
  },
  {
   "cell_type": "markdown",
   "metadata": {},
   "source": [
    "`for <переменная цикла> in <список>:\n",
    "     <блок кода>`"
   ]
  },
  {
   "cell_type": "markdown",
   "metadata": {},
   "source": [
    ">Здесь вместо `<списка>` может быть любой итерируемый объект (словарь, множество, строка и т.д.).<br>\n",
    "А `<переменная цикла>` создаётся \"налету\", т.е. её не нужно задавать заранее. Она определяется в момент выполнения цикла ***`for`***, и ей по очереди присваиваются значения каждого из элементов итерируемого объекта"
   ]
  },
  {
   "cell_type": "code",
   "execution_count": 13,
   "metadata": {},
   "outputs": [
    {
     "name": "stdout",
     "output_type": "stream",
     "text": [
      "Сейчас переменная animal указывает на  lion\n",
      "Сейчас переменная animal указывает на  elephant\n",
      "Сейчас переменная animal указывает на  monkey\n",
      "Сейчас переменная animal указывает на  skunk\n",
      "Сейчас переменная animal указывает на  horse\n",
      "Выход из цикла\n"
     ]
    }
   ],
   "source": [
    "# Цикл for (\"для каждого элемента из ...\")\n",
    "zoo_pets = ['lion', 'elephant', 'monkey', 'skunk', 'horse']\n",
    "for animal in zoo_pets:\n",
    "    print('Сейчас переменная animal указывает на ', animal)\n",
    "print('Выход из цикла')"
   ]
  },
  {
   "cell_type": "code",
   "execution_count": 15,
   "metadata": {},
   "outputs": [
    {
     "name": "stdout",
     "output_type": "stream",
     "text": [
      "Сейчас переменная animal указывает на lion\n",
      "Сейчас переменная animal указывает на elephant\n",
      "Сейчас переменная animal указывает на monkey\n",
      "Сейчас переменная animal указывает на skunk\n",
      "Сейчас переменная animal указывает на horse\n",
      "Всего букв 28\n"
     ]
    }
   ],
   "source": [
    "zoo_pets = ['lion', 'elephant', 'monkey', 'skunk', 'horse']\n",
    "letters_count = 0\n",
    "for animal in zoo_pets:\n",
    "    print('Сейчас переменная animal указывает на', animal)\n",
    "    letters_count += len(animal)\n",
    "    pass  ## тут pass просто чтобы интерпретатор отдохнул\n",
    "print('Всего букв', letters_count)"
   ]
  },
  {
   "cell_type": "code",
   "execution_count": 16,
   "metadata": {},
   "outputs": [
    {
     "name": "stdout",
     "output_type": "stream",
     "text": [
      "Сейчас переменная animal указывает на lion\n",
      "Это не слон....\n",
      "Сейчас переменная animal указывает на elephant\n",
      "Нашли слона! :)\n",
      "Выход из цикла\n"
     ]
    }
   ],
   "source": [
    "# принудительный останов цикла - break\n",
    "zoo_pets = ['lion', 'elephant', 'monkey', 'skunk', 'horse']\n",
    "for animal in zoo_pets:\n",
    "    print('Сейчас переменная animal указывает на', animal)\n",
    "    if animal == 'elephant':\n",
    "        print('Нашли слона! :)')\n",
    "        break\n",
    "    print('Это не слон....')\n",
    "print('Выход из цикла')"
   ]
  },
  {
   "cell_type": "code",
   "execution_count": 18,
   "metadata": {},
   "outputs": [
    {
     "name": "stdout",
     "output_type": "stream",
     "text": [
      "Сейчас переменная animal указывает на lion\n",
      "Это не слон....\n",
      "Сейчас переменная animal указывает на monkey\n",
      "Это не слон....\n",
      "Сейчас переменная animal указывает на skunk\n",
      "Это не слон....\n",
      "Сейчас переменная animal указывает на horse\n",
      "Это не слон....\n",
      "Тут слона нет...\n",
      "Выход из цикла\n"
     ]
    }
   ],
   "source": [
    "# опция else для цикла\n",
    "zoo_pets = ['lion', 'monkey', 'skunk', 'horse']\n",
    "for animal in zoo_pets:\n",
    "    print('Сейчас переменная animal указывает на', animal)\n",
    "    if animal == 'elephant':\n",
    "        print('Нашли слона! :)')\n",
    "        break\n",
    "    print('Это не слон....')\n",
    "else:\n",
    "    print('Тут слона нет...')\n",
    "print('Выход из цикла')"
   ]
  },
  {
   "cell_type": "code",
   "execution_count": 19,
   "metadata": {},
   "outputs": [
    {
     "name": "stdout",
     "output_type": "stream",
     "text": [
      "У нас в руках lion\n",
      "У нас в руках elephant\n",
      "У нас в руках monkey\n",
      "У нас в руках horse\n",
      "Выход из цикла\n"
     ]
    }
   ],
   "source": [
    "# пропуск остатка цикла - continue\n",
    "zoo_pets = ['lion', 'skunk', 'elephant', 'monkey', 'horse']\n",
    "for animal in zoo_pets:\n",
    "    if animal == 'skunk':\n",
    "        continue\n",
    "    print('У нас в руках', animal)\n",
    "print('Выход из цикла')"
   ]
  },
  {
   "cell_type": "code",
   "execution_count": 25,
   "metadata": {},
   "outputs": [
    {
     "name": "stdout",
     "output_type": "stream",
     "text": [
      "Сейчас переменная animal указывает на lion\n",
      "Это не слон....\n",
      "Сейчас переменная animal указывает на monkey\n",
      "Это не слон....\n",
      "Фууу...\n",
      "Сейчас переменная animal указывает на horse\n",
      "Это не слон....\n",
      "Тут слона нет...\n",
      "Выход из цикла\n"
     ]
    }
   ],
   "source": [
    "# полный пример\n",
    "\n",
    "zoo_pets = [\n",
    "    'lion', 'monkey', 'skunk',\n",
    "    'elephant', 'horse',\n",
    "]\n",
    "for animal in zoo_pets:\n",
    "    if animal == 'skunk':\n",
    "        print('Фууу...')\n",
    "        continue\n",
    "    print('Сейчас переменная animal указывает на', animal)\n",
    "    if animal == 'elephant':\n",
    "        print('Нашли слона! :)')\n",
    "        break\n",
    "    print('Это не слон....')\n",
    "else:\n",
    "    print('Тут слона нет...')\n",
    "print('Выход из цикла')"
   ]
  },
  {
   "cell_type": "code",
   "execution_count": 22,
   "metadata": {},
   "outputs": [
    {
     "name": "stdout",
     "output_type": "stream",
     "text": [
      "lion\n",
      "elephant\n",
      "['elephant', 'horse']\n"
     ]
    }
   ],
   "source": [
    "# Изменять содержимое последовательности, по которой проходит цикл, небезопасно\n",
    "zoo_pets = [\n",
    "    'lion', 'skunk',\n",
    "    'elephant', 'horse',\n",
    "]\n",
    "for animal in zoo_pets:\n",
    "    print(animal)\n",
    "    del zoo_pets[0]\n",
    "print(zoo_pets)"
   ]
  },
  {
   "cell_type": "markdown",
   "metadata": {},
   "source": [
    "## **5.9** *Элементы списка*"
   ]
  },
  {
   "cell_type": "code",
   "execution_count": 24,
   "metadata": {},
   "outputs": [
    {
     "name": "stdout",
     "output_type": "stream",
     "text": [
      "3\n",
      "7\n",
      "3\n",
      "7\n",
      "3\n",
      "7\n",
      "11\n",
      "1 2 3\n",
      "4 5 6\n"
     ]
    }
   ],
   "source": [
    "# автоматическая распаковка содержимого списка/тьюпла\n",
    "\n",
    "a, b = 1, 2\n",
    "(a, b) = (1, 2)\n",
    "\n",
    "for element in [(1, 2), (3, 4)]:\n",
    "    a, b = element[0], element[1]\n",
    "    print(a + b)\n",
    "\n",
    "for (a, b) in [(1, 2), (3, 4)]:\n",
    "    print(a+b)\n",
    "\n",
    "pair_list = [(1, 2), (3, 4), (5, 6)]\n",
    "\n",
    "for a, b in pair_list:\n",
    "    print(a+b)\n",
    "\n",
    "triple_list = [(1, 2, 3), (4, 5, 6)]\n",
    "for a, b, c in triple_list:\n",
    "    print(a, b, c)"
   ]
  },
  {
   "cell_type": "code",
   "execution_count": 25,
   "metadata": {
    "collapsed": true,
    "jupyter": {
     "outputs_hidden": true
    }
   },
   "outputs": [
    {
     "name": "stdout",
     "output_type": "stream",
     "text": [
      "1 2\n",
      "3 4\n"
     ]
    },
    {
     "ename": "ValueError",
     "evalue": "too many values to unpack (expected 2)",
     "output_type": "error",
     "traceback": [
      "\u001b[1;31m---------------------------------------------------------------------------\u001b[0m",
      "\u001b[1;31mValueError\u001b[0m                                Traceback (most recent call last)",
      "\u001b[1;32m<ipython-input-25-7783bd101628>\u001b[0m in \u001b[0;36m<module>\u001b[1;34m\u001b[0m\n\u001b[0;32m      1\u001b[0m \u001b[1;31m# в каждом элементе списка должно быть соотв кол-во элементов\u001b[0m\u001b[1;33m\u001b[0m\u001b[1;33m\u001b[0m\u001b[1;33m\u001b[0m\u001b[0m\n\u001b[0;32m      2\u001b[0m \u001b[1;33m\u001b[0m\u001b[0m\n\u001b[1;32m----> 3\u001b[1;33m \u001b[1;32mfor\u001b[0m \u001b[0ma\u001b[0m\u001b[1;33m,\u001b[0m \u001b[0mb\u001b[0m \u001b[1;32min\u001b[0m \u001b[1;33m[\u001b[0m\u001b[1;33m(\u001b[0m\u001b[1;36m1\u001b[0m\u001b[1;33m,\u001b[0m \u001b[1;36m2\u001b[0m\u001b[1;33m)\u001b[0m\u001b[1;33m,\u001b[0m \u001b[1;33m(\u001b[0m\u001b[1;36m3\u001b[0m\u001b[1;33m,\u001b[0m \u001b[1;36m4\u001b[0m\u001b[1;33m)\u001b[0m\u001b[1;33m,\u001b[0m \u001b[1;33m(\u001b[0m\u001b[1;36m5\u001b[0m\u001b[1;33m,\u001b[0m \u001b[1;36m6\u001b[0m\u001b[1;33m,\u001b[0m \u001b[1;36m7\u001b[0m\u001b[1;33m)\u001b[0m\u001b[1;33m]\u001b[0m\u001b[1;33m:\u001b[0m \u001b[1;31m## для каждой итерации!!!\u001b[0m\u001b[1;33m\u001b[0m\u001b[1;33m\u001b[0m\u001b[0m\n\u001b[0m\u001b[0;32m      4\u001b[0m     \u001b[0mprint\u001b[0m\u001b[1;33m(\u001b[0m\u001b[0ma\u001b[0m\u001b[1;33m,\u001b[0m \u001b[0mb\u001b[0m\u001b[1;33m)\u001b[0m\u001b[1;33m\u001b[0m\u001b[1;33m\u001b[0m\u001b[0m\n",
      "\u001b[1;31mValueError\u001b[0m: too many values to unpack (expected 2)"
     ]
    }
   ],
   "source": [
    "# в каждом элементе списка должно быть соотв кол-во элементов\n",
    "\n",
    "for a, b in [(1, 2), (3, 4), (5, 6, 7)]: ## для каждой итерации!!!\n",
    "    print(a, b) "
   ]
  },
  {
   "cell_type": "markdown",
   "metadata": {},
   "source": [
    "## **5.10** *Полезные функции в цикле*"
   ]
  },
  {
   "cell_type": "code",
   "execution_count": 26,
   "metadata": {},
   "outputs": [],
   "source": [
    "# полезные функции\n",
    "\n",
    "# for(i=0; i < 10; i++) {          - код на языке С\n",
    "#       animal = zoo_pets[i];\n",
    "#       printf(i, animal);\n",
    "# }"
   ]
  },
  {
   "cell_type": "code",
   "execution_count": 130,
   "metadata": {},
   "outputs": [
    {
     "name": "stdout",
     "output_type": "stream",
     "text": [
      "0 lion\n",
      "1 elephant\n",
      "2 monkey\n",
      "3 skunk\n",
      "4 horse\n"
     ]
    }
   ],
   "source": [
    "# функция enumerate() для вывод нумерованного списка в цикле:\n",
    "zoo_pets = ['lion', 'elephant', 'monkey', 'skunk', 'horse']\n",
    "for i, animal in enumerate(zoo_pets):\n",
    "    print(i, animal)"
   ]
  },
  {
   "cell_type": "code",
   "execution_count": 131,
   "metadata": {
    "collapsed": true,
    "jupyter": {
     "outputs_hidden": true
    }
   },
   "outputs": [
    {
     "name": "stdout",
     "output_type": "stream",
     "text": [
      "100\n",
      "150\n",
      "200\n",
      "250\n",
      "300\n",
      "350\n",
      "400\n",
      "450\n",
      "500\n",
      "550\n",
      "600\n"
     ]
    }
   ],
   "source": [
    "# генерация целочисленных последовательностей\n",
    "for i in range(100, 600, 50):\n",
    "    print(i)"
   ]
  },
  {
   "cell_type": "code",
   "execution_count": 3,
   "metadata": {},
   "outputs": [
    {
     "name": "stdout",
     "output_type": "stream",
     "text": [
      "0 lion\n",
      "1 skunk\n",
      "2 elephant\n",
      "3 horse\n"
     ]
    }
   ],
   "source": [
    "# НЕ ДЕЛАЙТЕ ТАК!!!!\n",
    "zoo_pets = ['lion', 'skunk', 'elephant', 'horse', ]\n",
    "for i in range(len(zoo_pets)):\n",
    "    animal = zoo_pets[i]\n",
    "    print(i, animal)"
   ]
  },
  {
   "cell_type": "code",
   "execution_count": 32,
   "metadata": {
    "collapsed": true,
    "jupyter": {
     "outputs_hidden": true
    }
   },
   "outputs": [
    {
     "name": "stdout",
     "output_type": "stream",
     "text": [
      "l\n",
      "i\n",
      "o\n",
      "n\n",
      "lion\n",
      "s\n",
      "k\n",
      "u\n",
      "n\n",
      "k\n",
      "skunk\n",
      "e\n",
      "l\n",
      "e\n",
      "p\n",
      "h\n",
      "a\n",
      "n\n",
      "t\n",
      "elephant\n",
      "h\n",
      "o\n",
      "r\n",
      "s\n",
      "e\n",
      "horse\n"
     ]
    }
   ],
   "source": [
    "# вложенные циклы\n",
    "zoo_pets = [\n",
    "    'lion', 'skunk',\n",
    "    'elephant', 'horse',\n",
    "]\n",
    "for animal in zoo_pets:\n",
    "    for char in animal:\n",
    "        print(char)\n",
    "    print(animal)"
   ]
  },
  {
   "cell_type": "code",
   "execution_count": 154,
   "metadata": {},
   "outputs": [
    {
     "name": "stdout",
     "output_type": "stream",
     "text": [
      "lion 300\n",
      "skunk 5\n",
      "elephant 5000\n",
      "horse 400\n",
      "Общая масса животных 5705\n"
     ]
    }
   ],
   "source": [
    "# цикл по словарям\n",
    "zoo_pet_mass = {\n",
    "    'lion': 300,\n",
    "    'skunk': 5,\n",
    "    'elephant': 5000,\n",
    "    'horse': 400,\n",
    "}\n",
    "total_mass = 0\n",
    "for animal in zoo_pet_mass:\n",
    "    print(animal, zoo_pet_mass[animal])\n",
    "    total_mass += zoo_pet_mass[animal]\n",
    "print('Общая масса животных', total_mass)"
   ]
  },
  {
   "cell_type": "code",
   "execution_count": 163,
   "metadata": {},
   "outputs": [
    {
     "name": "stdout",
     "output_type": "stream",
     "text": [
      "lion 300\n",
      "skunk 5\n",
      "elephant 5000\n",
      "horse 400\n",
      "Общая масса животных 5705\n"
     ]
    }
   ],
   "source": [
    "# цикл по парам - ключ/значение при помощи функции .items()\n",
    "total_mass = 0\n",
    "for animal, mass in zoo_pet_mass.items():\n",
    "    print(animal, mass)\n",
    "    total_mass += mass\n",
    "print('Общая масса животных', total_mass)"
   ]
  },
  {
   "cell_type": "code",
   "execution_count": 35,
   "metadata": {},
   "outputs": [
    {
     "name": "stdout",
     "output_type": "stream",
     "text": [
      "300\n",
      "5\n",
      "5000\n",
      "400\n",
      "Общая масса животных 5705\n"
     ]
    }
   ],
   "source": [
    "total_mass = 0\n",
    "for mass in zoo_pet_mass.values():\n",
    "    print(mass)\n",
    "    total_mass += mass\n",
    "print('Общая масса животных', total_mass)"
   ]
  },
  {
   "cell_type": "markdown",
   "metadata": {},
   "source": [
    "## **5.11** *Функции в Python*"
   ]
  },
  {
   "cell_type": "markdown",
   "metadata": {},
   "source": [
    "*Базовые элементы языка: if, for, while и функции (def) (и присвоение)*"
   ]
  },
  {
   "cell_type": "code",
   "execution_count": 36,
   "metadata": {},
   "outputs": [],
   "source": [
    "# Простое определение функции\n",
    "\n",
    "# def <имя_функции>(...):\n",
    "#     <блок кода>"
   ]
  },
  {
   "cell_type": "code",
   "execution_count": 40,
   "metadata": {},
   "outputs": [],
   "source": [
    "def some_func():\n",
    "    print('Привет! Я функция')"
   ]
  },
  {
   "cell_type": "code",
   "execution_count": 41,
   "metadata": {},
   "outputs": [
    {
     "name": "stdout",
     "output_type": "stream",
     "text": [
      "Привет! Я функция\n"
     ]
    }
   ],
   "source": [
    "some_func()"
   ]
  },
  {
   "cell_type": "code",
   "execution_count": 42,
   "metadata": {},
   "outputs": [
    {
     "name": "stdout",
     "output_type": "stream",
     "text": [
      "Привет! Я функция\n",
      "Привет! Я функция\n",
      "Привет! Я функция\n",
      "Привет! Я функция\n",
      "Привет! Я функция\n"
     ]
    }
   ],
   "source": [
    "my_list = [3, 14, 15, 92, 6]\n",
    "for element in my_list:\n",
    "    some_func()"
   ]
  },
  {
   "cell_type": "code",
   "execution_count": 44,
   "metadata": {},
   "outputs": [
    {
     "name": "stdout",
     "output_type": "stream",
     "text": [
      "Привет! Я функция\n",
      "Привет! Я функция\n",
      "Привет! Я функция\n",
      "Привет! Я функция\n",
      "Привет! Я функция\n",
      "Привет! Я функция\n",
      "Привет! Я функция\n",
      "Привет! Я функция\n",
      "Привет! Я функция\n",
      "Привет! Я функция\n"
     ]
    }
   ],
   "source": [
    "# если переменная не используется, то её можно заменить на _\n",
    "for _ in range(10):\n",
    "    some_func()"
   ]
  },
  {
   "cell_type": "markdown",
   "metadata": {},
   "source": [
    "## **5.12** *Функция с параметром*"
   ]
  },
  {
   "cell_type": "code",
   "execution_count": 51,
   "metadata": {},
   "outputs": [
    {
     "name": "stdout",
     "output_type": "stream",
     "text": [
      "Функцию вызвали с параметром 1\n"
     ]
    }
   ],
   "source": [
    "# Более сложное определение функции - параметры\n",
    "def func_with_params(param):\n",
    "    print('Функцию вызвали с параметром', param)\n",
    "func_with_params(1)"
   ]
  },
  {
   "cell_type": "code",
   "execution_count": 52,
   "metadata": {},
   "outputs": [
    {
     "name": "stdout",
     "output_type": "stream",
     "text": [
      "Начало цикла\n",
      "Функцию вызвали с параметром 3\n",
      "Конец цикла\n",
      "Начало цикла\n",
      "Функцию вызвали с параметром 14\n",
      "Конец цикла\n",
      "Начало цикла\n",
      "Функцию вызвали с параметром 15\n",
      "Конец цикла\n",
      "Начало цикла\n",
      "Функцию вызвали с параметром 92\n",
      "Конец цикла\n",
      "Начало цикла\n",
      "Функцию вызвали с параметром 6\n",
      "Конец цикла\n"
     ]
    }
   ],
   "source": [
    "my_list = [3, 14, 15, 92, 6]\n",
    "for element in my_list:\n",
    "    print('Начало цикла')\n",
    "    func_with_params(element)\n",
    "    print('Конец цикла')"
   ]
  },
  {
   "cell_type": "code",
   "execution_count": 53,
   "metadata": {},
   "outputs": [
    {
     "name": "stdout",
     "output_type": "stream",
     "text": [
      "Начало цикла\n",
      "Функцию вызвали с параметром 3\n",
      "Конец цикла\n",
      "Начало цикла\n",
      "Функцию вызвали с параметром 14\n",
      "Конец цикла\n",
      "Начало цикла\n",
      "Функцию вызвали с параметром 15\n",
      "Конец цикла\n",
      "Начало цикла\n",
      "Функцию вызвали с параметром 92\n",
      "Конец цикла\n",
      "Начало цикла\n",
      "Функцию вызвали с параметром 6\n",
      "Конец цикла\n"
     ]
    }
   ],
   "source": [
    "for element in my_list:\n",
    "    print('Начало цикла')\n",
    "    func_with_params(param=element)\n",
    "    print('Конец цикла')"
   ]
  },
  {
   "cell_type": "markdown",
   "metadata": {},
   "source": [
    "## **5.13** *Функция return*"
   ]
  },
  {
   "cell_type": "code",
   "execution_count": 57,
   "metadata": {},
   "outputs": [],
   "source": [
    "# возврат значения из функции\n",
    "\n",
    "def power(number, pow):\n",
    "    print('Функцию вызвали с параметрами', number, pow)\n",
    "    power_value = number ** pow\n",
    "    return power_value"
   ]
  },
  {
   "cell_type": "code",
   "execution_count": 58,
   "metadata": {},
   "outputs": [
    {
     "name": "stdout",
     "output_type": "stream",
     "text": [
      "Функцию вызвали с параметрами 3 10\n",
      "59049\n",
      "Функцию вызвали с параметрами 14 10\n",
      "289254654976\n",
      "Функцию вызвали с параметрами 15 10\n",
      "576650390625\n",
      "Функцию вызвали с параметрами 92 10\n",
      "43438845422363213824\n",
      "Функцию вызвали с параметрами 6 10\n",
      "60466176\n"
     ]
    }
   ],
   "source": [
    "my_list = [3, 14, 15, 92, 6]\n",
    "for element in my_list:\n",
    "    result = power(element, 10)\n",
    "    print(result)"
   ]
  },
  {
   "cell_type": "code",
   "execution_count": 59,
   "metadata": {},
   "outputs": [
    {
     "name": "stdout",
     "output_type": "stream",
     "text": [
      "Функцию вызвали с параметрами 3 3\n",
      "27\n",
      "Функцию вызвали с параметрами 14 14\n",
      "11112006825558016\n",
      "Функцию вызвали с параметрами 15 15\n",
      "437893890380859375\n",
      "Функцию вызвали с параметрами 92 92\n",
      "4661010870363696423905966214003100982132353937802439629342577411201858740087903585402257017449025558046308403555128684298484146339920553893653953988411898447534660818749990933364736\n",
      "Функцию вызвали с параметрами 6 6\n",
      "46656\n"
     ]
    }
   ],
   "source": [
    "for element in my_list:\n",
    "    result = power(number=element, pow=element)\n",
    "    print(result)"
   ]
  },
  {
   "cell_type": "code",
   "execution_count": 60,
   "metadata": {},
   "outputs": [
    {
     "name": "stdout",
     "output_type": "stream",
     "text": [
      "я ничего не верну\n",
      "None\n"
     ]
    }
   ],
   "source": [
    "# если нет return, то возвращается None\n",
    "\n",
    "def some_func():\n",
    "    print(\"я ничего не верну\")\n",
    "\n",
    "result = some_func()\n",
    "print(result)"
   ]
  },
  {
   "cell_type": "code",
   "execution_count": 62,
   "metadata": {},
   "outputs": [
    {
     "name": "stdout",
     "output_type": "stream",
     "text": [
      "Василий 27\n"
     ]
    }
   ],
   "source": [
    "# можно возвращать несколько значений\n",
    "def create_default_user():\n",
    "    name = \"Василий\"\n",
    "    age = 27\n",
    "    return name, age\n",
    "\n",
    "\n",
    "user_name, user_age = create_default_user()\n",
    "print(user_name, user_age)"
   ]
  },
  {
   "cell_type": "markdown",
   "metadata": {},
   "source": [
    "## **5.14** *Документирование функции*"
   ]
  },
  {
   "cell_type": "code",
   "execution_count": 63,
   "metadata": {},
   "outputs": [
    {
     "name": "stdout",
     "output_type": "stream",
     "text": [
      "Не делаем ничего, но документируем.\n",
      "\n",
      "    Нет, правда, эта функция ничего не делает.\n",
      "    \n"
     ]
    }
   ],
   "source": [
    "# документирование\n",
    "def my_function():\n",
    "    \"\"\"Не делаем ничего, но документируем.\n",
    "\n",
    "    Нет, правда, эта функция ничего не делает.\n",
    "    \"\"\"\n",
    "    pass\n",
    "\n",
    "\n",
    "print(my_function.__doc__)"
   ]
  },
  {
   "cell_type": "code",
   "execution_count": 66,
   "metadata": {},
   "outputs": [
    {
     "name": "stdout",
     "output_type": "stream",
     "text": [
      "Help on function my_function in module __main__:\n",
      "\n",
      "my_function()\n",
      "    Не делаем ничего, но документируем.\n",
      "    \n",
      "    Нет, правда, эта функция ничего не делает.\n",
      "\n"
     ]
    }
   ],
   "source": [
    "help(my_function)"
   ]
  },
  {
   "cell_type": "markdown",
   "metadata": {},
   "source": [
    "## **5.15** *Динамическая типизация*"
   ]
  },
  {
   "cell_type": "code",
   "execution_count": 67,
   "metadata": {},
   "outputs": [
    {
     "name": "stdout",
     "output_type": "stream",
     "text": [
      "Функцию вызвали с параметрами 42 27\n",
      "1134\n",
      "Функцию вызвали с параметрами привет!  34\n",
      "привет! привет! привет! привет! привет! привет! привет! привет! привет! привет! привет! привет! привет! привет! привет! привет! привет! привет! привет! привет! привет! привет! привет! привет! привет! привет! привет! привет! привет! привет! привет! привет! привет! привет! \n"
     ]
    }
   ],
   "source": [
    "# динамическая типизация\n",
    "def multiplay(number_1, number_2):\n",
    "    print('Функцию вызвали с параметрами', number_1, number_2)\n",
    "    value = number_1 * number_2\n",
    "    return value\n",
    "\n",
    "\n",
    "print(multiplay(number_1=42, number_2=27))\n",
    "print(multiplay(number_1='привет! ', number_2=34))"
   ]
  },
  {
   "cell_type": "code",
   "execution_count": 80,
   "metadata": {},
   "outputs": [
    {
     "name": "stdout",
     "output_type": "stream",
     "text": [
      "Функцию вызвали с параметрами 42 27\n",
      "67255970008406099921710928456387385568002048\n",
      "Функцию вызвали с параметрами привет!  34\n",
      "error\n"
     ]
    }
   ],
   "source": [
    "# защита \"от дурака\" при вводе\n",
    "def multiplay(number_1, number_2):\n",
    "    print('Функцию вызвали с параметрами', number_1, number_2)\n",
    "    if isinstance(number_1, int):\n",
    "        value = number_1 ** number_2\n",
    "        return value\n",
    "    return \"error\"\n",
    "\n",
    "\n",
    "print(multiplay(number_1=42, number_2=27))\n",
    "print(multiplay(number_1='привет! ', number_2=34))"
   ]
  },
  {
   "cell_type": "code",
   "execution_count": 83,
   "metadata": {},
   "outputs": [
    {
     "name": "stdout",
     "output_type": "stream",
     "text": [
      "Слон на свободе!!!\n",
      "['lion', 'monkey', 'skunk', 'horse', 'elephant']\n",
      "Слон на свободе!!!\n",
      "['lion', 'monkey', 'skunk', 'horse']\n",
      "['lion', 'monkey', 'skunk', 'horse']\n"
     ]
    }
   ],
   "source": [
    "# Параметры передаются как ссылка\n",
    "\n",
    "def elephant_to_free(some_list):\n",
    "    elephant_found = 'elephant' in some_list\n",
    "    if elephant_found:\n",
    "        some_list.remove('elephant')\n",
    "        print('Слон на свободе!!!')\n",
    "    return elephant_found\n",
    "\n",
    "\n",
    "zoo = ['lion', 'elephant', 'monkey', 'skunk', 'horse', 'elephant']\n",
    "\n",
    "elephant_to_free(zoo)\n",
    "print(zoo)\n",
    "\n",
    "elephant_to_free(zoo)\n",
    "print(zoo)\n",
    "\n",
    "elephant_to_free(zoo)\n",
    "print(zoo)"
   ]
  },
  {
   "cell_type": "code",
   "execution_count": 84,
   "metadata": {
    "collapsed": true,
    "jupyter": {
     "outputs_hidden": true
    }
   },
   "outputs": [
    {
     "ename": "AttributeError",
     "evalue": "'tuple' object has no attribute 'remove'",
     "output_type": "error",
     "traceback": [
      "\u001b[1;31m---------------------------------------------------------------------------\u001b[0m",
      "\u001b[1;31mAttributeError\u001b[0m                            Traceback (most recent call last)",
      "\u001b[1;32m<ipython-input-84-d85100e07b32>\u001b[0m in \u001b[0;36m<module>\u001b[1;34m\u001b[0m\n\u001b[0;32m      4\u001b[0m \u001b[0mzoo\u001b[0m \u001b[1;33m=\u001b[0m \u001b[1;33m(\u001b[0m\u001b[1;34m'lion'\u001b[0m\u001b[1;33m,\u001b[0m \u001b[1;34m'elephant'\u001b[0m\u001b[1;33m,\u001b[0m \u001b[1;34m'monkey'\u001b[0m\u001b[1;33m,\u001b[0m \u001b[1;34m'skunk'\u001b[0m\u001b[1;33m,\u001b[0m \u001b[1;34m'horse'\u001b[0m\u001b[1;33m,\u001b[0m \u001b[1;34m'elephant'\u001b[0m\u001b[1;33m)\u001b[0m\u001b[1;33m\u001b[0m\u001b[1;33m\u001b[0m\u001b[0m\n\u001b[0;32m      5\u001b[0m \u001b[1;33m\u001b[0m\u001b[0m\n\u001b[1;32m----> 6\u001b[1;33m \u001b[0melephant_to_free\u001b[0m\u001b[1;33m(\u001b[0m\u001b[0mzoo\u001b[0m\u001b[1;33m)\u001b[0m\u001b[1;33m\u001b[0m\u001b[1;33m\u001b[0m\u001b[0m\n\u001b[0m\u001b[0;32m      7\u001b[0m \u001b[0mprint\u001b[0m\u001b[1;33m(\u001b[0m\u001b[0mzoo\u001b[0m\u001b[1;33m)\u001b[0m\u001b[1;33m\u001b[0m\u001b[1;33m\u001b[0m\u001b[0m\n\u001b[0;32m      8\u001b[0m \u001b[1;33m\u001b[0m\u001b[0m\n",
      "\u001b[1;32m<ipython-input-83-32133de53147>\u001b[0m in \u001b[0;36melephant_to_free\u001b[1;34m(some_list)\u001b[0m\n\u001b[0;32m      4\u001b[0m     \u001b[0melephant_found\u001b[0m \u001b[1;33m=\u001b[0m \u001b[1;34m'elephant'\u001b[0m \u001b[1;32min\u001b[0m \u001b[0msome_list\u001b[0m\u001b[1;33m\u001b[0m\u001b[1;33m\u001b[0m\u001b[0m\n\u001b[0;32m      5\u001b[0m     \u001b[1;32mif\u001b[0m \u001b[0melephant_found\u001b[0m\u001b[1;33m:\u001b[0m\u001b[1;33m\u001b[0m\u001b[1;33m\u001b[0m\u001b[0m\n\u001b[1;32m----> 6\u001b[1;33m         \u001b[0msome_list\u001b[0m\u001b[1;33m.\u001b[0m\u001b[0mremove\u001b[0m\u001b[1;33m(\u001b[0m\u001b[1;34m'elephant'\u001b[0m\u001b[1;33m)\u001b[0m\u001b[1;33m\u001b[0m\u001b[1;33m\u001b[0m\u001b[0m\n\u001b[0m\u001b[0;32m      7\u001b[0m         \u001b[0mprint\u001b[0m\u001b[1;33m(\u001b[0m\u001b[1;34m'Слон на свободе!!!'\u001b[0m\u001b[1;33m)\u001b[0m\u001b[1;33m\u001b[0m\u001b[1;33m\u001b[0m\u001b[0m\n\u001b[0;32m      8\u001b[0m     \u001b[1;32mreturn\u001b[0m \u001b[0melephant_found\u001b[0m\u001b[1;33m\u001b[0m\u001b[1;33m\u001b[0m\u001b[0m\n",
      "\u001b[1;31mAttributeError\u001b[0m: 'tuple' object has no attribute 'remove'"
     ]
    }
   ],
   "source": [
    "# это т.н. функции с побочными эффектами, они меняют контекст выполнения.\n",
    "# можно заблокировать изменение параметров - передать тьюпл\n",
    "\n",
    "zoo = ('lion', 'elephant', 'monkey', 'skunk', 'horse', 'elephant')\n",
    "\n",
    "elephant_to_free(zoo)\n",
    "print(zoo)\n",
    "\n",
    "elephant_to_free(zoo)\n",
    "print(zoo)\n",
    "\n",
    "elephant_to_free(zoo)\n",
    "print(zoo)"
   ]
  }
 ],
 "metadata": {
  "kernelspec": {
   "display_name": "Python 3",
   "language": "python",
   "name": "python3"
  },
  "language_info": {
   "codemirror_mode": {
    "name": "ipython",
    "version": 3
   },
   "file_extension": ".py",
   "mimetype": "text/x-python",
   "name": "python",
   "nbconvert_exporter": "python",
   "pygments_lexer": "ipython3",
   "version": "3.8.3"
  }
 },
 "nbformat": 4,
 "nbformat_minor": 4
}
