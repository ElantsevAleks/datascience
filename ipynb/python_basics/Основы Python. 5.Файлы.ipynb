{
 "cells": [
  {
   "cell_type": "markdown",
   "metadata": {},
   "source": [
    "# **9 Работа с файлами и форматированный вывод**"
   ]
  },
  {
   "cell_type": "markdown",
   "metadata": {},
   "source": [
    "## *Содержание*\n",
    "* [9.1 Интро](#9.1-Интро)\n",
    "* [9.2 Строки, байты кодировки](#9.2-Строки,-байты-кодировки)\n",
    "* [9.3 Режимы открытия файлов](#9.3-Режимы-открытия-файлов)\n",
    "* [9.4 Позиционирование в файле](#Позиционирование-в-файле)\n",
    "* [9.5 Оператор **`with`**](#9.5-Оператор-withh)\n",
    "  *   [Простые формы работы с файлами](#Простые-формы-работы-с-файлами)\n",
    "  *   [Работа с файлами при помощи оператора **`with`**](#Работа-с-файлами-при-помощи-оператора-with)\n",
    "* [9.6 Форматирование строк](#Форматирование-строк)\n",
    "  *   [Форматирование вывода на консоль](#Форматирование-вывода-на-консоль)\n",
    "  *   [Старый стиль: **`%`**. Аналог С-форматирования функции printf()](#Старый-стиль:-%.-Аналог-С-форматирования-функции-printf())\n",
    "  *   [Более продвинутый способ - через метод строки **`.format()`**](#Более-продвинутый-способ---через-метод-строки-.format())\n",
    "  *   [Новейший метод **`f-строки`**](#Новейший-метод-f-строки)\n",
    "* [9.7 Файлы в операционной системе](#9.7-Файлы-в-операционной-системе)\n",
    "  *   [Файлы в операционной системе](#Файлы-в-операционной-системе)\n",
    "  *   [Самая удобная функция для прохода по всем файлам - это функция `os.walk`](#Самая-удобная-функция-для-прохода-по-всем-файлам---это-функция-os.walk)\n",
    "  *   [Ещё одна полезная фунция для получения размера файла `getsize`](#Ещё-одна-полезная-фунция-для-получения-размера-файла-getsize)\n",
    "  *   [Следующая функция позволяет получить дату модификации файла `getmtime`](#Следующая-функция-позволяет-получить-дату-модификации-файла-getmtime)\n",
    "  *   [Как сформировать правильный путь к файлу или директории с учётом особенностей ОС](#Как-сформировать-правильный-путь-к-файлу-или-директории-с-учётом-особенностей-ОС)\n",
    "  *   [Ещё какие полезняшки есть](#Ещё-какие-полезняшки-есть)\n",
    "* [9.8 Итоги модуля](##9.8-Итоги-модуля)"
   ]
  },
  {
   "cell_type": "markdown",
   "metadata": {},
   "source": [
    "## **9.1** *Интро*"
   ]
  },
  {
   "cell_type": "markdown",
   "metadata": {},
   "source": [
    "*`Цели урока:`*<br>\n",
    ">Цель: научиться работать с файлами"
   ]
  },
  {
   "cell_type": "markdown",
   "metadata": {},
   "source": [
    "<u>Файлы</u> - очень важная часть в жизни программ, т.к. программа обменивается с реальными миром реальными данными. В общем случае, - с потоком данных, но файл - <u>это один из видов потоков данных.</u>"
   ]
  },
  {
   "cell_type": "markdown",
   "metadata": {},
   "source": [
    "И поэтому, на этом уроке мы пройдём очень важную часть: научимся `работать с файлами`"
   ]
  },
  {
   "cell_type": "markdown",
   "metadata": {},
   "source": [
    "Задачи:\n",
    "* Разобраться со строками, байтами и кодировками\n",
    "* Узнать как читать и писать файлы в разных режимах\n",
    "* Научиться позиционироваться в файле\n",
    "* Понять зачем нужен оператор with\n",
    "* Разобрать форматирование строк при выводе на консоль и в файл\n",
    "* Попробовать работу с файлами на уровне ОС\n",
    "* Практика\n",
    "* Начинаем дипломный проект"
   ]
  },
  {
   "cell_type": "markdown",
   "metadata": {},
   "source": [
    "## **9.2** *Строки, байты кодировки*"
   ]
  },
  {
   "cell_type": "markdown",
   "metadata": {},
   "source": [
    "Что есть символы, что есть коды символов и что такое кодировка?<br>\n",
    "Каждый символ, который хранится в компьютере - как некий код, и мы можем узнать какой код есть у символа и посмотреть какой символ какому коду соответствует."
   ]
  },
  {
   "cell_type": "markdown",
   "metadata": {},
   "source": [
    "`ord(char)` - показать код символа<br>\n",
    "`chr(code)` - показать символ, соответствующий коду"
   ]
  },
  {
   "cell_type": "code",
   "execution_count": 3,
   "metadata": {},
   "outputs": [
    {
     "name": "stdout",
     "output_type": "stream",
     "text": [
      "104\n",
      "h\n"
     ]
    }
   ],
   "source": [
    "print(ord('h'))\n",
    "print(chr(104))"
   ]
  },
  {
   "cell_type": "code",
   "execution_count": 4,
   "metadata": {},
   "outputs": [
    {
     "name": "stdout",
     "output_type": "stream",
     "text": [
      "104\n",
      "101\n",
      "108\n",
      "108\n",
      "111\n"
     ]
    }
   ],
   "source": [
    "# вот как хранится строка в памяти\n",
    "for ch in 'hello':\n",
    "    print(ord(ch))"
   ]
  },
  {
   "cell_type": "code",
   "execution_count": 5,
   "metadata": {},
   "outputs": [
    {
     "name": "stdout",
     "output_type": "stream",
     "text": [
      "hello\n"
     ]
    }
   ],
   "source": [
    "codes = [104, 101, 108, 108, 111, ]\n",
    "\n",
    "# можно её обратно из кодов собрать\n",
    "out = ''\n",
    "for code in codes:\n",
    "    out += chr(code)\n",
    "print(out)"
   ]
  },
  {
   "cell_type": "code",
   "execution_count": 6,
   "metadata": {
    "scrolled": true
   },
   "outputs": [
    {
     "name": "stdout",
     "output_type": "stream",
     "text": [
      "0 0x0 \u0000\n",
      "1 0x1 \u0001\n",
      "2 0x2 \u0002\n",
      "3 0x3 \u0003\n",
      "4 0x4 \u0004\n",
      "5 0x5 \u0005\n",
      "6 0x6 \u0006\n",
      "7 0x7 \u0007\n",
      "8 0x8\n",
      "9 0x9 \t\n",
      "10 0xa \n",
      "\n",
      "11 0xb \u000b",
      "\n",
      "12 0xc \f",
      "\n",
      "13 0xd \n",
      "14 0xe \u000e\n",
      "15 0xf \u000f\n",
      "16 0x10 \u0010\n",
      "17 0x11 \u0011\n",
      "18 0x12 \u0012\n",
      "19 0x13 \u0013\n",
      "20 0x14 \u0014\n",
      "21 0x15 \u0015\n",
      "22 0x16 \u0016\n",
      "23 0x17 \u0017\n",
      "24 0x18 \u0018\n",
      "25 0x19 \u0019\n",
      "26 0x1a \u001a\n",
      "27 0x1b \u001b\n",
      "28 0x1c \u001c",
      "\n",
      "29 0x1d \u001d",
      "\n",
      "30 0x1e \u001e",
      "\n",
      "31 0x1f \u001f\n",
      "32 0x20  \n",
      "33 0x21 !\n",
      "34 0x22 \"\n",
      "35 0x23 #\n",
      "36 0x24 $\n",
      "37 0x25 %\n",
      "38 0x26 &\n",
      "39 0x27 '\n",
      "40 0x28 (\n",
      "41 0x29 )\n",
      "42 0x2a *\n",
      "43 0x2b +\n",
      "44 0x2c ,\n",
      "45 0x2d -\n",
      "46 0x2e .\n",
      "47 0x2f /\n",
      "48 0x30 0\n",
      "49 0x31 1\n",
      "50 0x32 2\n",
      "51 0x33 3\n",
      "52 0x34 4\n",
      "53 0x35 5\n",
      "54 0x36 6\n",
      "55 0x37 7\n",
      "56 0x38 8\n",
      "57 0x39 9\n",
      "58 0x3a :\n",
      "59 0x3b ;\n",
      "60 0x3c <\n",
      "61 0x3d =\n",
      "62 0x3e >\n",
      "63 0x3f ?\n",
      "64 0x40 @\n",
      "65 0x41 A\n",
      "66 0x42 B\n",
      "67 0x43 C\n",
      "68 0x44 D\n",
      "69 0x45 E\n",
      "70 0x46 F\n",
      "71 0x47 G\n",
      "72 0x48 H\n",
      "73 0x49 I\n",
      "74 0x4a J\n",
      "75 0x4b K\n",
      "76 0x4c L\n",
      "77 0x4d M\n",
      "78 0x4e N\n",
      "79 0x4f O\n",
      "80 0x50 P\n",
      "81 0x51 Q\n",
      "82 0x52 R\n",
      "83 0x53 S\n",
      "84 0x54 T\n",
      "85 0x55 U\n",
      "86 0x56 V\n",
      "87 0x57 W\n",
      "88 0x58 X\n",
      "89 0x59 Y\n",
      "90 0x5a Z\n",
      "91 0x5b [\n",
      "92 0x5c \\\n",
      "93 0x5d ]\n",
      "94 0x5e ^\n",
      "95 0x5f _\n",
      "96 0x60 `\n",
      "97 0x61 a\n",
      "98 0x62 b\n",
      "99 0x63 c\n",
      "100 0x64 d\n",
      "101 0x65 e\n",
      "102 0x66 f\n",
      "103 0x67 g\n",
      "104 0x68 h\n",
      "105 0x69 i\n",
      "106 0x6a j\n",
      "107 0x6b k\n",
      "108 0x6c l\n",
      "109 0x6d m\n",
      "110 0x6e n\n",
      "111 0x6f o\n",
      "112 0x70 p\n",
      "113 0x71 q\n",
      "114 0x72 r\n",
      "115 0x73 s\n",
      "116 0x74 t\n",
      "117 0x75 u\n",
      "118 0x76 v\n",
      "119 0x77 w\n",
      "120 0x78 x\n",
      "121 0x79 y\n",
      "122 0x7a z\n",
      "123 0x7b {\n",
      "124 0x7c |\n",
      "125 0x7d }\n",
      "126 0x7e ~\n",
      "127 0x7f \n"
     ]
    }
   ],
   "source": [
    "# а какие вообще символы есть?\n",
    "for code in range(128):\n",
    "    print(code, hex(code), chr(code))"
   ]
  },
  {
   "cell_type": "markdown",
   "metadata": {},
   "source": [
    "получается таблица символов ASCII  https://ru.wikipedia.org/wiki/ASCII"
   ]
  },
  {
   "cell_type": "markdown",
   "metadata": {},
   "source": [
    "То есть каждый символ имеет свой код. В пайтоне символы храняться в кодах unicode\n",
    "http://foxtools.ru/Unicode\n",
    "Эта таблица стандарт для ВСЕХ симвлов, которое придумало человечество\n",
    "\n",
    "Это именно стандарт, а не кодировка — сам по себе Юникод не определяет,\n",
    "как символы будут сохранятся на жестком диске или передаваться по сети.\n",
    "Он лишь определяет связь между символом и некоторым числом"
   ]
  },
  {
   "cell_type": "code",
   "execution_count": 7,
   "metadata": {
    "scrolled": true
   },
   "outputs": [
    {
     "name": "stdout",
     "output_type": "stream",
     "text": [
      "1000 Ϩ\n",
      "1001 ϩ\n",
      "1002 Ϫ\n",
      "1003 ϫ\n",
      "1004 Ϭ\n",
      "1005 ϭ\n",
      "1006 Ϯ\n",
      "1007 ϯ\n",
      "1008 ϰ\n",
      "1009 ϱ\n",
      "1010 ϲ\n",
      "1011 ϳ\n",
      "1012 ϴ\n",
      "1013 ϵ\n",
      "1014 ϶\n",
      "1015 Ϸ\n",
      "1016 ϸ\n",
      "1017 Ϲ\n",
      "1018 Ϻ\n",
      "1019 ϻ\n",
      "1020 ϼ\n",
      "1021 Ͻ\n",
      "1022 Ͼ\n",
      "1023 Ͽ\n",
      "1024 Ѐ\n",
      "1025 Ё\n",
      "1026 Ђ\n",
      "1027 Ѓ\n",
      "1028 Є\n",
      "1029 Ѕ\n",
      "1030 І\n",
      "1031 Ї\n",
      "1032 Ј\n",
      "1033 Љ\n",
      "1034 Њ\n",
      "1035 Ћ\n",
      "1036 Ќ\n",
      "1037 Ѝ\n",
      "1038 Ў\n",
      "1039 Џ\n",
      "1040 А\n",
      "1041 Б\n",
      "1042 В\n",
      "1043 Г\n",
      "1044 Д\n",
      "1045 Е\n",
      "1046 Ж\n",
      "1047 З\n",
      "1048 И\n",
      "1049 Й\n",
      "1050 К\n",
      "1051 Л\n",
      "1052 М\n",
      "1053 Н\n",
      "1054 О\n",
      "1055 П\n",
      "1056 Р\n",
      "1057 С\n",
      "1058 Т\n",
      "1059 У\n",
      "1060 Ф\n",
      "1061 Х\n",
      "1062 Ц\n",
      "1063 Ч\n",
      "1064 Ш\n",
      "1065 Щ\n",
      "1066 Ъ\n",
      "1067 Ы\n",
      "1068 Ь\n",
      "1069 Э\n",
      "1070 Ю\n",
      "1071 Я\n",
      "1072 а\n",
      "1073 б\n",
      "1074 в\n",
      "1075 г\n",
      "1076 д\n",
      "1077 е\n",
      "1078 ж\n",
      "1079 з\n",
      "1080 и\n",
      "1081 й\n",
      "1082 к\n",
      "1083 л\n",
      "1084 м\n",
      "1085 н\n",
      "1086 о\n",
      "1087 п\n",
      "1088 р\n",
      "1089 с\n",
      "1090 т\n",
      "1091 у\n",
      "1092 ф\n",
      "1093 х\n",
      "1094 ц\n",
      "1095 ч\n",
      "1096 ш\n",
      "1097 щ\n",
      "1098 ъ\n",
      "1099 ы\n",
      "1100 ь\n",
      "1101 э\n",
      "1102 ю\n",
      "1103 я\n",
      "1104 ѐ\n",
      "1105 ё\n",
      "1106 ђ\n",
      "1107 ѓ\n",
      "1108 є\n",
      "1109 ѕ\n",
      "1110 і\n",
      "1111 ї\n",
      "1112 ј\n",
      "1113 љ\n",
      "1114 њ\n",
      "1115 ћ\n",
      "1116 ќ\n",
      "1117 ѝ\n",
      "1118 ў\n",
      "1119 џ\n",
      "1120 Ѡ\n",
      "1121 ѡ\n",
      "1122 Ѣ\n",
      "1123 ѣ\n",
      "1124 Ѥ\n",
      "1125 ѥ\n",
      "1126 Ѧ\n",
      "1127 ѧ\n",
      "1128 Ѩ\n",
      "1129 ѩ\n",
      "1130 Ѫ\n",
      "1131 ѫ\n",
      "1132 Ѭ\n",
      "1133 ѭ\n",
      "1134 Ѯ\n",
      "1135 ѯ\n",
      "1136 Ѱ\n",
      "1137 ѱ\n",
      "1138 Ѳ\n",
      "1139 ѳ\n",
      "1140 Ѵ\n",
      "1141 ѵ\n",
      "1142 Ѷ\n",
      "1143 ѷ\n",
      "1144 Ѹ\n",
      "1145 ѹ\n",
      "1146 Ѻ\n",
      "1147 ѻ\n",
      "1148 Ѽ\n",
      "1149 ѽ\n",
      "1150 Ѿ\n",
      "1151 ѿ\n",
      "1152 Ҁ\n",
      "1153 ҁ\n",
      "1154 ҂\n",
      "1155 ҃\n",
      "1156 ҄\n",
      "1157 ҅\n",
      "1158 ҆\n",
      "1159 ҇\n",
      "1160 ҈\n",
      "1161 ҉\n",
      "1162 Ҋ\n",
      "1163 ҋ\n",
      "1164 Ҍ\n",
      "1165 ҍ\n",
      "1166 Ҏ\n",
      "1167 ҏ\n",
      "1168 Ґ\n",
      "1169 ґ\n",
      "1170 Ғ\n",
      "1171 ғ\n",
      "1172 Ҕ\n",
      "1173 ҕ\n",
      "1174 Җ\n",
      "1175 җ\n",
      "1176 Ҙ\n",
      "1177 ҙ\n",
      "1178 Қ\n",
      "1179 қ\n",
      "1180 Ҝ\n",
      "1181 ҝ\n",
      "1182 Ҟ\n",
      "1183 ҟ\n",
      "1184 Ҡ\n",
      "1185 ҡ\n",
      "1186 Ң\n",
      "1187 ң\n",
      "1188 Ҥ\n",
      "1189 ҥ\n",
      "1190 Ҧ\n",
      "1191 ҧ\n",
      "1192 Ҩ\n",
      "1193 ҩ\n",
      "1194 Ҫ\n",
      "1195 ҫ\n",
      "1196 Ҭ\n",
      "1197 ҭ\n",
      "1198 Ү\n",
      "1199 ү\n"
     ]
    }
   ],
   "source": [
    "for code in range(1000, 1200):\n",
    "    print(code, chr(code))"
   ]
  },
  {
   "cell_type": "markdown",
   "metadata": {},
   "source": [
    "Но коды символов больших чем байт (256) будут занимать несколько байт.\n",
    "Поэтому есть форматы представления текста - как хранить коды юникода.\n",
    "например старший байт из двух/трех/етс идет первым или вторым?\n",
    "\n",
    "Наиболее распространенным является представление [Юникода] UTF-8 - https://ru.wikipedia.org/wiki/UTF-8\n",
    "и в реальности на дисках наши тексты сохраняются в одном из форматов представления"
   ]
  },
  {
   "cell_type": "markdown",
   "metadata": {},
   "source": [
    "Как хранить не строки, но сами байты?\n",
    "В пайтоне есть тип данных, который позволяет хранить \"сырые байты\" - bytes"
   ]
  },
  {
   "cell_type": "code",
   "execution_count": 8,
   "metadata": {},
   "outputs": [
    {
     "name": "stdout",
     "output_type": "stream",
     "text": [
      "b'\\xd1\\x84'\n"
     ]
    }
   ],
   "source": [
    "bb = b'\\xd1\\x84'\n",
    "print(bb)"
   ]
  },
  {
   "cell_type": "markdown",
   "metadata": {},
   "source": [
    "т.е. мы храним не коды символов, а сырые данные. Можем хранить, например, состояние БД или музыку... Но мы можем хранить и символы"
   ]
  },
  {
   "cell_type": "code",
   "execution_count": 9,
   "metadata": {},
   "outputs": [
    {
     "name": "stdout",
     "output_type": "stream",
     "text": [
      "b'\\xd0\\xbf\\xd1\\x80\\xd0\\xb8\\xd0\\xb2\\xd0\\xb5\\xd1\\x82'\n",
      "<class 'bytes'>\n"
     ]
    }
   ],
   "source": [
    "# Тип bytes очень похож на str\n",
    "bb = b'\\xd0\\xbf\\xd1\\x80\\xd0\\xb8\\xd0\\xb2\\xd0\\xb5\\xd1\\x82'\n",
    "print(bb)\n",
    "print(type(bb))"
   ]
  },
  {
   "cell_type": "code",
   "execution_count": 10,
   "metadata": {},
   "outputs": [
    {
     "name": "stdout",
     "output_type": "stream",
     "text": [
      "208\n",
      "4\n",
      "b'hello'\n"
     ]
    }
   ],
   "source": [
    "# по сути это неизменяемые последовательности целых чисел,\n",
    "# поддерживают те же операции что и str\n",
    "print(bb[0])\n",
    "print(bb.count(0xd0)) # так пишется байтовый код в hex формате. А в литералах это: \\xd0\n",
    "print(b'he' + b'llo') # конкатенация байтовой строки как обычной"
   ]
  },
  {
   "cell_type": "markdown",
   "metadata": {},
   "source": [
    "Полный список операций - https://goo.gl/7Cznir"
   ]
  },
  {
   "cell_type": "code",
   "execution_count": 27,
   "metadata": {
    "collapsed": true,
    "jupyter": {
     "outputs_hidden": true
    }
   },
   "outputs": [
    {
     "ename": "TypeError",
     "evalue": "'bytes' object does not support item assignment",
     "output_type": "error",
     "traceback": [
      "\u001b[1;31m---------------------------------------------------------------------------\u001b[0m",
      "\u001b[1;31mTypeError\u001b[0m                                 Traceback (most recent call last)",
      "\u001b[1;32m<ipython-input-27-f5d549c88156>\u001b[0m in \u001b[0;36m<module>\u001b[1;34m\u001b[0m\n\u001b[0;32m      1\u001b[0m \u001b[1;31m# bytes - неизменяемые\u001b[0m\u001b[1;33m\u001b[0m\u001b[1;33m\u001b[0m\u001b[1;33m\u001b[0m\u001b[0m\n\u001b[1;32m----> 2\u001b[1;33m \u001b[0mbb\u001b[0m\u001b[1;33m[\u001b[0m\u001b[1;36m0\u001b[0m\u001b[1;33m]\u001b[0m \u001b[1;33m=\u001b[0m \u001b[1;36m110\u001b[0m\u001b[1;33m\u001b[0m\u001b[1;33m\u001b[0m\u001b[0m\n\u001b[0m",
      "\u001b[1;31mTypeError\u001b[0m: 'bytes' object does not support item assignment"
     ]
    }
   ],
   "source": [
    "# bytes - неизменяемые\n",
    "bb[0] = 110"
   ]
  },
  {
   "cell_type": "code",
   "execution_count": 49,
   "metadata": {},
   "outputs": [],
   "source": [
    "# Пусть есть байты\n",
    "bb = b'\\xd1\\x84'"
   ]
  },
  {
   "cell_type": "markdown",
   "metadata": {},
   "source": [
    "Это UTF-8 представление русской буквы. Какой?\n",
    "давайте разберем (на основе описания формата  - https://goo.gl/Um4xUz)"
   ]
  },
  {
   "cell_type": "code",
   "execution_count": 29,
   "metadata": {},
   "outputs": [
    {
     "name": "stdout",
     "output_type": "stream",
     "text": [
      "0b11010001\n",
      "0b10000100\n"
     ]
    }
   ],
   "source": [
    "print(bin(0xd1)) # представление hex символов в двоичном виде\n",
    "print(bin(0x84))"
   ]
  },
  {
   "cell_type": "markdown",
   "metadata": {},
   "source": [
    "тут в первом 110, а во втором 10 - это октеты. Далее следуют значащие биты кода символа<br>\n",
    "конкатенируем ТОЛЬКО значащие биты нашего кода символа:"
   ]
  },
  {
   "cell_type": "markdown",
   "metadata": {},
   "source": [
    "Код символа в юникоде занимает 2 байта, значит в первом байте будет 110 сначала, а во втором 10<br>\n",
    "значащие биты 10001 и 000100"
   ]
  },
  {
   "cell_type": "code",
   "execution_count": 31,
   "metadata": {},
   "outputs": [
    {
     "name": "stdout",
     "output_type": "stream",
     "text": [
      "1092\n",
      "0x444\n"
     ]
    }
   ],
   "source": [
    "code = 0b10001000100\n",
    "print(code)\n",
    "print(hex(code))"
   ]
  },
  {
   "cell_type": "markdown",
   "metadata": {},
   "source": [
    "а это код русской буквы ф в юникоде"
   ]
  },
  {
   "cell_type": "code",
   "execution_count": 32,
   "metadata": {},
   "outputs": [
    {
     "name": "stdout",
     "output_type": "stream",
     "text": [
      "ф\n"
     ]
    }
   ],
   "source": [
    "print(chr(code))"
   ]
  },
  {
   "cell_type": "markdown",
   "metadata": {},
   "source": [
    "т.е. сырая последовательность байт может в пределённом смысле кодировать в себе символы Юникода. И выполнив определённый алгоритм, мы можем узнать, что за символы там были закодированы."
   ]
  },
  {
   "cell_type": "markdown",
   "metadata": {},
   "source": [
    "При выводе на терминал есть особенности:<br>\n",
    "Латинские символы ASCII (которые имеют код до 127) - занимают 1 `октет` кодировки и значащих бит у них - 7.<br>\n",
    "И как раз в эти 7 бит умещаются 128 символов.\n",
    "И при выводе на консоль они отображаются как символы, а не коды.<br>\n",
    "т.е.:"
   ]
  },
  {
   "cell_type": "code",
   "execution_count": 51,
   "metadata": {},
   "outputs": [
    {
     "name": "stdout",
     "output_type": "stream",
     "text": [
      "b'h\\xd1\\x84'\n",
      "68d184\n"
     ]
    }
   ],
   "source": [
    "bb = b'\\x68\\xd1\\x84'\n",
    "print(bb)\n",
    "print(bb.hex())"
   ]
  },
  {
   "cell_type": "markdown",
   "metadata": {},
   "source": [
    "на консоль выводиться та же буква 'h', что и в hex `x68` - такая фича **Python**<br>\n",
    "(видимо для удобства англоговорящих программистов)"
   ]
  },
  {
   "cell_type": "markdown",
   "metadata": {},
   "source": [
    "Т.е. при выводе на консоль видно, что символы имеют код, меньший 128"
   ]
  },
  {
   "cell_type": "markdown",
   "metadata": {},
   "source": [
    "Так же есть изменяемый (*mutable*) аналог `bytes` - это `bytearray`<br>\n",
    "`bytearray` - позволяет хранить изменяемые данные:"
   ]
  },
  {
   "cell_type": "code",
   "execution_count": 52,
   "metadata": {},
   "outputs": [
    {
     "name": "stdout",
     "output_type": "stream",
     "text": [
      "bytearray(b' ello')\n"
     ]
    }
   ],
   "source": [
    "ba = bytearray(b'hello')  # т.к. агнлийские буквы, то представление внутри будет как байты\n",
    "ba[0] = 32  # код пробела\n",
    "print(ba)"
   ]
  },
  {
   "cell_type": "markdown",
   "metadata": {},
   "source": [
    "Создаваться `bytearray` может только через конструктор"
   ]
  },
  {
   "cell_type": "code",
   "execution_count": 54,
   "metadata": {},
   "outputs": [
    {
     "name": "stdout",
     "output_type": "stream",
     "text": [
      "bytearray(b'')\n",
      "bytearray(b'\\x00\\x00\\x00\\x00\\x00\\x00\\x00\\x00\\x00\\x00\\x00\\x00\\x00\\x00\\x00\\x00')\n",
      "bytearray(b'\\x00\\x01\\x02\\x03\\x04\\x05\\x06\\x07\\x08\\t\\n\\x0b\\x0c\\r\\x0e\\x0f')\n",
      "bytearray(b'hello')\n",
      "bytearray(b'\\xd0\\xbf\\xd1\\x80\\xd0\\xb8\\xd0\\xb2\\xd0\\xb5\\xd1\\x82')\n",
      "bytearray(b'\\xd0\\xbf\\xd1\\x80\\xd0\\xb8\\xd0\\xb2\\xd0\\xb5\\xd1\\x82')\n"
     ]
    }
   ],
   "source": [
    "print(bytearray())\n",
    "print(bytearray(16))\n",
    "print(bytearray(range(16)))\n",
    "print(bytearray(b'hello'))  # изменяемой функции передали неизменяемый параметр\n",
    "print(bytearray('привет', encoding='utf-8'))\n",
    "print(bytearray('привет'.encode(encoding='utf-8')))"
   ]
  },
  {
   "cell_type": "markdown",
   "metadata": {},
   "source": [
    "Для преобразования байтов в строку и обратно есть две функции:"
   ]
  },
  {
   "cell_type": "code",
   "execution_count": 58,
   "metadata": {},
   "outputs": [
    {
     "name": "stdout",
     "output_type": "stream",
     "text": [
      "b'\\xd0\\xbf\\xd1\\x80\\xd0\\xb8\\xd0\\xb2\\xd0\\xb5\\xd1\\x82'\n",
      "b'\\xff\\xfe?\\x04@\\x048\\x042\\x045\\x04B\\x04'\n",
      "b'\\xaf\\xe0\\xa8\\xa2\\xa5\\xe2'\n",
      "привет\n"
     ]
    }
   ],
   "source": [
    "# строка в байты (Юникодную строку кодируем в кодировке):\n",
    "print('привет'.encode(encoding='utf-8'))\n",
    "print('привет'.encode(encoding='utf-16'))\n",
    "print('привет'.encode(encoding='cp866'))  # DOS кодировка\n",
    "print('привет'.encode(encoding='utf-8').decode(encoding='utf-8')) # кодируем и тут же декодируем"
   ]
  },
  {
   "cell_type": "markdown",
   "metadata": {},
   "source": [
    "То есть мы хотим ЗАКОДИРОВАТЬ коды Юникода в нужное представление"
   ]
  },
  {
   "cell_type": "markdown",
   "metadata": {},
   "source": [
    "список всех кодировок - https://docs.python.org/3.5/library/codecs.html#standard-encodings"
   ]
  },
  {
   "cell_type": "code",
   "execution_count": 62,
   "metadata": {},
   "outputs": [
    {
     "name": "stdout",
     "output_type": "stream",
     "text": [
      "привет\n"
     ]
    }
   ],
   "source": [
    "# байты в строку:\n",
    "ss = b'\\xd0\\xbf\\xd1\\x80\\xd0\\xb8\\xd0\\xb2\\xd0\\xb5\\xd1\\x82'.decode(encoding='utf-8') # нам нужно знать правильную кодировку последовательности байтов\n",
    "print(ss)"
   ]
  },
  {
   "cell_type": "markdown",
   "metadata": {},
   "source": [
    "то есть обратная операция - ДЕКОДИРОВНИЕ из байтов (представления) в строку (unicode)"
   ]
  },
  {
   "cell_type": "markdown",
   "metadata": {},
   "source": [
    "А как пайтон узнает что мы в текстах программ пайтон используем определенную кодировку?<br>\n",
    "за это отвечает такой вот комментарий в первой или второй строке модуля:<br>\n",
    "`# -*- coding: utf-8 -*-`<br>\n",
    "если такого комментария нет - то предполагается UTF-8 (по умолчанию используется во всех операционных системах)<br>\n",
    "`!НО` на диске всё хранится ввиде байтов `xd0\\xbf` и т.д.<br>\n",
    "https://docs.python.org/3/reference/lexical_analysis.html#encoding-declarations"
   ]
  },
  {
   "cell_type": "markdown",
   "metadata": {},
   "source": [
    "`Итоги:`<br>\n",
    "- Символы - это то, что человек читает и у каждого символа есть Юникод. В этом стандарте есть <u>все символы</u>,<br>\n",
    "которые придумало человечество.<br>\n",
    "- А форматы представления этих символов в сыром виде описаны с помощью этих форматов представления, которые называются UTF.<br>\n",
    "- И чтобы прочитать файл из кодировки, нам нужно знать в какой кодировке нам пришёл этот файл.<br>\n",
    "- **Python** может хранит последовательность 'сырых' байтов в специальном типе, который называется `bytes`, - этот тип<br>\n",
    "очень похож на строку (неизменяемый объект), следовательно, можно конкатенировать, читать ... и делать любые операции,<br>\n",
    "что и со строками.<br>\n",
    "- Чтобы создать изменяемую последовательность байт, - есть такой тип - `bytearray`"
   ]
  },
  {
   "cell_type": "code",
   "execution_count": 1,
   "metadata": {},
   "outputs": [],
   "source": [
    "ss = '# -*- coding: utf-8 -*-'"
   ]
  },
  {
   "cell_type": "code",
   "execution_count": 36,
   "metadata": {},
   "outputs": [
    {
     "data": {
      "text/plain": [
       "b'\\xff\\xfe#\\x00 \\x00-\\x00*\\x00-\\x00 \\x00c\\x00o\\x00d\\x00i\\x00n\\x00g\\x00:\\x00 \\x00u\\x00t\\x00f\\x00-\\x008\\x00 \\x00-\\x00*\\x00-\\x00'"
      ]
     },
     "execution_count": 36,
     "metadata": {},
     "output_type": "execute_result"
    }
   ],
   "source": [
    "sss = ss.encode('utf-16')\n",
    "sss"
   ]
  },
  {
   "cell_type": "code",
   "execution_count": 32,
   "metadata": {},
   "outputs": [
    {
     "data": {
      "text/plain": [
       "'# -*- coding: utf-8 -*-'"
      ]
     },
     "execution_count": 32,
     "metadata": {},
     "output_type": "execute_result"
    }
   ],
   "source": [
    "b'\\xff\\xfe#\\x00 \\x00-\\x00*\\x00-\\x00 \\x00c\\x00o\\x00d\\x00i\\x00n\\x00g\\x00:\\x00 \\x00u\\x00t\\x00f\\x00-\\x008\\x00 \\x00-\\x00*\\x00-\\x00'.decode('utf-16')"
   ]
  },
  {
   "cell_type": "markdown",
   "metadata": {},
   "source": [
    "## **9.3** *Режимы открытия файлов*"
   ]
  },
  {
   "cell_type": "markdown",
   "metadata": {},
   "source": [
    "Итак, изучив кодировки, мы можем приступить к изучению файлов.<br>\n",
    "**`Файл`** - это упорядоченная совокупность байтов, которая хранится на диске и/или занимает отдельную область внешней памяти"
   ]
  },
  {
   "cell_type": "code",
   "execution_count": 7,
   "metadata": {},
   "outputs": [],
   "source": [
    "from pprint import pprint"
   ]
  },
  {
   "cell_type": "code",
   "execution_count": 6,
   "metadata": {
    "collapsed": true,
    "jupyter": {
     "outputs_hidden": true
    }
   },
   "outputs": [
    {
     "name": "stdout",
     "output_type": "stream",
     "text": [
      "(b'My soul is dark - Oh! quickly string\\r\\n     The harp I yet can brook to h'\n",
      " b\"ear;\\r\\nAnd let thy gentle fingers fling\\r\\n     Its melting murmurs o'er mi\"\n",
      " b'ne ear.\\r\\nIf in this heart a hope be dear,\\r\\n     That sound shall charm i'\n",
      " b\"t forth again:\\r\\nIf in these eyes there lurk a tear,\\r\\n     'Twill flow, a\"\n",
      " b'nd cease to burn my brain.\\r\\n\\r\\nBut bid the strain be wild and deep,\\r\\n'\n",
      " b'     Nor let thy notes of joy be first:\\r\\nI tell thee, minstrel, I must w'\n",
      " b'eep,\\r\\n     Or else this heavy heart will burst;\\r\\nFor it hath been by sor'\n",
      " b\"row nursed,\\r\\n     And ached in sleepless silence, long;\\r\\nAnd now 'tis do\"\n",
      " b'omed to know the worst,\\r\\n     And break at once - or yield to song.\\r\\n')\n"
     ]
    }
   ],
   "source": [
    "# Файл можно открыть для чтения и прочитать в память содержимое\n",
    "file_name = 'D:\\Курсы\\Skillbox\\Основы Python\\python_homeworks\\lesson_009\\python_snippets\\\\byron.txt'\n",
    "file = open(file_name, mode='rb')  # mode (режим): чтение бинарное\n",
    "file_content = file.read()\n",
    "file.close()\n",
    "pprint(file_content)"
   ]
  },
  {
   "cell_type": "markdown",
   "metadata": {},
   "source": [
    "Имя файла может быть с путем по файловой системе,<br>\n",
    "если путь не указан - то ищется в рабочей директории скрипта<br>\n",
    "Начиная работать с файлами, мы касаемся окружения пайтона - операционной системы.<br>\n",
    "И тут возможны ошибки ОС: файл не найден, у пользователя нет доступа к файлу и т.п."
   ]
  },
  {
   "cell_type": "code",
   "execution_count": 9,
   "metadata": {
    "collapsed": true,
    "jupyter": {
     "outputs_hidden": true
    }
   },
   "outputs": [
    {
     "ename": "FileNotFoundError",
     "evalue": "[Errno 2] No such file or directory: 'D:\\\\Курсы\\\\Skillbox\\\\Основы Python\\\\python_homeworks\\\\lesson_009\\\\python_snippets\\\\byron777.txt'",
     "output_type": "error",
     "traceback": [
      "\u001b[1;31m---------------------------------------------------------------------------\u001b[0m",
      "\u001b[1;31mFileNotFoundError\u001b[0m                         Traceback (most recent call last)",
      "\u001b[1;32m<ipython-input-9-a5b1a811b603>\u001b[0m in \u001b[0;36m<module>\u001b[1;34m\u001b[0m\n\u001b[0;32m      1\u001b[0m \u001b[0mfile_name\u001b[0m \u001b[1;33m=\u001b[0m \u001b[1;34m'D:\\Курсы\\Skillbox\\Основы Python\\python_homeworks\\lesson_009\\python_snippets\\\\byron777.txt'\u001b[0m\u001b[1;33m\u001b[0m\u001b[1;33m\u001b[0m\u001b[0m\n\u001b[1;32m----> 2\u001b[1;33m \u001b[0mfile\u001b[0m \u001b[1;33m=\u001b[0m \u001b[0mopen\u001b[0m\u001b[1;33m(\u001b[0m\u001b[0mfile_name\u001b[0m\u001b[1;33m,\u001b[0m \u001b[0mmode\u001b[0m\u001b[1;33m=\u001b[0m\u001b[1;34m'rb'\u001b[0m\u001b[1;33m)\u001b[0m  \u001b[1;31m# mode (режим): чтение бинарное\u001b[0m\u001b[1;33m\u001b[0m\u001b[1;33m\u001b[0m\u001b[0m\n\u001b[0m\u001b[0;32m      3\u001b[0m \u001b[0mfile_content\u001b[0m \u001b[1;33m=\u001b[0m \u001b[0mfile\u001b[0m\u001b[1;33m.\u001b[0m\u001b[0mread\u001b[0m\u001b[1;33m(\u001b[0m\u001b[1;33m)\u001b[0m\u001b[1;33m\u001b[0m\u001b[1;33m\u001b[0m\u001b[0m\n\u001b[0;32m      4\u001b[0m \u001b[0mfile\u001b[0m\u001b[1;33m.\u001b[0m\u001b[0mclose\u001b[0m\u001b[1;33m(\u001b[0m\u001b[1;33m)\u001b[0m\u001b[1;33m\u001b[0m\u001b[1;33m\u001b[0m\u001b[0m\n\u001b[0;32m      5\u001b[0m \u001b[0mpprint\u001b[0m\u001b[1;33m(\u001b[0m\u001b[0mfile_content\u001b[0m\u001b[1;33m)\u001b[0m\u001b[1;33m\u001b[0m\u001b[1;33m\u001b[0m\u001b[0m\n",
      "\u001b[1;31mFileNotFoundError\u001b[0m: [Errno 2] No such file or directory: 'D:\\\\Курсы\\\\Skillbox\\\\Основы Python\\\\python_homeworks\\\\lesson_009\\\\python_snippets\\\\byron777.txt'"
     ]
    }
   ],
   "source": [
    "file_name = 'D:\\Курсы\\Skillbox\\Основы Python\\python_homeworks\\lesson_009\\python_snippets\\\\byron777.txt'\n",
    "file = open(file_name, mode='rb')  # mode (режим): чтение бинарное\n",
    "file_content = file.read()\n",
    "file.close()\n",
    "pprint(file_content)"
   ]
  },
  {
   "cell_type": "code",
   "execution_count": 10,
   "metadata": {
    "scrolled": true
   },
   "outputs": [
    {
     "name": "stdout",
     "output_type": "stream",
     "text": [
      "(b'\\xd0\\x97\\xd0\\xb8\\xd0\\xbc\\xd0\\xbd\\xd0\\xb5\\xd0\\xb5 \\xd1\\x83\\xd1'\n",
      " b'\\x82\\xd1\\x80\\xd0\\xbe\\r\\n\\r\\n\\xd0\\x9c\\xd0\\xbe\\xd1\\x80\\xd0\\xbe\\xd0\\xb7 '\n",
      " b'\\xd0\\xb8 \\xd1\\x81\\xd0\\xbe\\xd0\\xbb\\xd0\\xbd\\xd1\\x86\\xd0\\xb5; \\xd0\\xb4\\xd0'\n",
      " b'\\xb5\\xd0\\xbd\\xd1\\x8c \\xd1\\x87\\xd1\\x83\\xd0\\xb4\\xd0\\xb5\\xd1\\x81'\n",
      " b'\\xd0\\xbd\\xd1\\x8b\\xd0\\xb9!\\r\\n\\xd0\\x95\\xd1\\x89\\xd0\\xb5 \\xd1\\x82\\xd1\\x8b'\n",
      " b' \\xd0\\xb4\\xd1\\x80\\xd0\\xb5\\xd0\\xbc\\xd0\\xbb\\xd0\\xb5\\xd1\\x88\\xd1\\x8c, \\xd0'\n",
      " b'\\xb4\\xd1\\x80\\xd1\\x83\\xd0\\xb3 \\xd0\\xbf\\xd1\\x80\\xd0\\xb5\\xd0\\xbb'\n",
      " b'\\xd0\\xb5\\xd1\\x81\\xd1\\x82\\xd0\\xbd\\xd1\\x8b\\xd0\\xb9 \\xe2\\x80\\x94\\r\\n\\xd0\\x9f'\n",
      " b'\\xd0\\xbe\\xd1\\x80\\xd0\\xb0, \\xd0\\xba\\xd1\\x80\\xd0\\xb0\\xd1\\x81\\xd0\\xb0\\xd0\\xb2'\n",
      " b'\\xd0\\xb8\\xd1\\x86\\xd0\\xb0, \\xd0\\xbf\\xd1\\x80\\xd0\\xbe\\xd1\\x81\\xd0\\xbd\\xd0\\xb8'\n",
      " b'\\xd1\\x81\\xd1\\x8c:\\r\\n\\xd0\\x9e\\xd1\\x82\\xd0\\xba\\xd1\\x80\\xd0\\xbe\\xd0\\xb9 '\n",
      " b'\\xd1\\x81\\xd0\\xbe\\xd0\\xbc\\xd0\\xba\\xd0\\xbd\\xd1\\x83\\xd1\\x82\\xd1\\x8b'\n",
      " b' \\xd0\\xbd\\xd0\\xb5\\xd0\\xb3\\xd0\\xbe\\xd0\\xb9 \\xd0\\xb2\\xd0\\xb7\\xd0\\xbe\\xd1\\x80'\n",
      " b'\\xd1\\x8b\\r\\n\\xd0\\x9d\\xd0\\xb0\\xd0\\xb2\\xd1\\x81\\xd1\\x82\\xd1\\x80\\xd0\\xb5\\xd1\\x87'\n",
      " b'\\xd1\\x83 \\xd1\\x81\\xd0\\xb5\\xd0\\xb2\\xd0\\xb5\\xd1\\x80\\xd0\\xbd\\xd0\\xbe\\xd0\\xb9 '\n",
      " b'\\xd0\\x90\\xd0\\xb2\\xd1\\x80\\xd0\\xbe\\xd1\\x80\\xd1\\x8b,\\r\\n\\xd0\\x97\\xd0\\xb2\\xd0'\n",
      " b'\\xb5\\xd0\\xb7\\xd0\\xb4\\xd0\\xbe\\xd1\\x8e \\xd1\\x81\\xd0\\xb5\\xd0\\xb2'\n",
      " b'\\xd0\\xb5\\xd1\\x80\\xd0\\xb0 \\xd1\\x8f\\xd0\\xb2\\xd0\\xb8\\xd1\\x81\\xd1\\x8c!\\r\\n'\n",
      " b'\\r\\n\\xd0\\x92\\xd0\\xb5\\xd1\\x87\\xd0\\xbe\\xd1\\x80, \\xd1\\x82\\xd1\\x8b \\xd0'\n",
      " b'\\xbf\\xd0\\xbe\\xd0\\xbc\\xd0\\xbd\\xd0\\xb8\\xd1\\x88\\xd1\\x8c, \\xd0\\xb2\\xd1\\x8c\\xd1'\n",
      " b'\\x8e\\xd0\\xb3\\xd0\\xb0 \\xd0\\xb7\\xd0\\xbb\\xd0\\xb8\\xd0\\xbb\\xd0\\xb0'\n",
      " b'\\xd1\\x81\\xd1\\x8c,\\r\\n\\xd0\\x9d\\xd0\\xb0 \\xd0\\xbc\\xd1\\x83\\xd1\\x82\\xd0\\xbd'\n",
      " b'\\xd0\\xbe\\xd0\\xbc \\xd0\\xbd\\xd0\\xb5\\xd0\\xb1\\xd0\\xb5 \\xd0\\xbc\\xd0\\xb3\\xd0\\xbb'\n",
      " b'\\xd0\\xb0 \\xd0\\xbd\\xd0\\xbe\\xd1\\x81\\xd0\\xb8\\xd0\\xbb\\xd0\\xb0\\xd1\\x81\\xd1\\x8c;'\n",
      " b'\\r\\n\\xd0\\x9b\\xd1\\x83\\xd0\\xbd\\xd0\\xb0, \\xd0\\xba\\xd0\\xb0\\xd0\\xba \\xd0'\n",
      " b'\\xb1\\xd0\\xbb\\xd0\\xb5\\xd0\\xb4\\xd0\\xbd\\xd0\\xbe\\xd0\\xb5 \\xd0\\xbf'\n",
      " b'\\xd1\\x8f\\xd1\\x82\\xd0\\xbd\\xd0\\xbe,\\r\\n\\xd0\\xa1\\xd0\\xba\\xd0\\xb2\\xd0\\xbe\\xd0'\n",
      " b'\\xb7\\xd1\\x8c \\xd1\\x82\\xd1\\x83\\xd1\\x87\\xd0\\xb8 \\xd0\\xbc\\xd1\\x80\\xd0\\xb0\\xd1'\n",
      " b'\\x87\\xd0\\xbd\\xd1\\x8b\\xd0\\xb5 \\xd0\\xb6\\xd0\\xb5\\xd0\\xbb\\xd1\\x82'\n",
      " b'\\xd0\\xb5\\xd0\\xbb\\xd0\\xb0,\\r\\n\\xd0\\x98 \\xd1\\x82\\xd1\\x8b \\xd0\\xbf\\xd0'\n",
      " b'\\xb5\\xd1\\x87\\xd0\\xb0\\xd0\\xbb\\xd1\\x8c\\xd0\\xbd\\xd0\\xb0\\xd1\\x8f '\n",
      " b'\\xd1\\x81\\xd0\\xb8\\xd0\\xb4\\xd0\\xb5\\xd0\\xbb\\xd0\\xb0 \\xe2\\x80\\x94\\r\\n\\xd0\\x90'\n",
      " b' \\xd0\\xbd\\xd1\\x8b\\xd0\\xbd\\xd1\\x87\\xd0\\xb5... \\xd0\\xbf\\xd0\\xbe\\xd0'\n",
      " b'\\xb3\\xd0\\xbb\\xd1\\x8f\\xd0\\xb4\\xd0\\xb8 \\xd0\\xb2 \\xd0\\xbe\\xd0\\xba\\xd0\\xbd\\xd0'\n",
      " b'\\xbe:\\r\\n\\r\\n\\xd0\\x9f\\xd0\\xbe\\xd0\\xb4 \\xd0\\xb3\\xd0\\xbe\\xd0\\xbb\\xd1'\n",
      " b'\\x83\\xd0\\xb1\\xd1\\x8b\\xd0\\xbc\\xd0\\xb8 \\xd0\\xbd\\xd0\\xb5\\xd0\\xb1'\n",
      " b'\\xd0\\xb5\\xd1\\x81\\xd0\\xb0\\xd0\\xbc\\xd0\\xb8\\r\\n\\xd0\\x92\\xd0\\xb5\\xd0\\xbb\\xd0\\xb8'\n",
      " b'\\xd0\\xba\\xd0\\xbe\\xd0\\xbb\\xd0\\xb5\\xd0\\xbf\\xd0\\xbd\\xd1\\x8b\\xd0\\xbc'\n",
      " b'\\xd0\\xb8 \\xd0\\xba\\xd0\\xbe\\xd0\\xb2\\xd1\\x80\\xd0\\xb0\\xd0\\xbc\\xd0\\xb8,\\r\\n'\n",
      " b'\\xd0\\x91\\xd0\\xbb\\xd0\\xb5\\xd1\\x81\\xd1\\x82\\xd1\\x8f \\xd0\\xbd\\xd0\\xb0 \\xd1\\x81'\n",
      " b'\\xd0\\xbe\\xd0\\xbb\\xd0\\xbd\\xd1\\x86\\xd0\\xb5, \\xd1\\x81\\xd0\\xbd\\xd0\\xb5\\xd0\\xb3'\n",
      " b' \\xd0\\xbb\\xd0\\xb5\\xd0\\xb6\\xd0\\xb8\\xd1\\x82;\\r\\n\\xd0\\x9f\\xd1\\x80\\xd0\\xbe'\n",
      " b'\\xd0\\xb7\\xd1\\x80\\xd0\\xb0\\xd1\\x87\\xd0\\xbd\\xd1\\x8b\\xd0\\xb9 \\xd0'\n",
      " b'\\xbb\\xd0\\xb5\\xd1\\x81 \\xd0\\xbe\\xd0\\xb4\\xd0\\xb8\\xd0\\xbd \\xd1\\x87\\xd0\\xb5\\xd1'\n",
      " b'\\x80\\xd0\\xbd\\xd0\\xb5\\xd0\\xb5\\xd1\\x82,\\r\\n\\xd0\\x98 \\xd0\\xb5\\xd0\\xbb\\xd1'\n",
      " b'\\x8c \\xd1\\x81\\xd0\\xba\\xd0\\xb2\\xd0\\xbe\\xd0\\xb7\\xd1\\x8c \\xd0\\xb8\\xd0\\xbd\\xd0'\n",
      " b'\\xb5\\xd0\\xb9 \\xd0\\xb7\\xd0\\xb5\\xd0\\xbb\\xd0\\xb5\\xd0\\xbd\\xd0\\xb5'\n",
      " b'\\xd0\\xb5\\xd1\\x82,\\r\\n\\xd0\\x98 \\xd1\\x80\\xd0\\xb5\\xd1\\x87\\xd0\\xba\\xd0\\xb0'\n",
      " b' \\xd0\\xbf\\xd0\\xbe\\xd0\\xb4\\xd0\\xbe \\xd0\\xbb\\xd1\\x8c\\xd0\\xb4\\xd0\\xbe\\xd0\\xbc'\n",
      " b' \\xd0\\xb1\\xd0\\xbb\\xd0\\xb5\\xd1\\x81\\xd1\\x82\\xd0\\xb8\\xd1\\x82.\\r\\n\\r\\n'\n",
      " b'\\xd0\\x92\\xd1\\x81\\xd1\\x8f \\xd0\\xba\\xd0\\xbe\\xd0\\xbc\\xd0\\xbd\\xd0'\n",
      " b'\\xb0\\xd1\\x82\\xd0\\xb0 \\xd1\\x8f\\xd0\\xbd\\xd1\\x82\\xd0\\xb0\\xd1\\x80'\n",
      " b'\\xd0\\xbd\\xd1\\x8b\\xd0\\xbc \\xd0\\xb1\\xd0\\xbb\\xd0\\xb5\\xd1\\x81\\xd0'\n",
      " b'\\xba\\xd0\\xbe\\xd0\\xbc\\r\\n\\xd0\\x9e\\xd0\\xb7\\xd0\\xb0\\xd1\\x80\\xd0\\xb5\\xd0\\xbd\\xd0'\n",
      " b'\\xb0. \\xd0\\x92\\xd0\\xb5\\xd1\\x81\\xd0\\xb5\\xd0\\xbb\\xd1\\x8b\\xd0\\xbc \\xd1\\x82'\n",
      " b'\\xd1\\x80\\xd0\\xb5\\xd1\\x81\\xd0\\xba\\xd0\\xbe\\xd0\\xbc\\r\\n\\xd0\\xa2\\xd1\\x80\\xd0\\xb5'\n",
      " b'\\xd1\\x89\\xd0\\xb8\\xd1\\x82 \\xd0\\xb7\\xd0\\xb0\\xd1\\x82\\xd0\\xbe\\xd0'\n",
      " b'\\xbf\\xd0\\xbb\\xd0\\xb5\\xd0\\xbd\\xd0\\xbd\\xd0\\xb0\\xd1\\x8f \\xd0\\xbf'\n",
      " b'\\xd0\\xb5\\xd1\\x87\\xd1\\x8c.\\r\\n\\xd0\\x9f\\xd1\\x80\\xd0\\xb8\\xd1\\x8f\\xd1\\x82\\xd0'\n",
      " b'\\xbd\\xd0\\xbe \\xd0\\xb4\\xd1\\x83\\xd0\\xbc\\xd0\\xb0\\xd1\\x82\\xd1\\x8c \\xd1\\x83 '\n",
      " b'\\xd0\\xbb\\xd0\\xb5\\xd0\\xb6\\xd0\\xb0\\xd0\\xbd\\xd0\\xba\\xd0\\xb8.\\r\\n\\xd0\\x9d\\xd0'\n",
      " b'\\xbe \\xd0\\xb7\\xd0\\xbd\\xd0\\xb0\\xd0\\xb5\\xd1\\x88\\xd1\\x8c: \\xd0\\xbd\\xd0\\xb5'\n",
      " b' \\xd0\\xb2\\xd0\\xb5\\xd0\\xbb\\xd0\\xb5\\xd1\\x82\\xd1\\x8c \\xd0\\xbb\\xd0\\xb8 \\xd0'\n",
      " b'\\xb2 \\xd1\\x81\\xd0\\xb0\\xd0\\xbd\\xd0\\xba\\xd0\\xb8\\r\\n\\xd0\\x9a\\xd0\\xbe\\xd0\\xb1'\n",
      " b'\\xd1\\x8b\\xd0\\xbb\\xd0\\xba\\xd1\\x83 \\xd0\\xb1\\xd1\\x83\\xd1\\x80\\xd1\\x83\\xd1\\x8e '\n",
      " b'\\xd0\\xb7\\xd0\\xb0\\xd0\\xbf\\xd1\\x80\\xd0\\xb5\\xd1\\x87\\xd1\\x8c?\\r\\n\\r\\n\\xd0'\n",
      " b'\\xa1\\xd0\\xba\\xd0\\xbe\\xd0\\xbb\\xd1\\x8c\\xd0\\xb7\\xd1\\x8f \\xd0\\xbf\\xd0\\xbe \\xd1'\n",
      " b'\\x83\\xd1\\x82\\xd1\\x80\\xd0\\xb5\\xd0\\xbd\\xd0\\xbd\\xd0\\xb5\\xd0\\xbc\\xd1'\n",
      " b'\\x83 \\xd1\\x81\\xd0\\xbd\\xd0\\xb5\\xd0\\xb3\\xd1\\x83,\\r\\n\\xd0\\x94\\xd1\\x80\\xd1'\n",
      " b'\\x83\\xd0\\xb3 \\xd0\\xbc\\xd0\\xb8\\xd0\\xbb\\xd1\\x8b\\xd0\\xb9, \\xd0\\xbf\\xd1\\x80'\n",
      " b'\\xd0\\xb5\\xd0\\xb4\\xd0\\xb0\\xd0\\xb4\\xd0\\xb8\\xd0\\xbc\\xd1\\x81\\xd1\\x8f'\n",
      " b' \\xd0\\xb1\\xd0\\xb5\\xd0\\xb3\\xd1\\x83\\r\\n\\xd0\\x9d\\xd0\\xb5\\xd1\\x82\\xd0\\xb5\\xd1'\n",
      " b'\\x80\\xd0\\xbf\\xd0\\xb5\\xd0\\xbb\\xd0\\xb8\\xd0\\xb2\\xd0\\xbe\\xd0\\xb3\\xd0'\n",
      " b'\\xbe \\xd0\\xba\\xd0\\xbe\\xd0\\xbd\\xd1\\x8f\\r\\n\\xd0\\x98 \\xd0\\xbd\\xd0\\xb0\\xd0'\n",
      " b'\\xb2\\xd0\\xb5\\xd1\\x81\\xd1\\x82\\xd0\\xb8\\xd0\\xbc \\xd0\\xbf\\xd0\\xbe'\n",
      " b'\\xd0\\xbb\\xd1\\x8f \\xd0\\xbf\\xd1\\x83\\xd1\\x81\\xd1\\x82\\xd1\\x8b\\xd0\\xb5,\\r\\n'\n",
      " b'\\xd0\\x9b\\xd0\\xb5\\xd1\\x81\\xd0\\xb0, \\xd0\\xbd\\xd0\\xb5\\xd0\\xb4\\xd0\\xb0\\xd0\\xb2'\n",
      " b'\\xd0\\xbd\\xd0\\xbe \\xd1\\x81\\xd1\\x82\\xd0\\xbe\\xd0\\xbb\\xd1\\x8c \\xd0\\xb3\\xd1\\x83'\n",
      " b'\\xd1\\x81\\xd1\\x82\\xd1\\x8b\\xd0\\xb5,\\r\\n\\xd0\\x98 \\xd0\\xb1\\xd0\\xb5\\xd1\\x80'\n",
      " b'\\xd0\\xb5\\xd0\\xb3, \\xd0\\xbc\\xd0\\xb8\\xd0\\xbb\\xd1\\x8b\\xd0\\xb9 \\xd0\\xb4\\xd0'\n",
      " b'\\xbb\\xd1\\x8f \\xd0\\xbc\\xd0\\xb5\\xd0\\xbd\\xd1\\x8f.\\r\\n\\r\\n1829 \\xd0\\xb3.')\n"
     ]
    }
   ],
   "source": [
    "# С русскими символами все не так просто\n",
    "file_name = 'D:\\Курсы\\Skillbox\\Основы Python\\python_homeworks\\lesson_009\\python_snippets\\pushkin.txt'\n",
    "file = open(file_name, mode='rb')\n",
    "file_content = file.read()\n",
    "file.close()\n",
    "pprint(file_content) # в сыром байтовом коде не видно русских символов"
   ]
  },
  {
   "cell_type": "code",
   "execution_count": 12,
   "metadata": {
    "scrolled": true
   },
   "outputs": [
    {
     "name": "stdout",
     "output_type": "stream",
     "text": [
      "('Зимнее утро\\r\\n'\n",
      " '\\r\\n'\n",
      " 'Мороз и солнце; день чудесный!\\r\\n'\n",
      " 'Еще ты дремлешь, друг прелестный —\\r\\n'\n",
      " 'Пора, красавица, проснись:\\r\\n'\n",
      " 'Открой сомкнуты негой взоры\\r\\n'\n",
      " 'Навстречу северной Авроры,\\r\\n'\n",
      " 'Звездою севера явись!\\r\\n'\n",
      " '\\r\\n'\n",
      " 'Вечор, ты помнишь, вьюга злилась,\\r\\n'\n",
      " 'На мутном небе мгла носилась;\\r\\n'\n",
      " 'Луна, как бледное пятно,\\r\\n'\n",
      " 'Сквозь тучи мрачные желтела,\\r\\n'\n",
      " 'И ты печальная сидела —\\r\\n'\n",
      " 'А нынче... погляди в окно:\\r\\n'\n",
      " '\\r\\n'\n",
      " 'Под голубыми небесами\\r\\n'\n",
      " 'Великолепными коврами,\\r\\n'\n",
      " 'Блестя на солнце, снег лежит;\\r\\n'\n",
      " 'Прозрачный лес один чернеет,\\r\\n'\n",
      " 'И ель сквозь иней зеленеет,\\r\\n'\n",
      " 'И речка подо льдом блестит.\\r\\n'\n",
      " '\\r\\n'\n",
      " 'Вся комната янтарным блеском\\r\\n'\n",
      " 'Озарена. Веселым треском\\r\\n'\n",
      " 'Трещит затопленная печь.\\r\\n'\n",
      " 'Приятно думать у лежанки.\\r\\n'\n",
      " 'Но знаешь: не велеть ли в санки\\r\\n'\n",
      " 'Кобылку бурую запречь?\\r\\n'\n",
      " '\\r\\n'\n",
      " 'Скользя по утреннему снегу,\\r\\n'\n",
      " 'Друг милый, предадимся бегу\\r\\n'\n",
      " 'Нетерпеливого коня\\r\\n'\n",
      " 'И навестим поля пустые,\\r\\n'\n",
      " 'Леса, недавно столь густые,\\r\\n'\n",
      " 'И берег, милый для меня.\\r\\n'\n",
      " '\\r\\n'\n",
      " '1829 г.')\n"
     ]
    }
   ],
   "source": [
    "# поэтому перекодируем в UTF-8\n",
    "pprint(file_content.decode('utf8'))"
   ]
  },
  {
   "cell_type": "code",
   "execution_count": 18,
   "metadata": {
    "scrolled": true
   },
   "outputs": [
    {
     "name": "stdout",
     "output_type": "stream",
     "text": [
      "('Зимнее утро\\n'\n",
      " '\\n'\n",
      " 'Мороз и солнце; день чудесный!\\n'\n",
      " 'Еще ты дремлешь, друг прелестный —\\n'\n",
      " 'Пора, красавица, проснись:\\n'\n",
      " 'Открой сомкнуты негой взоры\\n'\n",
      " 'Навстречу северной Авроры,\\n'\n",
      " 'Звездою севера явись!\\n'\n",
      " '\\n'\n",
      " 'Вечор, ты помнишь, вьюга злилась,\\n'\n",
      " 'На мутном небе мгла носилась;\\n'\n",
      " 'Луна, как бледное пятно,\\n'\n",
      " 'Сквозь тучи мрачные желтела,\\n'\n",
      " 'И ты печальная сидела —\\n'\n",
      " 'А нынче... погляди в окно:\\n'\n",
      " '\\n'\n",
      " 'Под голубыми небесами\\n'\n",
      " 'Великолепными коврами,\\n'\n",
      " 'Блестя на солнце, снег лежит;\\n'\n",
      " 'Прозрачный лес один чернеет,\\n'\n",
      " 'И ель сквозь иней зеленеет,\\n'\n",
      " 'И речка подо льдом блестит.\\n'\n",
      " '\\n'\n",
      " 'Вся комната янтарным блеском\\n'\n",
      " 'Озарена. Веселым треском\\n'\n",
      " 'Трещит затопленная печь.\\n'\n",
      " 'Приятно думать у лежанки.\\n'\n",
      " 'Но знаешь: не велеть ли в санки\\n'\n",
      " 'Кобылку бурую запречь?\\n'\n",
      " '\\n'\n",
      " 'Скользя по утреннему снегу,\\n'\n",
      " 'Друг милый, предадимся бегу\\n'\n",
      " 'Нетерпеливого коня\\n'\n",
      " 'И навестим поля пустые,\\n'\n",
      " 'Леса, недавно столь густые,\\n'\n",
      " 'И берег, милый для меня.\\n'\n",
      " '\\n'\n",
      " '1829 г.')\n"
     ]
    }
   ],
   "source": [
    "# Если режим будет 'r' то  автоматически перекодируется из UTF8, но можно указать кодировку\n",
    "file_name = 'D:\\Курсы\\Skillbox\\Основы Python\\python_homeworks\\lesson_009\\python_snippets\\pushkin.txt'\n",
    "# file = open(file_name, mode='r')  # mode (режим): чтение символьное\n",
    "file = open(file_name, mode='r', encoding='utf8')\n",
    "file_content = file.read()\n",
    "file.close()\n",
    "pprint(file_content)"
   ]
  },
  {
   "cell_type": "code",
   "execution_count": 20,
   "metadata": {
    "scrolled": true
   },
   "outputs": [
    {
     "name": "stdout",
     "output_type": "stream",
     "text": [
      "('Зимнее утро\\n'\n",
      " '\\n'\n",
      " 'Мороз и солнце; день чудесный!\\n'\n",
      " 'Еще ты дремлешь, друг прелестный —\\n'\n",
      " 'Пора, красавица, проснись:\\n'\n",
      " 'Открой сомкнуты негой взоры\\n'\n",
      " 'Навстречу северной Авроры,\\n'\n",
      " 'Звездою севера явись!\\n'\n",
      " '\\n'\n",
      " 'Вечор, ты помнишь, вьюга злилась,\\n'\n",
      " 'На мутном небе мгла носилась;\\n'\n",
      " 'Луна, как бледное пятно,\\n'\n",
      " 'Сквозь тучи мрачные желтела,\\n'\n",
      " 'И ты печальная сидела —\\n'\n",
      " 'А нынче... погляди в окно:\\n'\n",
      " '\\n'\n",
      " 'Под голубыми небесами\\n'\n",
      " 'Великолепными коврами,\\n'\n",
      " 'Блестя на солнце, снег лежит;\\n'\n",
      " 'Прозрачный лес один чернеет,\\n'\n",
      " 'И ель сквозь иней зеленеет,\\n'\n",
      " 'И речка подо льдом блестит.\\n'\n",
      " '\\n'\n",
      " 'Вся комната янтарным блеском\\n'\n",
      " 'Озарена. Веселым треском\\n'\n",
      " 'Трещит затопленная печь.\\n'\n",
      " 'Приятно думать у лежанки.\\n'\n",
      " 'Но знаешь: не велеть ли в санки\\n'\n",
      " 'Кобылку бурую запречь?\\n'\n",
      " '\\n'\n",
      " 'Скользя по утреннему снегу,\\n'\n",
      " 'Друг милый, предадимся бегу\\n'\n",
      " 'Нетерпеливого коня\\n'\n",
      " 'И навестим поля пустые,\\n'\n",
      " 'Леса, недавно столь густые,\\n'\n",
      " 'И берег, милый для меня.\\n'\n",
      " '\\n'\n",
      " '1829 г.')\n"
     ]
    }
   ],
   "source": [
    "# но можно указать кодировку\n",
    "file_name = 'D:\\Курсы\\Skillbox\\Основы Python\\python_homeworks\\lesson_009\\python_snippets\\pushkin_cp1251.txt'\n",
    "file = open(file_name, mode='r', encoding='cp1251')  # mode (режим): чтение символьное\n",
    "file_content = file.read()\n",
    "file.close()\n",
    "pprint(file_content)\n",
    "# Если файла на диске нет - будет ошибка"
   ]
  },
  {
   "cell_type": "markdown",
   "metadata": {},
   "source": [
    "Реално на диске лежат файлы в сырых байтах - там нет никаких символов. Кодировку определяет ОС по умолчанию: cp1251 - для Windows, utf8 - для Linux и MacOS"
   ]
  },
  {
   "cell_type": "code",
   "execution_count": 22,
   "metadata": {},
   "outputs": [],
   "source": [
    "# А что с записью? тоже все просто\n",
    "file_name = 'D:\\Курсы\\Skillbox\\Основы Python\\python_homeworks\\lesson_009\\python_snippets\\out.txt'\n",
    "file = open(file_name, mode='w', encoding='utf8')  # mode (режим): запись символьная, кодировка по умолчанию utf8\n",
    "file_content = 'hello, мир!' # тут уже запись не в сырых байтах, а в юникоде (в соответствии с выбранной кодировкой)\n",
    "file.write(file_content)\n",
    "file.close()"
   ]
  },
  {
   "cell_type": "code",
   "execution_count": 25,
   "metadata": {},
   "outputs": [],
   "source": [
    "# бинарный режим требует байтов\n",
    "file_name = 'D:\\Курсы\\Skillbox\\Основы Python\\python_homeworks\\lesson_009\\python_snippets\\out.txt'\n",
    "file = open(file_name, mode='wb')  # mode (режим): запись бинарная\n",
    "file_content = b'hello'\n",
    "file.write(file_content)\n",
    "file.close()\n",
    "# Если файла на диске нет - он будет создан, пустой"
   ]
  },
  {
   "cell_type": "markdown",
   "metadata": {},
   "source": [
    "**`Важно!`** Когда мы открываем файл в режиме write, то файл весь обнуляется (т.е. всё, что там было - удаляется) и программа заново начинает туда писать<br>\n",
    "Если файла на диске нету - то он будет создан пустой, а если есть - то он будет обнулён (перезаписан)"
   ]
  },
  {
   "cell_type": "code",
   "execution_count": 36,
   "metadata": {},
   "outputs": [],
   "source": [
    "# режим добавления в конец (режим a - append)\n",
    "file_name = 'D:\\Курсы\\Skillbox\\Основы Python\\python_homeworks\\lesson_009\\python_snippets\\out.txt'\n",
    "file = open(file_name, mode='a')  # mode (режим): запись в конец\n",
    "file_content = 'hello, мир! '\n",
    "file.write(file_content)\n",
    "file.close()\n",
    "# Если файла на диске нет - он будет создан, пустой"
   ]
  },
  {
   "cell_type": "markdown",
   "metadata": {},
   "source": [
    "Т.е. в данном случае, если файла на диске нету - то он будет создан пустой, а если есть - то он будет обновлён (добавлена запись в конец файла)"
   ]
  },
  {
   "cell_type": "code",
   "execution_count": 45,
   "metadata": {
    "collapsed": true,
    "jupyter": {
     "outputs_hidden": true
    }
   },
   "outputs": [
    {
     "name": "stdout",
     "output_type": "stream",
     "text": [
      "('My soul is dark - Oh! quickly string\\n'\n",
      " '     The harp I yet can brook to hear;\\n'\n",
      " 'And let thy gentle fingers fling\\n'\n",
      " \"     Its melting murmurs o'er mine ear.\\n\"\n",
      " 'If in this heart a hope be dear,\\n'\n",
      " '     That sound shall charm it forth again:\\n'\n",
      " 'If in these eyes there lurk a tear,\\n'\n",
      " \"     'Twill flow, and cease to burn my brain.\\n\"\n",
      " '\\n'\n",
      " 'But bid the strain be wild and deep,\\n'\n",
      " '     Nor let thy notes of joy be first:\\n'\n",
      " 'I tell thee, minstrel, I must weep,\\n'\n",
      " '     Or else this heavy heart will burst;\\n'\n",
      " 'For it hath been by sorrow nursed,\\n'\n",
      " '     And ached in sleepless silence, long;\\n'\n",
      " \"And now 'tis doomed to know the worst,\\n\"\n",
      " '     And break at once - or yield to song.\\n'\n",
      " '\\n'\n",
      " 'appended line!\\n'\n",
      " ' appended line!\\n'\n",
      " ' appended line!')\n"
     ]
    }
   ],
   "source": [
    "# режим чтение с записью\n",
    "file_name = 'D:\\Курсы\\Skillbox\\Основы Python\\python_homeworks\\lesson_009\\python_snippets\\\\byron.txt'\n",
    "file = open(file_name, mode='r+')  # mode (режим): чтение с записью\n",
    "file_content = file.read()\n",
    "file.write('\\n appended line!')\n",
    "file.close()\n",
    "pprint(file_content)\n",
    "# Если файла на диске нет - будет ошибка"
   ]
  },
  {
   "cell_type": "code",
   "execution_count": 47,
   "metadata": {},
   "outputs": [
    {
     "name": "stdout",
     "output_type": "stream",
     "text": [
      "''\n"
     ]
    }
   ],
   "source": [
    "# режим запись с чтением\n",
    "file_name = 'D:\\Курсы\\Skillbox\\Основы Python\\python_homeworks\\lesson_009\\python_snippets\\out.txt'\n",
    "file = open(file_name, mode='w+')  # mode (режим): запись с чтением\n",
    "file_content = file.read()\n",
    "file.write('\\n appended line!')\n",
    "file.close()\n",
    "pprint(file_content)\n",
    "# Если файла на диске нет - создастся пустой, если есть - обнулится"
   ]
  },
  {
   "cell_type": "markdown",
   "metadata": {},
   "source": [
    "Т.е. в этом режиме файл открывается, считывается, потом всё удаляется - и записывается заново"
   ]
  },
  {
   "cell_type": "markdown",
   "metadata": {},
   "source": [
    "*Итак, мы посмотрели как мы можем работать с файлами в **Python**: если нам нужен \"сырой\" файл - мы открываем его в бинарном режиме,*<br>\n",
    "*или же, открываем закодированные файлы, - тогда нужно делать раскодирование файла, поэтому нам нужно указывать кодировку*"
   ]
  },
  {
   "cell_type": "markdown",
   "metadata": {},
   "source": [
    "## **9.4** *Позиционирование в файле*"
   ]
  },
  {
   "cell_type": "markdown",
   "metadata": {},
   "source": [
    "Т.к. **`Файл`** - это упорядоченная совокупность байтов, которая хранится на диске и/или занимает отдельную область внешней памяти,<br>\n",
    "то файл можно представить как ленту на шоколадной фабрике, только вместо конфет - байты.<br>\n",
    "Лента имеет начало и конец, каждая конфета пронумерована. И мы можем ходить вдоль ленты - брать или класть конфеты.<br>\n",
    "Если файл открыт только для чтения (посмотреть на конфеты), - то при открытии файла стоим вначале ленты, на 0 месте,<br>\n",
    "А при самом чтении - сдвигаемся вдоль ленты на количество прочитанных конфет.<br>\n",
    "`file.tell()` говорит нам текущую позицию"
   ]
  },
  {
   "cell_type": "code",
   "execution_count": 49,
   "metadata": {},
   "outputs": [],
   "source": [
    "import io\n",
    "from pprint import pprint"
   ]
  },
  {
   "cell_type": "markdown",
   "metadata": {},
   "source": [
    "Сначала посмотрим пример с Байроном:"
   ]
  },
  {
   "cell_type": "code",
   "execution_count": 50,
   "metadata": {},
   "outputs": [
    {
     "name": "stdout",
     "output_type": "stream",
     "text": [
      "0\n"
     ]
    }
   ],
   "source": [
    "file_name = r'D:\\Курсы\\Skillbox\\Основы Python\\python_homeworks\\lesson_009\\python_snippets\\byron.txt'\n",
    "file = open(file_name, mode='r', encoding='utf8')\n",
    "print(file.tell())"
   ]
  },
  {
   "cell_type": "code",
   "execution_count": 51,
   "metadata": {},
   "outputs": [
    {
     "name": "stdout",
     "output_type": "stream",
     "text": [
      "читаем 100 символов\n",
      "My soul is dark - Oh! quickly string\n",
      "     The harp I yet can brook to hear;\n",
      "And let thy gentle finge\n",
      "102\n"
     ]
    }
   ],
   "source": [
    "print('читаем 100 символов')\n",
    "file_content = file.read(100)  # кол-во прочитываемого в символах\n",
    "print(file_content)\n",
    "print(file.tell())  # текущая позиция в байтах!"
   ]
  },
  {
   "cell_type": "code",
   "execution_count": 52,
   "metadata": {
    "collapsed": true,
    "jupyter": {
     "outputs_hidden": true
    }
   },
   "outputs": [
    {
     "name": "stdout",
     "output_type": "stream",
     "text": [
      "читаем остальное\n",
      "rs fling\n",
      "     Its melting murmurs o'er mine ear.\n",
      "If in this heart a hope be dear,\n",
      "     That sound shall charm it forth again:\n",
      "If in these eyes there lurk a tear,\n",
      "     'Twill flow, and cease to burn my brain.\n",
      "\n",
      "But bid the strain be wild and deep,\n",
      "     Nor let thy notes of joy be first:\n",
      "I tell thee, minstrel, I must weep,\n",
      "     Or else this heavy heart will burst;\n",
      "For it hath been by sorrow nursed,\n",
      "     And ached in sleepless silence, long;\n",
      "And now 'tis doomed to know the worst,\n",
      "     And break at once - or yield to song.\n",
      "\n",
      "641\n"
     ]
    }
   ],
   "source": [
    "print('читаем остальное')\n",
    "file_content = file.read()\n",
    "print(file_content)\n",
    "print(file.tell())  # в байтах!\n",
    "\n",
    "file.close()"
   ]
  },
  {
   "cell_type": "markdown",
   "metadata": {},
   "source": [
    "Потом - с Пушкиным:"
   ]
  },
  {
   "cell_type": "code",
   "execution_count": 53,
   "metadata": {},
   "outputs": [],
   "source": [
    "# Позицию чтения можно менять - переходить в начала или в коннец\n",
    "file_name = 'D:\\Курсы\\Skillbox\\Основы Python\\python_homeworks\\lesson_009\\python_snippets\\pushkin.txt'\n",
    "file = open(file_name, mode='r', encoding='utf8')"
   ]
  },
  {
   "cell_type": "code",
   "execution_count": 54,
   "metadata": {},
   "outputs": [
    {
     "name": "stdout",
     "output_type": "stream",
     "text": [
      "Зимнее утро\n",
      "\n",
      "Мороз и солнце; день чудесный!\n",
      "Еще ты дремлешь, друг прелестный —\n",
      "Пора, красавица, прос\n"
     ]
    }
   ],
   "source": [
    "file_content = file.read(100)  # в символах\n",
    "print(file_content)"
   ]
  },
  {
   "cell_type": "code",
   "execution_count": 55,
   "metadata": {},
   "outputs": [],
   "source": [
    "new_position = file.seek(0, io.SEEK_SET) # первый параметр фунткции - на сколько мы сдвигаемся, а второй пармаетр - это признак, от которого мы двигаемся\n",
    "# io.SEEK_SET - начало файла\n",
    "# io.SEEK_CUR - текущая позиция\n",
    "# io.SEEK_END - конец файла"
   ]
  },
  {
   "cell_type": "code",
   "execution_count": 56,
   "metadata": {},
   "outputs": [
    {
     "name": "stdout",
     "output_type": "stream",
     "text": [
      "Зимнее утро\n",
      "\n",
      "Мороз и солнце; день чудесный!\n",
      "Еще ты дремлешь, друг прелестный —\n",
      "Пора, красавица, прос\n"
     ]
    }
   ],
   "source": [
    "# т.е. мы перемещаемся на самое начало файла и начинаем читать всё сначала\n",
    "file_content = file.read(100)  # в символах\n",
    "print(file_content)\n",
    "\n",
    "file.close()\n",
    "# аналогично для записи"
   ]
  },
  {
   "cell_type": "markdown",
   "metadata": {},
   "source": [
    "На на самом деле это движение по файлу при помощи метода `seek` используется достаточно редко. Только если используются бинарные файлы.<br>\n",
    "В текстовых же файлах побайтове разделение символов может привести к ошибке (если мы случайно неудачно разделим побайтово один символ"
   ]
  },
  {
   "cell_type": "code",
   "execution_count": 72,
   "metadata": {},
   "outputs": [
    {
     "name": "stdout",
     "output_type": "stream",
     "text": [
      "('D:\\\\Курсы\\\\Skillbox\\\\Основы '\n",
      " 'Python\\\\python_homeworks\\\\lesson_009\\\\python_snippets\\\\pushkin.txt')\n",
      "'w'\n",
      "'utf8'\n",
      "False\n"
     ]
    }
   ],
   "source": [
    "# Свойства и функции у обьекта файл\n",
    "file_name = 'D:\\Курсы\\Skillbox\\Основы Python\\python_homeworks\\lesson_009\\python_snippets\\pushkin.txt'\n",
    "file = open(file_name, mode='w', encoding='utf8')\n",
    "# file.close()\n",
    "pprint(file.name)\n",
    "pprint(file.mode)\n",
    "pprint(file.encoding)\n",
    "pprint(file.closed)"
   ]
  },
  {
   "cell_type": "code",
   "execution_count": 73,
   "metadata": {},
   "outputs": [
    {
     "name": "stdout",
     "output_type": "stream",
     "text": [
      "False\n",
      "True\n",
      "True\n"
     ]
    }
   ],
   "source": [
    "pprint(file.readable())  # файл можно читать\n",
    "pprint(file.writable())  # файл можно писать\n",
    "pprint(file.seekable())  # файл поддерживает произвольный доступ (кем является файл на самом деле). Если файл находится на диске или в памяти - то True. Но могут и не иметь этого произвольного доступа"
   ]
  },
  {
   "cell_type": "code",
   "execution_count": 95,
   "metadata": {},
   "outputs": [
    {
     "name": "stdout",
     "output_type": "stream",
     "text": [
      "10\n",
      "None\n"
     ]
    }
   ],
   "source": [
    "pprint(file.truncate(10)) # обрезает файл до указанного количества строк\n",
    "pprint(file.flush()) # обычно файл буферезирован, флаш записвыает весь буфер на диск. Гораздо быстрее и производительнее - буферизировать (пишется на диск лишь один раз для 4Кб,\n",
    "# но если файл большой, то этот параметр позволяет записывать на диск не буферизируя в ОЗУ. Это полезно ещё и когда нам нельзя терять данные при падении программы во время чтения файла.\n",
    "# Это очень полезная функция, очень часто встречающаяся в промышленных программах. А при закрытии программы, буфер автоматически записывается на диск. Причём, это всё только при записи в файл."
   ]
  },
  {
   "cell_type": "markdown",
   "metadata": {},
   "source": [
    "Файлы по сути являются потоками байтов - streams. Т.е. более высокий уровень абстракции над файлом - это потоки.<br>\n",
    "Потому что, мы можем представить что у нас есть труба - и из этой трубы летит поток байтов - это и есть поток (stream).<br>\n",
    "Потоком может быть что угодно: запись с микрофона например, которая превращается также в поток байтов.<br>\n",
    "Точно также происходит работа с файлом - потоковое чтение/запись.<br>\n",
    "Можно сказать, что работа с файлами является наследником класса Потоки.<br>\n",
    "Потоком также может быть поток байтов из сети (битовые потоки).<br>\n",
    "И вот как раз, для таких вот поточных файлов параметр `seekable` может быть **`False`**.<br>\n",
    "Т.е. мы в потоке байт, который нам льётся из сети (микрофона, камеры, контроллера ... etc.), позиционироваться не можем.<br>\n",
    "А вот в файлах, которые уже записаны в памяти или на диске, - мы можем делать поиск (`seekable=`**`True`**).<br>\n",
    "Но, в общем случае, файлы - это стримы, т.е. потоки.<br>\n",
    "Почитать про стримы можно [здесь](https://docs.python.org/3/library/io.html)"
   ]
  },
  {
   "cell_type": "markdown",
   "metadata": {},
   "source": [
    "*Итак, мы изучили то, как можно читать* ***файлы*** *кусочками, как по ним двигаться, ну и познакомились с теоретическими основами* ***потоков (стримов)***"
   ]
  },
  {
   "cell_type": "markdown",
   "metadata": {},
   "source": [
    "## **9.5** *Оператор withh*\n",
    "\n",
    "### Простые формы работы с файлами"
   ]
  },
  {
   "cell_type": "code",
   "execution_count": 60,
   "metadata": {
    "scrolled": true
   },
   "outputs": [
    {
     "name": "stdout",
     "output_type": "stream",
     "text": [
      "Зимнее утро\n",
      "\n",
      "\n",
      "\n",
      "Мороз и солнце; день чудесный!\n",
      "\n",
      "Еще ты дремлешь, друг прелестный —\n",
      "\n",
      "Пора, красавица, проснись:\n",
      "\n",
      "Открой сомкнуты негой взоры\n",
      "\n",
      "Навстречу северной Авроры,\n",
      "\n",
      "Звездою севера явись!\n",
      "\n",
      "\n",
      "\n",
      "Вечор, ты помнишь, вьюга злилась,\n",
      "\n",
      "На мутном небе мгла носилась;\n",
      "\n",
      "Луна, как бледное пятно,\n",
      "\n",
      "Сквозь тучи мрачные желтела,\n",
      "\n",
      "И ты печальная сидела —\n",
      "\n",
      "А нынче... погляди в окно:\n",
      "\n",
      "\n",
      "\n",
      "Под голубыми небесами\n",
      "\n",
      "Великолепными коврами,\n",
      "\n",
      "Блестя на солнце, снег лежит;\n",
      "\n",
      "Прозрачный лес один чернеет,\n",
      "\n",
      "И ель сквозь иней зеленеет,\n",
      "\n",
      "И речка подо льдом блестит.\n",
      "\n",
      "\n",
      "\n",
      "Вся комната янтарным блеском\n",
      "\n",
      "Озарена. Веселым треском\n",
      "\n",
      "Трещит затопленная печь.\n",
      "\n",
      "Приятно думать у лежанки.\n",
      "\n",
      "Но знаешь: не велеть ли в санки\n",
      "\n",
      "Кобылку бурую запречь?\n",
      "\n",
      "\n",
      "\n",
      "Скользя по утреннему снегу,\n",
      "\n",
      "Друг милый, предадимся бегу\n",
      "\n",
      "Нетерпеливого коня\n",
      "\n",
      "И навестим поля пустые,\n",
      "\n",
      "Леса, недавно столь густые,\n",
      "\n",
      "И берег, милый для меня.\n",
      "\n",
      "\n",
      "\n",
      "1829 г.\n"
     ]
    }
   ],
   "source": [
    "# Чтение построчно - символ окончания строки - \\n\n",
    "file_name = '../../Основы Python/python_homeworks/lesson_009/python_snippets/pushkin.txt'\n",
    "file = open(file_name, mode='r', encoding='utf8')\n",
    "for line in file:  # если файл огромный - будет читать только строку\n",
    "    print(line)\n",
    "# file.close()"
   ]
  },
  {
   "cell_type": "markdown",
   "metadata": {},
   "source": [
    "Почему текст при таком выводе получается разреженным? Потому что функция `print` по умолчанию в конце добавляет симво конца строки (`\\n`). Чтобы этого избежать, достаточно задать в параметр `end=''` (пустую строку) функции `print`"
   ]
  },
  {
   "cell_type": "code",
   "execution_count": 62,
   "metadata": {
    "scrolled": true
   },
   "outputs": [
    {
     "name": "stdout",
     "output_type": "stream",
     "text": [
      "Зимнее утро\n",
      "\n",
      "Мороз и солнце; день чудесный!\n",
      "Еще ты дремлешь, друг прелестный —\n",
      "Пора, красавица, проснись:\n",
      "Открой сомкнуты негой взоры\n",
      "Навстречу северной Авроры,\n",
      "Звездою севера явись!\n",
      "\n",
      "Вечор, ты помнишь, вьюга злилась,\n",
      "На мутном небе мгла носилась;\n",
      "Луна, как бледное пятно,\n",
      "Сквозь тучи мрачные желтела,\n",
      "И ты печальная сидела —\n",
      "А нынче... погляди в окно:\n",
      "\n",
      "Под голубыми небесами\n",
      "Великолепными коврами,\n",
      "Блестя на солнце, снег лежит;\n",
      "Прозрачный лес один чернеет,\n",
      "И ель сквозь иней зеленеет,\n",
      "И речка подо льдом блестит.\n",
      "\n",
      "Вся комната янтарным блеском\n",
      "Озарена. Веселым треском\n",
      "Трещит затопленная печь.\n",
      "Приятно думать у лежанки.\n",
      "Но знаешь: не велеть ли в санки\n",
      "Кобылку бурую запречь?\n",
      "\n",
      "Скользя по утреннему снегу,\n",
      "Друг милый, предадимся бегу\n",
      "Нетерпеливого коня\n",
      "И навестим поля пустые,\n",
      "Леса, недавно столь густые,\n",
      "И берег, милый для меня.\n",
      "\n",
      "1829 г."
     ]
    }
   ],
   "source": [
    "file.seek(0, io.SEEK_SET) # вернёмся к началу файла\n",
    "for line in file:\n",
    "    print(line, end='') # изменяем конец строки\n",
    "file.close()"
   ]
  },
  {
   "cell_type": "markdown",
   "metadata": {},
   "source": [
    "Во многих случая используется построчное чтение файлов т.к. это очень удобно - не надо читать фесь файл целиком, а можно двигаться построчно в цикле. Под капотом просиходит буферизация при чтении файла с диска (загружается сразу большой кусок в размере 4КБ (в зависимости от ОС) - и далее происходит чтение из этого буфера из памяти)."
   ]
  },
  {
   "cell_type": "code",
   "execution_count": 63,
   "metadata": {
    "scrolled": true
   },
   "outputs": [
    {
     "name": "stdout",
     "output_type": "stream",
     "text": [
      "Зимнее утро\n",
      "\n",
      "\n",
      "\n",
      "Мороз и солнце; день чудесный!\n",
      "\n",
      "Еще ты дремлешь, друг прелестный —\n",
      "\n",
      "Пора, красавица, проснись:\n",
      "\n",
      "Открой сомкнуты негой взоры\n",
      "\n",
      "Навстречу северной Авроры,\n",
      "\n",
      "Звездою севера явись!\n",
      "\n",
      "\n",
      "\n",
      "Вечор, ты помнишь, вьюга злилась,\n",
      "\n",
      "На мутном небе мгла носилась;\n",
      "\n",
      "Луна, как бледное пятно,\n",
      "\n",
      "Сквозь тучи мрачные желтела,\n",
      "\n",
      "И ты печальная сидела —\n",
      "\n",
      "А нынче... погляди в окно:\n",
      "\n",
      "\n",
      "\n",
      "Под голубыми небесами\n",
      "\n",
      "Великолепными коврами,\n",
      "\n",
      "Блестя на солнце, снег лежит;\n",
      "\n",
      "Прозрачный лес один чернеет,\n",
      "\n",
      "И ель сквозь иней зеленеет,\n",
      "\n",
      "И речка подо льдом блестит.\n",
      "\n",
      "\n",
      "\n",
      "Вся комната янтарным блеском\n",
      "\n",
      "Озарена. Веселым треском\n",
      "\n",
      "Трещит затопленная печь.\n",
      "\n",
      "Приятно думать у лежанки.\n",
      "\n",
      "Но знаешь: не велеть ли в санки\n",
      "\n",
      "Кобылку бурую запречь?\n",
      "\n",
      "\n",
      "\n",
      "Скользя по утреннему снегу,\n",
      "\n",
      "Друг милый, предадимся бегу\n",
      "\n",
      "Нетерпеливого коня\n",
      "\n",
      "И навестим поля пустые,\n",
      "\n",
      "Леса, недавно столь густые,\n",
      "\n",
      "И берег, милый для меня.\n",
      "\n",
      "\n",
      "\n",
      "1829 г.\n"
     ]
    }
   ],
   "source": [
    "# еще вариант\n",
    "file_name = '../../Основы Python/python_homeworks/lesson_009/python_snippets/pushkin.txt'\n",
    "file = open(file_name, mode='r', encoding='utf8')\n",
    "for line in file.readlines():  # если файл огромный - все прочитает в память, не делайте так!\n",
    "    print(line)\n",
    "file.close()"
   ]
  },
  {
   "cell_type": "markdown",
   "metadata": {},
   "source": [
    "Метод `readlines` возвращает **класс** **`list`**, т.е. это список, состоящий из строк всего файла. Мы загружаем в память массив, содержащий в себе весь файл. Если файл большой, то лучше так не делать, т.к. может переполниться память. Но этот метод ускоряет доступ и мы можем работать с объектом как с обычным списком (удалять, добавлять в него объекты и т.д.). Если файл небольшой, то этот метод использовать полезно."
   ]
  },
  {
   "cell_type": "code",
   "execution_count": 65,
   "metadata": {},
   "outputs": [
    {
     "name": "stdout",
     "output_type": "stream",
     "text": [
      "Красавица найдена в строке: Пора, красавица, проснись:\n",
      "\n"
     ]
    }
   ],
   "source": [
    "# еще вариант - алгоритм поиска фрагмента в тексте\n",
    "file_name = '../../Основы Python/python_homeworks/lesson_009/python_snippets/pushkin.txt'\n",
    "file = open(file_name, mode='r', encoding='utf8')\n",
    "line = True\n",
    "while line:\n",
    "    line = file.readline()\n",
    "    if 'красавица' in line:\n",
    "        print('Красавица найдена в строке:', line)\n",
    "        break\n",
    "else:\n",
    "    print('Тут красавиц нет')\n",
    "file.close()"
   ]
  },
  {
   "cell_type": "markdown",
   "metadata": {},
   "source": [
    "Во всех вышеприведённых вариантах всегда надо следить за тем, чтобы файл был закрыт при выходе из программы. И всё время не забывать про метод `close` после завершения работы с файлом. В этом есть недостаток, т.к. мы можем забыть закрыть файл. А это плохо. И нам не видно, закрыт ли уже файл или ещё нет (но есть метод `closed`).\n",
    "\n",
    "### Работа с файлами при помощи оператора **with**\n",
    "Но есть и другой способ открытия файлов: - при помощи оператора **`with`**. Он позволяет контролировать вход в блок кода и выход из него. И он автоматически закрывает файл.\n",
    "\n",
    "Блок кода `with`:\n",
    "\n",
    "    with open(file_name, mode='r') as file:\n",
    "        for line in file:\n",
    "            print(line)"
   ]
  },
  {
   "cell_type": "code",
   "execution_count": 66,
   "metadata": {
    "scrolled": true
   },
   "outputs": [
    {
     "name": "stdout",
     "output_type": "stream",
     "text": [
      "Зимнее утро\n",
      "\n",
      "\n",
      "\n",
      "Мороз и солнце; день чудесный!\n",
      "\n",
      "Еще ты дремлешь, друг прелестный —\n",
      "\n",
      "Пора, красавица, проснись:\n",
      "\n",
      "Открой сомкнуты негой взоры\n",
      "\n",
      "Навстречу северной Авроры,\n",
      "\n",
      "Звездою севера явись!\n",
      "\n",
      "\n",
      "\n",
      "Вечор, ты помнишь, вьюга злилась,\n",
      "\n",
      "На мутном небе мгла носилась;\n",
      "\n",
      "Луна, как бледное пятно,\n",
      "\n",
      "Сквозь тучи мрачные желтела,\n",
      "\n",
      "И ты печальная сидела —\n",
      "\n",
      "А нынче... погляди в окно:\n",
      "\n",
      "\n",
      "\n",
      "Под голубыми небесами\n",
      "\n",
      "Великолепными коврами,\n",
      "\n",
      "Блестя на солнце, снег лежит;\n",
      "\n",
      "Прозрачный лес один чернеет,\n",
      "\n",
      "И ель сквозь иней зеленеет,\n",
      "\n",
      "И речка подо льдом блестит.\n",
      "\n",
      "\n",
      "\n",
      "Вся комната янтарным блеском\n",
      "\n",
      "Озарена. Веселым треском\n",
      "\n",
      "Трещит затопленная печь.\n",
      "\n",
      "Приятно думать у лежанки.\n",
      "\n",
      "Но знаешь: не велеть ли в санки\n",
      "\n",
      "Кобылку бурую запречь?\n",
      "\n",
      "\n",
      "\n",
      "Скользя по утреннему снегу,\n",
      "\n",
      "Друг милый, предадимся бегу\n",
      "\n",
      "Нетерпеливого коня\n",
      "\n",
      "И навестим поля пустые,\n",
      "\n",
      "Леса, недавно столь густые,\n",
      "\n",
      "И берег, милый для меня.\n",
      "\n",
      "\n",
      "\n",
      "1829 г.\n",
      "True\n"
     ]
    }
   ],
   "source": [
    "file_name = '../../Основы Python/python_homeworks/lesson_009/python_snippets/pushkin.txt'\n",
    "with open(file_name, mode='r', encoding='utf8') as file:\n",
    "    for line in file:\n",
    "        print(line)\n",
    "print(file.closed)"
   ]
  },
  {
   "cell_type": "markdown",
   "metadata": {},
   "source": [
    "Мы видим, что в конце файл был закрыт автоматически (метод `file.closed` вернул `True`). И что бы ни произошло внутри файла (например, ошибка, или если сработает исключение и произойдёт выход из блока оператора `with`, - файл тут же будет автоматически закрыт. И это очень удобно и полезно."
   ]
  },
  {
   "cell_type": "markdown",
   "metadata": {},
   "source": [
    "**`with`** в общем случае работает с [**контекстными менеджерами**](https://goo.gl/J2TZRq)\n",
    "\n",
    "Что такое **контекстные менеджеры**?\\\n",
    "Поднимемся на уровень абстракций. Предположим, у нас есть какой-то *класс*, у которого определы два *спецметода*: `__enter__` и `__exit__`. И тогда этот *класс* будет **контекстным менеджером** - и его можно будет использовать с оператором `with`.\\\n",
    "Когда мы входим в блок кода, - автоматически вызывается интерпретатором python'а определнный в этом *классе* метод `__enter__` (метод входа), а когда мы выходим из блока кода, - вызывается метод `__exit__` (метод выхода).\\\n",
    "У метода `__exit__` есть параметры, которые интерпретатор подставляет сам, если внутри блока кода оператора **`with`** возникло ***исключение***. И мы можем обрабатывать ***исключения*** благодаря этому.\n"
   ]
  },
  {
   "cell_type": "code",
   "execution_count": 72,
   "metadata": {},
   "outputs": [
    {
     "name": "stdout",
     "output_type": "stream",
     "text": [
      "Входим в блок кода\n",
      "Некоторый код\n",
      "Выполяем метод обьекта InOutBlock\n",
      "Выходим из блока кода\n"
     ]
    }
   ],
   "source": [
    "class InOutBlock: # создаём класс для работы с контекстным менеджером\n",
    "\n",
    "    def __enter__(self):\n",
    "        print('Входим в блок кода')\n",
    "        # TODO обратите внимание что тут надо вернуть обьект - в видео это пропущено\n",
    "        return self\n",
    "\n",
    "    def __exit__(self, exc_type, exc_val, exc_tb):\n",
    "        print('Выходим из блока кода')\n",
    "\n",
    "    def some_method(self):\n",
    "        print('Выполяем метод обьекта InOutBlock')\n",
    "\n",
    "\n",
    "with InOutBlock() as in_out: # работает с классом как с объектом контекстного менеджера\n",
    "    # in_out = InOutBlock() # присвоили имя in_out для работы внутри блока кода оператора with\n",
    "    print('Некоторый код')\n",
    "    in_out.some_method()"
   ]
  },
  {
   "cell_type": "markdown",
   "metadata": {},
   "source": [
    "То есть обьект файла реализует интерфейс **контекстного менеджера** и закрывает файл при выходе из блока кода.\n",
    "\n",
    "Работа с **менеджерами контекста** очень удобна когда мы работаем с такими ресусами как *сетевые соединения* или *базы данных*, где нам необходимо следить всё рвемя за тем, чтобы ресурс всё время освобождался после обращения к нему. В этом случае **менеджер контекста** очень помогает. А при работе с файлами - оператор **`with`** наиболее часто применим и удобен."
   ]
  },
  {
   "cell_type": "markdown",
   "metadata": {},
   "source": [
    "*Итак, мы изучили основные способы работы с файлами. Рассмотрели несколько способов. Но самый классный способ - это с помощью оператора **`with`**. А также разобрались с тем, что из себя представляет этот оператор. Оператор **`with`** работает с **контекстными менеджерами**.*"
   ]
  },
  {
   "cell_type": "markdown",
   "metadata": {},
   "source": [
    "## **9.6** *Форматирование строк*\n",
    "### Форматирование вывода на консоль\n",
    "Рассмотрим несколько способов форматирования (оформления) строк:\n",
    "* Старый стиль: `'строка с %-форматом' % (значение)`\n",
    "* Новый стиль: `'строка с {}-форматом'.format(значение)`\n",
    "* Новейший стиль: `f'строка с {значение}'`\n",
    "\n",
    "#### Старый стиль: **%**. Аналог С-форматирования функции printf()"
   ]
  },
  {
   "cell_type": "code",
   "execution_count": 73,
   "metadata": {},
   "outputs": [
    {
     "name": "stdout",
     "output_type": "stream",
     "text": [
      "Мы — те рыцари, что говорят \"Ха!\"\n",
      "Вывод числа 34\n"
     ]
    }
   ],
   "source": [
    "print('Мы — те %s, что говорят \"%s!\"' % ('рыцари', 'Ха'))\n",
    "print('Вывод числа %d' % 34)"
   ]
  },
  {
   "cell_type": "markdown",
   "metadata": {},
   "source": [
    ">* Плюсы: программистам на С проще :)\n",
    ">* Минусы: негибкий, мало возможностей.\n",
    "\n",
    "#### Более продвинутый способ - через метод строки **.format()**"
   ]
  },
  {
   "cell_type": "code",
   "execution_count": 75,
   "metadata": {},
   "outputs": [
    {
     "name": "stdout",
     "output_type": "stream",
     "text": [
      "Мы — те рыцари, что говорят \"Ха!\"\n"
     ]
    }
   ],
   "source": [
    "print('Мы — те {}, что говорят \"{}!\"'.format('рыцари', 'Ха'))"
   ]
  },
  {
   "cell_type": "code",
   "execution_count": 76,
   "metadata": {},
   "outputs": [
    {
     "name": "stdout",
     "output_type": "stream",
     "text": [
      "Мы — те рыцари, что говорят \"Ого!\"\n",
      "Мы — те Ого, что говорят \"рыцари!\"\n"
     ]
    }
   ],
   "source": [
    "# Можно указывать номер выводимого параметра\n",
    "a = 'рыцари'\n",
    "b = 'Ого'\n",
    "print('Мы — те {0}, что говорят \"{1}!\"'.format(a, b))\n",
    "# и менять местами\n",
    "print('Мы — те {1}, что говорят \"{0}!\"'.format(a, b))"
   ]
  },
  {
   "cell_type": "code",
   "execution_count": 77,
   "metadata": {},
   "outputs": [
    {
     "name": "stdout",
     "output_type": "stream",
     "text": [
      "Вывод числа 27\n",
      "Вывод числа 27\n",
      "Вывод числа \" 27\" \n",
      " 1   1    1 \n",
      " 2   4    8 \n",
      " 3   9   27 \n",
      " 4  16   64 \n",
      " 5  25  125 \n",
      " 6  36  216 \n",
      " 7  49  343 \n",
      " 8  64  512 \n",
      " 9  81  729 \n",
      "10 100 1000 \n"
     ]
    }
   ],
   "source": [
    "# вывод целых чисел\n",
    "a = 27\n",
    "print('Вывод числа {0}'.format(a)) # число преобразуется к строке\n",
    "print('Вывод числа {0:d}'.format(a)) # выводим число, если переменная будет не число, тогда выбросится исключение ValueError\n",
    "\n",
    "# сколько символов выводить - указываем после двоеточия (дополняется пробелами сначала)\n",
    "print('Вывод числа \"{0:3d}\" '.format(a))\n",
    "for x in range(1, 11):\n",
    "    print('{0:2d} {1:3d} {2:4d} '.format(x, x**2, x**3))"
   ]
  },
  {
   "cell_type": "code",
   "execution_count": 106,
   "metadata": {},
   "outputs": [
    {
     "data": {
      "text/plain": [
       "'1'"
      ]
     },
     "execution_count": 106,
     "metadata": {},
     "output_type": "execute_result"
    }
   ],
   "source": [
    "# у объектов класса int и float есть спец-метод __str__ для перевода в строку\n",
    "a = 1\n",
    "a.__str__()"
   ]
  },
  {
   "cell_type": "code",
   "execution_count": 81,
   "metadata": {},
   "outputs": [
    {
     "name": "stdout",
     "output_type": "stream",
     "text": [
      "Вывод числа \"3.141593\" \n",
      "Вывод числа \" 3.14\" \n",
      "Вывод числа \"    3.14\" \n"
     ]
    }
   ],
   "source": [
    "# вывод дробного числа с заданной точностью\n",
    "# :8.4f - 8 знаков всего, 4 знака после запятой, дробное число\n",
    "import math\n",
    "print('Вывод числа \"{0:5f}\" '.format(math.pi))\n",
    "print('Вывод числа \"{0:5.2f}\" '.format(math.pi))\n",
    "print('Вывод числа \"{0:8.2f}\" '.format(math.pi))"
   ]
  },
  {
   "cell_type": "code",
   "execution_count": 82,
   "metadata": {},
   "outputs": [
    {
     "name": "stdout",
     "output_type": "stream",
     "text": [
      "Этот фарш — непередаваемо ужасен.\n"
     ]
    }
   ],
   "source": [
    "# именованные аргументы\n",
    "print('Этот {food} — {adjective}.'.format(\n",
    "    food='фарш', adjective='непередаваемо ужасен'\n",
    "))"
   ]
  },
  {
   "cell_type": "code",
   "execution_count": 83,
   "metadata": {},
   "outputs": [
    {
     "name": "stdout",
     "output_type": "stream",
     "text": [
      "Этот фарш                 — непередаваемо ужасен.\n"
     ]
    }
   ],
   "source": [
    "# можно также заполнить пробелами\n",
    "print('Этот {food:20} — {adjective}.'.format(\n",
    "    food='фарш', adjective='непередаваемо ужасен'\n",
    "))"
   ]
  },
  {
   "cell_type": "markdown",
   "metadata": {},
   "source": [
    ">Стоит отметить, что для строк выравнивание идёт слева (а пробелы добавляются справа), а для чисел - наоборот, выравнивание справа, а слева добавляются пробелы"
   ]
  },
  {
   "cell_type": "code",
   "execution_count": 85,
   "metadata": {},
   "outputs": [
    {
     "name": "stdout",
     "output_type": "stream",
     "text": [
      "История о Билле, Манфреде, и Георге.\n"
     ]
    }
   ],
   "source": [
    "# можно совмещать\n",
    "print('История о {0}е, {1}е, и {other}е.'.format('Билл', 'Манфред', other='Георг'))"
   ]
  },
  {
   "cell_type": "code",
   "execution_count": 86,
   "metadata": {},
   "outputs": [
    {
     "name": "stdout",
     "output_type": "stream",
     "text": [
      "Bill       ==>       4127\n",
      "Jameson    ==>       4098\n",
      "Abraham    ==>       7678\n"
     ]
    }
   ],
   "source": [
    "# форматирование вывода строк - минимальная ширина поля {xxx:10}\n",
    "phones = {'Bill': 4127, 'Jameson': 4098, 'Abraham': 7678}\n",
    "for name, phone in phones.items():\n",
    "    print('{name:10} ==> {phone:10d}'.format(name=name, phone=phone))"
   ]
  },
  {
   "cell_type": "code",
   "execution_count": 87,
   "metadata": {},
   "outputs": [
    {
     "name": "stdout",
     "output_type": "stream",
     "text": [
      "|left aligned                  |\n",
      "|                 right aligned|\n",
      "|           centered           |\n",
      "|***********centered***********|\n"
     ]
    }
   ],
   "source": [
    "# выравнивания строк\n",
    "print('|{txt:<30}|'.format(txt='left aligned')) # знак < указывает направление выравнивания - влево\n",
    "# 'left aligned                  '\n",
    "print('|{txt:>30}|'.format(txt='right aligned')) # знак < указывает направление выравнивания - вправо\n",
    "# '                 right aligned'\n",
    "print('|{txt:^30}|'.format(txt='centered')) # знак ^ указывает направление выравнивания - по центру\n",
    "# '           centered           '\n",
    "print('|{txt:*^30}|'.format(txt='centered'))  # use '*' as a fill char\n",
    "# '***********centered***********'"
   ]
  },
  {
   "cell_type": "code",
   "execution_count": 94,
   "metadata": {},
   "outputs": [
    {
     "name": "stdout",
     "output_type": "stream",
     "text": [
      "|+00000000000000000000000000010|\n"
     ]
    }
   ],
   "source": [
    "print('|{txt:0=+30}|'.format(txt=10)) "
   ]
  },
  {
   "cell_type": "markdown",
   "metadata": {},
   "source": [
    "Полное описание мини-языка форматирования [тут](https://docs.python.org/3/library/string.html#formatspec)\n",
    "\n",
    "#### Новейший метод **f-строки**\n",
    "В версии 3.6 ввели **f-строки** - такие строки, в которых можно указывать переменные пайтона или даже пайтон выражения.\\\n",
    "Описание [тут](https://docs.python.org/3.6/reference/lexical_analysis.html#formatted-string-literals)\n",
    "\n",
    "**f-строки** очень похожи на `.format()`, но только сначала вычисляется python-выражение, а потом применяется форматирование\\\n",
    "тут `txt` - это имя переменной"
   ]
  },
  {
   "cell_type": "code",
   "execution_count": 96,
   "metadata": {},
   "outputs": [
    {
     "name": "stdout",
     "output_type": "stream",
     "text": [
      "************строка************\n"
     ]
    }
   ],
   "source": [
    "# перед строкой добавляется спецификатор форматирования f\n",
    "txt = 'строка'\n",
    "print(f'{txt:*^30}')"
   ]
  },
  {
   "cell_type": "markdown",
   "metadata": {},
   "source": [
    "Можно так - писать код внутри строки"
   ]
  },
  {
   "cell_type": "code",
   "execution_count": 100,
   "metadata": {},
   "outputs": [
    {
     "name": "stdout",
     "output_type": "stream",
     "text": [
      "Удвоенное значение переменной -         68\n"
     ]
    }
   ],
   "source": [
    "var_1 = 34\n",
    "print(f'Удвоенное значение переменной - {var_1 * 2:10d}')"
   ]
  },
  {
   "cell_type": "code",
   "execution_count": 101,
   "metadata": {},
   "outputs": [
    {
     "name": "stdout",
     "output_type": "stream",
     "text": [
      "Третий элемент списка -          3\n",
      "Значение словаря -          1\n"
     ]
    }
   ],
   "source": [
    "# можно даже делать операции индексирования\n",
    "my_list = [1, 2, 3, 4]\n",
    "print(f'Третий элемент списка - {my_list[2]:10d}')\n",
    "my_dict = {'a': 1, 'b': 2}\n",
    "print(f\"Значение словаря - {my_dict['a']:10d}\")\n",
    "# или вызывать функции... но лучше так не делать :)"
   ]
  },
  {
   "cell_type": "markdown",
   "metadata": {},
   "source": [
    "Т.е. внутри f-строки может вычисляться любой python-код. И это круто! HO...\\\n",
    "Не надо усложнять и заставлять читающего код читать сложные перл-подобные выражение при выводе.\\\n",
    "Один из постулатов пайтона - чем проще тем лучше. И поэтому вместо"
   ]
  },
  {
   "cell_type": "code",
   "execution_count": 102,
   "metadata": {},
   "outputs": [
    {
     "name": "stdout",
     "output_type": "stream",
     "text": [
      "Значение переменной var_1 - 34\n"
     ]
    }
   ],
   "source": [
    "print('Значение переменной var_1 - {}'.format(var_1))"
   ]
  },
  {
   "cell_type": "markdown",
   "metadata": {},
   "source": [
    "проще использовать"
   ]
  },
  {
   "cell_type": "code",
   "execution_count": 103,
   "metadata": {},
   "outputs": [
    {
     "name": "stdout",
     "output_type": "stream",
     "text": [
      "Значение переменной var_1 - 34\n"
     ]
    }
   ],
   "source": [
    "print(f'Значение переменной var_1 - {var_1}')"
   ]
  },
  {
   "cell_type": "code",
   "execution_count": 104,
   "metadata": {},
   "outputs": [
    {
     "name": "stdout",
     "output_type": "stream",
     "text": [
      "************строка************\n"
     ]
    }
   ],
   "source": [
    "# для разрешения имен используются стандартный алгоритм поиска по области видимости\n",
    "def f1():\n",
    "    print(f'{var_2:*^30}')\n",
    "\n",
    "\n",
    "var_2 = 'строка'\n",
    "f1()"
   ]
  },
  {
   "cell_type": "markdown",
   "metadata": {},
   "source": [
    "Форматирование вывода в файл ничем не отличается от форматирования вывода на консоль\\\n",
    "Мы так же формируем строку удобным способом и пишем её в файл"
   ]
  },
  {
   "cell_type": "code",
   "execution_count": 109,
   "metadata": {},
   "outputs": [],
   "source": [
    "file_name = '../../Основы Python/python_homeworks/lesson_009/python_snippets/out.txt'\n",
    "var_1 = 42\n",
    "with open(file_name, mode='w', encoding='utf8') as file:\n",
    "    file.write('Вывод числа %d' % 34)\n",
    "    file.write('\\n')\n",
    "    file.write('Мы — те {}, что говорят \"{}!\"'.format('рыцари', 'Ха'))\n",
    "    file.write('\\n')\n",
    "    file.write(f'Значение переменной var_1 - {var_1:10}')\n",
    "    file.write('\\n')"
   ]
  },
  {
   "cell_type": "markdown",
   "metadata": {},
   "source": [
    "*Итак, мы посмотрели как можно форматировать строки. Наконец-то узнали что такое `.format`, чем отличается от `%`. А также познакомились с* ***`f-строками`***.\\\n",
    "*И как с помощью этих нововведений можно выстрелить себе в ногу. И рассмотрели как можно форматированные строки не только выводить на консоль, но и записывать в файл.*"
   ]
  },
  {
   "cell_type": "markdown",
   "metadata": {},
   "source": [
    "## **9.7** *Файлы в операционной системе*"
   ]
  },
  {
   "cell_type": "markdown",
   "metadata": {},
   "source": [
    "Продолжаем изучать файлы\n",
    "\n",
    "### Файлы в операционной системе\n",
    "* Файлы живут в файловой системе: папка, путь, права\n",
    "* В Python есть модули для работы с файлами в ОС: **`os`**, **`os.paht`**, **`sys`**\n",
    "\n",
    "Все файлы лежат на диске и имеют путь в файловой системе. Как работать с файлами на уровне ОС?\\\n",
    "Есть встроенные модули для этого: **os**, **os.path**, **shutil**\\\n",
    "Пригодятся они для написания скриптов-аналогов bash (.bat файлов в Windows).\\\n",
    "Т.е. мы можем делать на Python автоматизацию каких-нибудь действий с ОС.\n",
    "\n",
    "#### Самая удобная функция для прохода по всем файлам - это функция **`os.walk`**"
   ]
  },
  {
   "cell_type": "code",
   "execution_count": 5,
   "metadata": {},
   "outputs": [
    {
     "name": "stdout",
     "output_type": "stream",
     "text": [
      "C:\\Windows\\help ['Corporate', 'en-US', 'Help', 'mui', 'OEM', 'Windows'] []\n",
      "C:\\Windows\\help\\Corporate [] []\n",
      "C:\\Windows\\help\\en-US [] ['credits.rtf']\n",
      "C:\\Windows\\help\\Help [] []\n",
      "C:\\Windows\\help\\mui ['0409', '0419'] []\n",
      "C:\\Windows\\help\\mui\\0409 [] ['cliconf.chm', 'mmc.CHM', 'msdasc.chm', 'msorcl32.chm', 'odbcinst.chm', 'odbcjet.chm', 'sqlsodbc.chm', 'sqlsoldb.chm']\n",
      "C:\\Windows\\help\\mui\\0419 [] ['cliconf.chm', 'mmc.CHM', 'msdasc.chm', 'msorcl32.chm', 'odbcinst.chm', 'odbcjet.chm', 'sqlsodbc.chm', 'sqlsoldb.chm']\n",
      "C:\\Windows\\help\\OEM ['ContentStore', 'IndexStore'] []\n",
      "C:\\Windows\\help\\OEM\\ContentStore [] []\n",
      "C:\\Windows\\help\\OEM\\IndexStore [] []\n",
      "C:\\Windows\\help\\Windows ['ContentStore', 'IndexStore'] []\n",
      "C:\\Windows\\help\\Windows\\ContentStore ['en-US'] []\n",
      "C:\\Windows\\help\\Windows\\ContentStore\\en-US [] []\n",
      "C:\\Windows\\help\\Windows\\IndexStore ['en-US'] []\n",
      "C:\\Windows\\help\\Windows\\IndexStore\\en-US [] []\n"
     ]
    }
   ],
   "source": [
    "import os\n",
    "\n",
    "path = 'C:\\\\Windows\\\\help' # обратные слэши необходимо экранировать \\\n",
    "\n",
    "# Пройтись по всем файлам в директории.\n",
    "for dirpath, dirnames, filenames in os.walk(path): # os.walk возвращает кортеж из трёх элементов\n",
    "    print(dirpath, dirnames, filenames)"
   ]
  },
  {
   "cell_type": "code",
   "execution_count": 9,
   "metadata": {},
   "outputs": [
    {
     "name": "stdout",
     "output_type": "stream",
     "text": [
      "C:\\Windows\\help ['Corporate', 'en-US', 'Help', 'mui', 'OEM', 'Windows'] []\n",
      "C:\\Windows\\help\\Corporate [] []\n",
      "C:\\Windows\\help\\en-US [] ['credits.rtf']\n",
      "C:\\Windows\\help\\Help [] []\n",
      "C:\\Windows\\help\\mui ['0409', '0419'] []\n",
      "C:\\Windows\\help\\mui\\0409 [] ['cliconf.chm', 'mmc.CHM', 'msdasc.chm', 'msorcl32.chm', 'odbcinst.chm', 'odbcjet.chm', 'sqlsodbc.chm', 'sqlsoldb.chm']\n",
      "C:\\Windows\\help\\mui\\0419 [] ['cliconf.chm', 'mmc.CHM', 'msdasc.chm', 'msorcl32.chm', 'odbcinst.chm', 'odbcjet.chm', 'sqlsodbc.chm', 'sqlsoldb.chm']\n",
      "C:\\Windows\\help\\OEM ['ContentStore', 'IndexStore'] []\n",
      "C:\\Windows\\help\\OEM\\ContentStore [] []\n",
      "C:\\Windows\\help\\OEM\\IndexStore [] []\n",
      "C:\\Windows\\help\\Windows ['ContentStore', 'IndexStore'] []\n",
      "C:\\Windows\\help\\Windows\\ContentStore ['en-US'] []\n",
      "C:\\Windows\\help\\Windows\\ContentStore\\en-US [] []\n",
      "C:\\Windows\\help\\Windows\\IndexStore ['en-US'] []\n",
      "C:\\Windows\\help\\Windows\\IndexStore\\en-US [] []\n",
      "17\n"
     ]
    }
   ],
   "source": [
    "# Посчитаем количество файлов, найденных в директории по пути path\n",
    "count = 0\n",
    "for dirpath, dirnames, filenames in os.walk(path): # os.walk возвращает кортеж из трёх элементов\n",
    "    print(dirpath, dirnames, filenames)\n",
    "    count += len(filenames)\n",
    "print(count)"
   ]
  },
  {
   "cell_type": "markdown",
   "metadata": {},
   "source": [
    "Т.е. мы можем в каждой директории ОС искать файлы, читать эти файлы, а также писать в них при помощи функции `open`"
   ]
  },
  {
   "cell_type": "code",
   "execution_count": 12,
   "metadata": {},
   "outputs": [
    {
     "name": "stdout",
     "output_type": "stream",
     "text": [
      "C:\\Windows\\help\n"
     ]
    }
   ],
   "source": [
    "# В разных ОС путь записывается по разному: привести к нужному в этой ОС виду\n",
    "path = 'C:/Windows/help'\n",
    "path_normalized = os.path.normpath(path)\n",
    "print(path_normalized)"
   ]
  },
  {
   "cell_type": "code",
   "execution_count": 13,
   "metadata": {},
   "outputs": [
    {
     "name": "stdout",
     "output_type": "stream",
     "text": [
      "C:\\Windows\\help ['Corporate', 'en-US', 'Help', 'mui', 'OEM', 'Windows'] []\n",
      "C:\\Windows\\help\\Corporate [] []\n",
      "C:\\Windows\\help\\en-US [] ['credits.rtf']\n",
      "C:\\Windows\\help\\Help [] []\n",
      "C:\\Windows\\help\\mui ['0409', '0419'] []\n",
      "C:\\Windows\\help\\mui\\0409 [] ['cliconf.chm', 'mmc.CHM', 'msdasc.chm', 'msorcl32.chm', 'odbcinst.chm', 'odbcjet.chm', 'sqlsodbc.chm', 'sqlsoldb.chm']\n",
      "C:\\Windows\\help\\mui\\0419 [] ['cliconf.chm', 'mmc.CHM', 'msdasc.chm', 'msorcl32.chm', 'odbcinst.chm', 'odbcjet.chm', 'sqlsodbc.chm', 'sqlsoldb.chm']\n",
      "C:\\Windows\\help\\OEM ['ContentStore', 'IndexStore'] []\n",
      "C:\\Windows\\help\\OEM\\ContentStore [] []\n",
      "C:\\Windows\\help\\OEM\\IndexStore [] []\n",
      "C:\\Windows\\help\\Windows ['ContentStore', 'IndexStore'] []\n",
      "C:\\Windows\\help\\Windows\\ContentStore ['en-US'] []\n",
      "C:\\Windows\\help\\Windows\\ContentStore\\en-US [] []\n",
      "C:\\Windows\\help\\Windows\\IndexStore ['en-US'] []\n",
      "C:\\Windows\\help\\Windows\\IndexStore\\en-US [] []\n",
      "17\n"
     ]
    }
   ],
   "source": [
    "count = 0\n",
    "for dirpath, dirnames, filenames in os.walk(path_normalized):\n",
    "    print(dirpath, dirnames, filenames)\n",
    "    count += len(filenames)\n",
    "print(count)"
   ]
  },
  {
   "cell_type": "markdown",
   "metadata": {},
   "source": [
    "Это очень удобный инструмент при портировании кода на другие ОС, отличные от той, где мы пишем свой\n",
    "\n",
    "#### Ещё одна полезная фунция для получения размера файла **`getsize`**"
   ]
  },
  {
   "cell_type": "code",
   "execution_count": 19,
   "metadata": {},
   "outputs": [
    {
     "data": {
      "text/plain": [
       "0"
      ]
     },
     "execution_count": 19,
     "metadata": {},
     "output_type": "execute_result"
    }
   ],
   "source": [
    "# Получить размер файла\n",
    "os.path.getsize(path)"
   ]
  },
  {
   "cell_type": "code",
   "execution_count": 30,
   "metadata": {},
   "outputs": [
    {
     "name": "stdout",
     "output_type": "stream",
     "text": [
      "file \t\t size \n",
      "-----------------------\n",
      "credits.rtf \t 351960\n",
      "cliconf.chm \t 94637\n",
      "mmc.CHM \t 19113\n",
      "msdasc.chm \t 76837\n",
      "msorcl32.chm \t 75209\n",
      "odbcinst.chm \t 78636\n",
      "odbcjet.chm \t 87270\n",
      "sqlsodbc.chm \t 73848\n",
      "sqlsoldb.chm \t 63938\n",
      "cliconf.chm \t 96810\n",
      "mmc.CHM \t 50113\n",
      "msdasc.chm \t 77767\n",
      "msorcl32.chm \t 75622\n",
      "odbcinst.chm \t 81037\n",
      "odbcjet.chm \t 93892\n",
      "sqlsodbc.chm \t 74238\n",
      "sqlsoldb.chm \t 64205\n"
     ]
    }
   ],
   "source": [
    "# Пример\n",
    "print('file', '\\t\\t', 'size', '\\n-----------------------')\n",
    "for dirpath, dirnames, filenames in os.walk(path_normalized):\n",
    "    if filenames:\n",
    "        for file in filenames:\n",
    "            filesize = os.path.getsize(dirpath + '\\\\' + file)            \n",
    "            print(file, '\\t', filesize)"
   ]
  },
  {
   "cell_type": "markdown",
   "metadata": {},
   "source": [
    "#### Следующая функция позволяет получить дату модификации файла **`getmtime`**"
   ]
  },
  {
   "cell_type": "code",
   "execution_count": 35,
   "metadata": {},
   "outputs": [
    {
     "data": {
      "text/plain": [
       "1552971164.5801115"
      ]
     },
     "execution_count": 35,
     "metadata": {},
     "output_type": "execute_result"
    }
   ],
   "source": [
    "# Получить дату coздания файла.\n",
    "os.path.getctime(path)"
   ]
  },
  {
   "cell_type": "code",
   "execution_count": 36,
   "metadata": {},
   "outputs": [
    {
     "data": {
      "text/plain": [
       "1552995266.7996798"
      ]
     },
     "execution_count": 36,
     "metadata": {},
     "output_type": "execute_result"
    }
   ],
   "source": [
    "# Получить дату модификации файла.\n",
    "os.path.getmtime(path)"
   ]
  },
  {
   "cell_type": "code",
   "execution_count": 44,
   "metadata": {},
   "outputs": [
    {
     "name": "stdout",
     "output_type": "stream",
     "text": [
      "file \t\t datetime \n",
      "-----------------------------------\n",
      "credits.rtf \t 1552995242.1947381\n",
      "cliconf.chm \t 1560595617.5641735\n",
      "mmc.CHM \t 1560595692.3439052\n",
      "msdasc.chm \t 1560595621.9385831\n",
      "msorcl32.chm \t 1560595659.10198\n",
      "odbcinst.chm \t 1560595618.42368\n",
      "odbcjet.chm \t 1560595659.0863328\n",
      "sqlsodbc.chm \t 1560595617.6895752\n",
      "sqlsoldb.chm \t 1560595617.595855\n",
      "cliconf.chm \t 1552995235.1432874\n",
      "mmc.CHM \t 1552995242.2151158\n",
      "msdasc.chm \t 1552995235.1432874\n",
      "msorcl32.chm \t 1552995237.8180714\n",
      "odbcinst.chm \t 1552995235.1432874\n",
      "odbcjet.chm \t 1552995237.8180714\n",
      "sqlsodbc.chm \t 1552995235.1432874\n",
      "sqlsoldb.chm \t 1552995235.1432874\n",
      "-----------------------------------\n",
      "files count:\t 17\n"
     ]
    }
   ],
   "source": [
    "count = 0\n",
    "print('file', '\\t\\t', 'datetime', '\\n-----------------------------------')\n",
    "for dirpath, dirnames, filenames in os.walk(path_normalized):\n",
    "    count += len(filenames)\n",
    "    for file in filenames:\n",
    "        filedate = os.path.getctime(dirpath + '\\\\' + file)            \n",
    "        print(file, '\\t', filedate)\n",
    "print('-----------------------------------\\nfiles count:\\t', count)"
   ]
  },
  {
   "cell_type": "markdown",
   "metadata": {},
   "source": [
    "Но что это за странные числа выводятся? Это **количество секунд которые прошли с начала Эпохи**.\\\n",
    "В компьютерных системах есть понятие **Эпох**. Было решено хранить время в секундах от начала **Эпохи** (компьютерной эпохи имеется ввиду).\\\n",
    "Началом Эпохи был выбран момент **1 января 1970 года**.\\\n",
    "Т.е. получается, функция **`getctime`** возвращает количество секунд прошедших с начала Эпохи до момента когда был создан этот файл.\n",
    "\n",
    "Но это неочень удобно для восприятия.\\\n",
    "Чтобы вернуть значение преобразованное в удобную дату, потребууется модуль **`time`**\\\n",
    "В нём есть функция `gmtime`, которая возвращает кортеж со временем. (Подробнее см. [тут](https://docs.python.org/3/library/time.html#time.struct_time))"
   ]
  },
  {
   "cell_type": "code",
   "execution_count": 46,
   "metadata": {},
   "outputs": [
    {
     "data": {
      "text/plain": [
       "time.struct_time(tm_year=2019, tm_mon=3, tm_mday=19, tm_hour=11, tm_min=33, tm_sec=55, tm_wday=1, tm_yday=78, tm_isdst=0)"
      ]
     },
     "execution_count": 46,
     "metadata": {},
     "output_type": "execute_result"
    }
   ],
   "source": [
    "# Вернет кол-во секунд с начала эпохи. преобразовать в года/месяца можно так\n",
    "import time\n",
    "\n",
    "secs = filedate\n",
    "time.gmtime(secs)  # вернет кортеж со временем"
   ]
  },
  {
   "cell_type": "code",
   "execution_count": 54,
   "metadata": {},
   "outputs": [
    {
     "name": "stdout",
     "output_type": "stream",
     "text": [
      "file \t\t datetime \n",
      "------------------------------------------------------------------------------------------------------------------------------------------\n",
      "credits.rtf \t time.struct_time(tm_year=2019, tm_mon=3, tm_mday=19, tm_hour=11, tm_min=34, tm_sec=2, tm_wday=1, tm_yday=78, tm_isdst=0)\n",
      "cliconf.chm \t time.struct_time(tm_year=2019, tm_mon=6, tm_mday=15, tm_hour=10, tm_min=46, tm_sec=57, tm_wday=5, tm_yday=166, tm_isdst=0)\n",
      "mmc.CHM \t time.struct_time(tm_year=2019, tm_mon=6, tm_mday=15, tm_hour=10, tm_min=48, tm_sec=12, tm_wday=5, tm_yday=166, tm_isdst=0)\n",
      "msdasc.chm \t time.struct_time(tm_year=2019, tm_mon=6, tm_mday=15, tm_hour=10, tm_min=47, tm_sec=1, tm_wday=5, tm_yday=166, tm_isdst=0)\n",
      "msorcl32.chm \t time.struct_time(tm_year=2019, tm_mon=6, tm_mday=15, tm_hour=10, tm_min=47, tm_sec=39, tm_wday=5, tm_yday=166, tm_isdst=0)\n",
      "odbcinst.chm \t time.struct_time(tm_year=2019, tm_mon=6, tm_mday=15, tm_hour=10, tm_min=46, tm_sec=58, tm_wday=5, tm_yday=166, tm_isdst=0)\n",
      "odbcjet.chm \t time.struct_time(tm_year=2019, tm_mon=6, tm_mday=15, tm_hour=10, tm_min=47, tm_sec=39, tm_wday=5, tm_yday=166, tm_isdst=0)\n",
      "sqlsodbc.chm \t time.struct_time(tm_year=2019, tm_mon=6, tm_mday=15, tm_hour=10, tm_min=46, tm_sec=57, tm_wday=5, tm_yday=166, tm_isdst=0)\n",
      "sqlsoldb.chm \t time.struct_time(tm_year=2019, tm_mon=6, tm_mday=15, tm_hour=10, tm_min=46, tm_sec=57, tm_wday=5, tm_yday=166, tm_isdst=0)\n",
      "cliconf.chm \t time.struct_time(tm_year=2019, tm_mon=3, tm_mday=19, tm_hour=11, tm_min=33, tm_sec=55, tm_wday=1, tm_yday=78, tm_isdst=0)\n",
      "mmc.CHM \t time.struct_time(tm_year=2019, tm_mon=3, tm_mday=19, tm_hour=11, tm_min=34, tm_sec=2, tm_wday=1, tm_yday=78, tm_isdst=0)\n",
      "msdasc.chm \t time.struct_time(tm_year=2019, tm_mon=3, tm_mday=19, tm_hour=11, tm_min=33, tm_sec=55, tm_wday=1, tm_yday=78, tm_isdst=0)\n",
      "msorcl32.chm \t time.struct_time(tm_year=2019, tm_mon=3, tm_mday=19, tm_hour=11, tm_min=33, tm_sec=57, tm_wday=1, tm_yday=78, tm_isdst=0)\n",
      "odbcinst.chm \t time.struct_time(tm_year=2019, tm_mon=3, tm_mday=19, tm_hour=11, tm_min=33, tm_sec=55, tm_wday=1, tm_yday=78, tm_isdst=0)\n",
      "odbcjet.chm \t time.struct_time(tm_year=2019, tm_mon=3, tm_mday=19, tm_hour=11, tm_min=33, tm_sec=57, tm_wday=1, tm_yday=78, tm_isdst=0)\n",
      "sqlsodbc.chm \t time.struct_time(tm_year=2019, tm_mon=3, tm_mday=19, tm_hour=11, tm_min=33, tm_sec=55, tm_wday=1, tm_yday=78, tm_isdst=0)\n",
      "sqlsoldb.chm \t time.struct_time(tm_year=2019, tm_mon=3, tm_mday=19, tm_hour=11, tm_min=33, tm_sec=55, tm_wday=1, tm_yday=78, tm_isdst=0)\n",
      "------------------------------------------------------------------------------------------------------------------------------------------\n",
      "files count:\t 17\n"
     ]
    }
   ],
   "source": [
    "count = 0\n",
    "print('file', '\\t\\t', 'datetime', '\\n' + '-' * 138)\n",
    "for dirpath, dirnames, filenames in os.walk(path_normalized):\n",
    "    count += len(filenames)\n",
    "    for file in filenames:\n",
    "        secs = os.path.getctime(dirpath + '\\\\' + file)\n",
    "        filedate = time.gmtime(secs)\n",
    "        print(file, '\\t', filedate)\n",
    "print('-' * 138 + '\\nfiles count:\\t', count)"
   ]
  },
  {
   "cell_type": "code",
   "execution_count": 60,
   "metadata": {},
   "outputs": [
    {
     "name": "stdout",
     "output_type": "stream",
     "text": [
      "file \t\t datetime \n",
      "------------------------------------------------------------------------------------------------------------------------------------------\n",
      "credits.rtf \t time.struct_time(tm_year=2019, tm_mon=3, tm_mday=19, tm_hour=11, tm_min=34, tm_sec=2, tm_wday=1, tm_yday=78, tm_isdst=0)\n",
      "cliconf.chm \t time.struct_time(tm_year=2019, tm_mon=3, tm_mday=19, tm_hour=11, tm_min=33, tm_sec=55, tm_wday=1, tm_yday=78, tm_isdst=0)\n",
      "mmc.CHM \t time.struct_time(tm_year=2019, tm_mon=3, tm_mday=19, tm_hour=11, tm_min=34, tm_sec=2, tm_wday=1, tm_yday=78, tm_isdst=0)\n",
      "msdasc.chm \t time.struct_time(tm_year=2019, tm_mon=3, tm_mday=19, tm_hour=11, tm_min=33, tm_sec=55, tm_wday=1, tm_yday=78, tm_isdst=0)\n",
      "msorcl32.chm \t time.struct_time(tm_year=2019, tm_mon=3, tm_mday=19, tm_hour=11, tm_min=33, tm_sec=57, tm_wday=1, tm_yday=78, tm_isdst=0)\n",
      "odbcinst.chm \t time.struct_time(tm_year=2019, tm_mon=3, tm_mday=19, tm_hour=11, tm_min=33, tm_sec=55, tm_wday=1, tm_yday=78, tm_isdst=0)\n",
      "odbcjet.chm \t time.struct_time(tm_year=2019, tm_mon=3, tm_mday=19, tm_hour=11, tm_min=33, tm_sec=57, tm_wday=1, tm_yday=78, tm_isdst=0)\n",
      "sqlsodbc.chm \t time.struct_time(tm_year=2019, tm_mon=3, tm_mday=19, tm_hour=11, tm_min=33, tm_sec=55, tm_wday=1, tm_yday=78, tm_isdst=0)\n",
      "sqlsoldb.chm \t time.struct_time(tm_year=2019, tm_mon=3, tm_mday=19, tm_hour=11, tm_min=33, tm_sec=55, tm_wday=1, tm_yday=78, tm_isdst=0)\n",
      "------------------------------------------------------------------------------------------------------------------------------------------\n",
      "files count:\t 9\n"
     ]
    }
   ],
   "source": [
    "# Отфильтруем только те файлы, которые были созданы в матре 2019 года\n",
    "count = 0\n",
    "print('file', '\\t\\t', 'datetime', '\\n' + '-' * 138)\n",
    "for dirpath, dirnames, filenames in os.walk(path_normalized):\n",
    "    for file in filenames:\n",
    "        secs = os.path.getctime(dirpath + '\\\\' + file)\n",
    "        filedate = time.gmtime(secs)\n",
    "        if filedate.tm_year == 2019 and filedate.tm_mon == 3:\n",
    "            print(file, '\\t', filedate)\n",
    "            count += 1\n",
    "print('-' * 138 + '\\nfiles count:\\t', count)"
   ]
  },
  {
   "cell_type": "markdown",
   "metadata": {},
   "source": [
    ">Функции работы с файлами достаточно низкоуровневые, поэтому мы работаем с *секундами*"
   ]
  },
  {
   "cell_type": "markdown",
   "metadata": {},
   "source": [
    "#### Как сформировать правильный путь к файлу или директории с учётом особенностей ОС\n",
    "\n",
    "До этого мы использовали *убогий* метод: `путь к директории, в которой лежит файл + '\\\\' + название файла`.\\\n",
    "Это *костыль*. Есть более лаконичный и красивый сбособ это сделать.\\\n",
    "Для этого используем функцию `path.join` из модуля `os`:\n",
    "\n",
    "    os.path.join(path1[, path2[, ...]])"
   ]
  },
  {
   "cell_type": "code",
   "execution_count": 72,
   "metadata": {},
   "outputs": [
    {
     "name": "stdout",
     "output_type": "stream",
     "text": [
      "file \t\t datetime \n",
      "------------------------------------------------------------------------------------------------------------------------------------------\n",
      "credits.rtf \t time.struct_time(tm_year=2019, tm_mon=3, tm_mday=19, tm_hour=11, tm_min=34, tm_sec=2, tm_wday=1, tm_yday=78, tm_isdst=0)\n",
      "cliconf.chm \t time.struct_time(tm_year=2019, tm_mon=3, tm_mday=19, tm_hour=11, tm_min=33, tm_sec=55, tm_wday=1, tm_yday=78, tm_isdst=0)\n",
      "mmc.CHM \t time.struct_time(tm_year=2019, tm_mon=3, tm_mday=19, tm_hour=11, tm_min=34, tm_sec=2, tm_wday=1, tm_yday=78, tm_isdst=0)\n",
      "msdasc.chm \t time.struct_time(tm_year=2019, tm_mon=3, tm_mday=19, tm_hour=11, tm_min=33, tm_sec=55, tm_wday=1, tm_yday=78, tm_isdst=0)\n",
      "msorcl32.chm \t time.struct_time(tm_year=2019, tm_mon=3, tm_mday=19, tm_hour=11, tm_min=33, tm_sec=57, tm_wday=1, tm_yday=78, tm_isdst=0)\n",
      "odbcinst.chm \t time.struct_time(tm_year=2019, tm_mon=3, tm_mday=19, tm_hour=11, tm_min=33, tm_sec=55, tm_wday=1, tm_yday=78, tm_isdst=0)\n",
      "odbcjet.chm \t time.struct_time(tm_year=2019, tm_mon=3, tm_mday=19, tm_hour=11, tm_min=33, tm_sec=57, tm_wday=1, tm_yday=78, tm_isdst=0)\n",
      "sqlsodbc.chm \t time.struct_time(tm_year=2019, tm_mon=3, tm_mday=19, tm_hour=11, tm_min=33, tm_sec=55, tm_wday=1, tm_yday=78, tm_isdst=0)\n",
      "sqlsoldb.chm \t time.struct_time(tm_year=2019, tm_mon=3, tm_mday=19, tm_hour=11, tm_min=33, tm_sec=55, tm_wday=1, tm_yday=78, tm_isdst=0)\n",
      "------------------------------------------------------------------------------------------------------------------------------------------\n",
      "files count:\t 9\n"
     ]
    }
   ],
   "source": [
    "# Перепишем код без костылей для задания путей к файлам\n",
    "count = 0\n",
    "print('file', '\\t\\t', 'datetime', '\\n' + '-' * 138)\n",
    "for dirpath, dirnames, filenames in os.walk(path_normalized):\n",
    "    for file in filenames:\n",
    "        full_path = os.path.join(dirpath, file) # функция join сама подставляет нужны слеши объединяя файл и путь к нему\n",
    "        secs = os.path.getctime(full_path)\n",
    "        filedate = time.gmtime(secs)\n",
    "        if filedate.tm_year == 2019 and filedate.tm_mon == 3:\n",
    "            print(file, '\\t', filedate)\n",
    "            count += 1\n",
    "print('-' * 138 + '\\nfiles count:\\t', count)"
   ]
  },
  {
   "cell_type": "markdown",
   "metadata": {},
   "source": [
    "#### Ещё какие полезняшки есть"
   ]
  },
  {
   "cell_type": "code",
   "execution_count": 71,
   "metadata": {},
   "outputs": [
    {
     "data": {
      "text/plain": [
       "'C:/Windows'"
      ]
     },
     "execution_count": 71,
     "metadata": {},
     "output_type": "execute_result"
    }
   ],
   "source": [
    "# получить родительскую директорию\n",
    "os.path.dirname(path)"
   ]
  },
  {
   "cell_type": "code",
   "execution_count": null,
   "metadata": {},
   "outputs": [],
   "source": [
    "# получить родительскую директорию текущего модуля\n",
    "os.path.dirname(__file__)"
   ]
  },
  {
   "cell_type": "markdown",
   "metadata": {},
   "source": [
    ">***Примечание***: спецметод `__file__` не работает в среде **Jupyter Notebook**\\\n",
    "\n",
    "Вместо этого, можно использовать следующий способ"
   ]
  },
  {
   "cell_type": "code",
   "execution_count": 86,
   "metadata": {},
   "outputs": [
    {
     "name": "stdout",
     "output_type": "stream",
     "text": [
      "D:\\Курсы\\Skillbox\\Data Science\\03-09. Основы Python \t D:\\Курсы\\Skillbox\\Data Science\n"
     ]
    }
   ],
   "source": [
    "current_path = os.getcwd()\n",
    "print(current_path, '\\t', os.path.dirname(current_path))"
   ]
  },
  {
   "cell_type": "markdown",
   "metadata": {},
   "source": [
    "Все директории, которые охватывает область видимости (*scope*) Python'a можно вывести при помощи модуля **'sys'**"
   ]
  },
  {
   "cell_type": "code",
   "execution_count": 88,
   "metadata": {},
   "outputs": [
    {
     "data": {
      "text/plain": [
       "['D:\\\\Курсы\\\\Skillbox\\\\Data Science\\\\03-09. Основы Python',\n",
       " 'C:\\\\Users\\\\greym\\\\anaconda3\\\\python38.zip',\n",
       " 'C:\\\\Users\\\\greym\\\\anaconda3\\\\DLLs',\n",
       " 'C:\\\\Users\\\\greym\\\\anaconda3\\\\lib',\n",
       " 'C:\\\\Users\\\\greym\\\\anaconda3',\n",
       " '',\n",
       " 'C:\\\\Users\\\\greym\\\\anaconda3\\\\lib\\\\site-packages',\n",
       " 'C:\\\\Users\\\\greym\\\\anaconda3\\\\lib\\\\site-packages\\\\win32',\n",
       " 'C:\\\\Users\\\\greym\\\\anaconda3\\\\lib\\\\site-packages\\\\win32\\\\lib',\n",
       " 'C:\\\\Users\\\\greym\\\\anaconda3\\\\lib\\\\site-packages\\\\Pythonwin',\n",
       " 'C:\\\\Users\\\\greym\\\\anaconda3\\\\lib\\\\site-packages\\\\IPython\\\\extensions',\n",
       " 'C:\\\\Users\\\\greym\\\\.ipython']"
      ]
     },
     "execution_count": 88,
     "metadata": {},
     "output_type": "execute_result"
    }
   ],
   "source": [
    "import sys\n",
    "\n",
    "sys.path"
   ]
  },
  {
   "cell_type": "markdown",
   "metadata": {},
   "source": [
    "Мы рассмотрели самые основные функции работы с файлами в ОС. Остальные можно посмотерть [тут](https://goo.gl/AB6aDQ)\n",
    "\n",
    "*Итак, мы познакомились в этом уроке с тем, как работать с файлами в ОС и какие функции нам помогают в этом.\\\n",
    "Теперь мы умеем \"гулять\" по каталогам файловой системы, открывать файлы, читать у них атрибуты (имя, размер, время создания, ... можно ещё права доступа).\\\n",
    "И теперь у нас вся ОС как на ладони. ***Но при условии, если у нас есть права(!)***. (Перед тем как выполнить операцию ОС проверяет, есть ли у нас права на эту операцию).*"
   ]
  },
  {
   "cell_type": "markdown",
   "metadata": {},
   "source": [
    "## **9.8 - 9.9** *Практика. Часть 1 - Часть 2*\n",
    "\n",
    "* Разберём работу с файлом на примере генератора текста\n",
    "* Посмотрим, как работать с файлами в ОС\n",
    "\n",
    "**Задание**: Сделать генератор текста на основе статистики\n",
    ">Идея проста: подсчитаем какие буквы наиболее часто стоят рядом\\\n",
    ">Точнее, подсчитаем как часто за буковой Х идет буква У, на основе некоего текста.\\\n",
    ">После этого начнем с произвольной буквы и каждую следующую будем выбирать в зависимости от частоты её появления в статистике."
   ]
  },
  {
   "cell_type": "code",
   "execution_count": 6,
   "metadata": {},
   "outputs": [],
   "source": [
    "import os\n",
    "import zipfile\n",
    "from random import randint\n",
    "\n",
    "\n",
    "class Chatterer:  # чат-болтальщик\n",
    "    analize_count = 4  # задаём количество символов в анализируемой последовательности в статистике символов\n",
    "\n",
    "    def __init__(self, file_name):\n",
    "        self.file_name = file_name\n",
    "        self.stat = {}\n",
    "\n",
    "    def unzip(self):\n",
    "        # раззиповка файла, запуск построчного цикла\n",
    "        zfile = zipfile.ZipFile(self.file_name, 'r')\n",
    "        for filename in zfile.namelist():\n",
    "            zfile.extract(filename)\n",
    "        self.file_name = filename\n",
    "\n",
    "    def collect(self):\n",
    "        # сбор статистики\n",
    "        if self.file_name.endswith('.zip'):  # если файл заканчивается на '.zip'\n",
    "            self.unzip()  # то раззиповываем его\n",
    "        self.sequence = ' ' * self.analize_count  # длина строки из пробелов\n",
    "        with open(self.file_name, 'r', encoding='cp1251') as file:\n",
    "            for line in file:\n",
    "                self._collect_for_line(line=line[:-1])  # берём строку без возврата каретки ('\\n')\n",
    "\n",
    "    def _collect_for_line(self, line):\n",
    "        # в каждой строчке файлов по каждому символу считаем статистику\n",
    "        for char in line:\n",
    "            if self.sequence in self.stat:\n",
    "                if char in self.stat[self.sequence]:\n",
    "                    self.stat[self.sequence][char] += 1\n",
    "                else:\n",
    "                    self.stat[self.sequence][char] = 1\n",
    "            else:\n",
    "                self.stat[self.sequence] = {char: 1}\n",
    "            self.sequence = self.sequence[1:] + char\n",
    "\n",
    "    def prepare(self):\n",
    "        # сбор статисткики в два словаря\n",
    "        self.totals = {}\n",
    "        self.stat_for_generate = {}\n",
    "        for sequence, char_stat in self.stat.items():\n",
    "            self.totals[sequence] = 0\n",
    "            self.stat_for_generate[sequence] = []\n",
    "            for char, count in char_stat.items():\n",
    "                self.totals[sequence] += count\n",
    "                self.stat_for_generate[sequence].append([count, char])\n",
    "                self.stat_for_generate[sequence].sort(reverse=True)\n",
    "\n",
    "    def chat(self, N=1000, out_file_name=None):\n",
    "        # генератор символов\n",
    "        if out_file_name is not None:  # если имя файла задано\n",
    "            file = open(out_file_name, 'w', encoding='utf8')\n",
    "        else:\n",
    "            file = None\n",
    "\n",
    "        self._chars_operator(N, file)\n",
    "        if file:\n",
    "            file.close()\n",
    "\n",
    "    def _chars_operator(self, N, file):\n",
    "        # метод для оценки символов и записи их в файл или на консоль\n",
    "        printed = 0\n",
    "        sequence = ' ' * self.analize_count  # задаём последовательность символов, предшествующих текущему символу\n",
    "        spaces_printed = 0\n",
    "        while printed < N:\n",
    "            char = self._get_char(char_stat=self.stat_for_generate[sequence], total=self.totals[sequence])\n",
    "            if file:\n",
    "                file.write(char)  # если задан файл, то пишем в файл\n",
    "            else:\n",
    "                print(char, end='')  # иначе, выводим на консоль\n",
    "            if char == ' ':\n",
    "                spaces_printed += 1  # подсчёт количества пробелов, которые встретились\n",
    "                if spaces_printed >= 10:  # если пробелов в строке более 10\n",
    "                    if file:\n",
    "                        file.write('\\n')  # тогда пишем в файл вовзрат каретки\n",
    "                    else:\n",
    "                        print()  # иначе, перенос строки при выводе на консоль\n",
    "                    spaces_printed = 0\n",
    "            printed += 1\n",
    "            sequence = sequence[1:] + char\n",
    "\n",
    "    @staticmethod\n",
    "    def _get_char(char_stat, total):\n",
    "        # генерация случайного выбора символа\n",
    "        dice = randint(1, total)\n",
    "        pos = 0\n",
    "        for count, char in char_stat:\n",
    "            pos += count\n",
    "            if dice <= pos: # если выпавшее значение меньше текущей позиции, то у нас выпал этот char\n",
    "                break # и тогда выходим из цикла\n",
    "        return char\n",
    "\n",
    "\n",
    "file_path = '../../Основы Python/python_homeworks/lesson_009/python_snippets'  # путь к директории с файлом\n",
    "chatterer = Chatterer(file_name=os.path.join(file_path, 'voyna-i-mir.txt.zip'))  # создаём класс с параметрами\n",
    "chatterer.collect()  # собрать статистику\n",
    "chatterer.prepare()  # подготовить\n",
    "chatterer.chat(N=10000, out_file_name=os.path.join(file_path, 'out.txt'))  # запуск генератора текста с заданным количеством символов и запись\n",
    "# реультата в файл out.txt"
   ]
  },
  {
   "cell_type": "markdown",
   "metadata": {},
   "source": [
    "## **9.10** *Итоги модуля*\n",
    "\n",
    "### Итак, мы изучили\n",
    "* Кодировку символов (узначи что такое *UTF-8* (Unicode), *ASCII*)\n",
    "* Отличие строк от последовательности байтов\n",
    "* Как можно читать и писать файлы в разных режимах\n",
    "* Позиционирование в файле\n",
    "* Оператор **`with`** (оператор работы с **контекстным менеджером**)\n",
    "* Форматирование строк (старый стиль с **`%`**, новый стиль с **`format`** и новеший стиль **`f-строки`**)\n",
    "* Управление файлами на уровне ОС (работа с путями файлов в ОС, атрибутами файлов и т.д.)"
   ]
  }
 ],
 "metadata": {
  "kernelspec": {
   "display_name": "Python 3",
   "language": "python",
   "name": "python3"
  },
  "language_info": {
   "codemirror_mode": {
    "name": "ipython",
    "version": 3
   },
   "file_extension": ".py",
   "mimetype": "text/x-python",
   "name": "python",
   "nbconvert_exporter": "python",
   "pygments_lexer": "ipython3",
   "version": "3.8.3"
  }
 },
 "nbformat": 4,
 "nbformat_minor": 4
}
