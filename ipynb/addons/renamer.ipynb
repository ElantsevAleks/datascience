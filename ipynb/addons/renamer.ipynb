{
 "cells": [
  {
   "cell_type": "code",
   "execution_count": 1,
   "metadata": {},
   "outputs": [],
   "source": [
    "import os, sys, glob, re\n",
    "\n",
    "path = re.search(r'.*Data Science', sys.path[0]).group() # путь базовой директории\n",
    "dirs = glob.glob(path + '/**/hw#*', recursive=True) # список всех поддиректорий рекурсивно\n",
    "for dr in dirs[-2:]:\n",
    "    numReg = re.compile(r'(\\d+)[(](\\d+)') # регулярка для поиска директорий с домашками\n",
    "    num1, num2 = map(int, numReg.search(dr).groups()) # вытаскиваем нумерацию\n",
    "    new_dir = numReg.sub(f'{num1+1}({num2}', dr) # новый путь и название директории\n",
    "    os.rename(dr, new_dir) # переименовываем директорию"
   ]
  },
  {
   "cell_type": "code",
   "execution_count": 2,
   "metadata": {},
   "outputs": [
    {
     "data": {
      "text/plain": [
       "['D:\\\\Курсы\\\\Skillbox\\\\Data Science\\\\01. Введение в Data Science\\\\hw#1(1)',\n",
       " 'D:\\\\Курсы\\\\Skillbox\\\\Data Science\\\\02. Введение в Python\\\\hw#2(2)',\n",
       " 'D:\\\\Курсы\\\\Skillbox\\\\Data Science\\\\03-9. Основы Python\\\\hw#3(4)',\n",
       " 'D:\\\\Курсы\\\\Skillbox\\\\Data Science\\\\03-9. Основы Python\\\\hw#4(5)',\n",
       " 'D:\\\\Курсы\\\\Skillbox\\\\Data Science\\\\03-9. Основы Python\\\\hw#5(6)',\n",
       " 'D:\\\\Курсы\\\\Skillbox\\\\Data Science\\\\03-9. Основы Python\\\\hw#7(8)',\n",
       " 'D:\\\\Курсы\\\\Skillbox\\\\Data Science\\\\03-9. Основы Python\\\\hw#8(9)',\n",
       " 'D:\\\\Курсы\\\\Skillbox\\\\Data Science\\\\07. Мастер-класс_воронки\\\\hw#6(7)',\n",
       " 'D:\\\\Курсы\\\\Skillbox\\\\Data Science\\\\10-11. Билбиотека NumPy ч.1-2\\\\hw#10(11)',\n",
       " 'D:\\\\Курсы\\\\Skillbox\\\\Data Science\\\\10-11. Билбиотека NumPy ч.1-2\\\\hw#9(10)',\n",
       " 'D:\\\\Курсы\\\\Skillbox\\\\Data Science\\\\12-13. Билбиотека Pandas ч.1-2\\\\hw#11(12)',\n",
       " 'D:\\\\Курсы\\\\Skillbox\\\\Data Science\\\\12-13. Билбиотека Pandas ч.1-2\\\\hw#12(13)',\n",
       " 'D:\\\\Курсы\\\\Skillbox\\\\Data Science\\\\14. Визуализация данных с помощью Matplotlib\\\\hw#13(14)',\n",
       " 'D:\\\\Курсы\\\\Skillbox\\\\Data Science\\\\15. Мастер класс разведочный анализ (EDA)\\\\hw#14(15)',\n",
       " 'D:\\\\Курсы\\\\Skillbox\\\\Data Science\\\\16. Чтение и запись данных ч.1\\\\hw#15(16)',\n",
       " 'D:\\\\Курсы\\\\Skillbox\\\\Data Science\\\\16. Чтение и запись данных ч.1\\\\Dzhumurat\\\\hw#1516)',\n",
       " 'D:\\\\Курсы\\\\Skillbox\\\\Data Science\\\\17. Основы SQL\\\\hw#16(17)',\n",
       " 'D:\\\\Курсы\\\\Skillbox\\\\Data Science\\\\18. Чтение и запись данных ч.2\\\\hw#17(18)',\n",
       " 'D:\\\\Курсы\\\\Skillbox\\\\Data Science\\\\19. Работа со строками\\\\hw#18(19)']"
      ]
     },
     "execution_count": 2,
     "metadata": {},
     "output_type": "execute_result"
    }
   ],
   "source": [
    "glob.glob(path + '/**/hw#*', recursive=True)"
   ]
  }
 ],
 "metadata": {
  "kernelspec": {
   "display_name": "Python 3",
   "language": "python",
   "name": "python3"
  },
  "language_info": {
   "codemirror_mode": {
    "name": "ipython",
    "version": 3
   },
   "file_extension": ".py",
   "mimetype": "text/x-python",
   "name": "python",
   "nbconvert_exporter": "python",
   "pygments_lexer": "ipython3",
   "version": "3.8.3"
  }
 },
 "nbformat": 4,
 "nbformat_minor": 4
}
